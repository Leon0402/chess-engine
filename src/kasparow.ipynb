{
 "cells": [
  {
   "cell_type": "code",
   "execution_count": null,
   "metadata": {},
   "outputs": [],
   "source": [
    "from IPython.core.display import HTML\n",
    "with open('style.css') as file:\n",
    "    css = file.read()\n",
    "HTML(css)"
   ]
  },
  {
   "cell_type": "markdown",
   "metadata": {},
   "source": [
    "# Introduction"
   ]
  },
  {
   "cell_type": "markdown",
   "metadata": {},
   "source": [
    "## Research Objectives\n",
    "\n",
    "The main goal of this work is the development of a fully functional chess engine. One of the main parts, the implementation of the chess rules as well as the graphical representation of the chess game, will be provided by the `python-chess` library. Thus, this work concentrates on the actual implementation of artificial intelligence. \n",
    "\n",
    "Chess Engines that can outperform even the best human players, such as the latest `Stockfish` engine, usually use a combination of symbolic AI and machine learning to achieve the best results. Additionally, they also use high-performance computers. \n",
    "The objective is by no means here to compete with these engines, there will be no machine learning involved nor will the developed chess engine use a high-performance PC. Instead, the focus is on exploring various symbolic AI techniques and using chess as a demonstration for those. {cite}`stockfishGithub`\n",
    "\n",
    "For the evaluation of chess positions, the (Simple Evaluation Function by Tomasz Michniewski)[https://www.chessprogramming.org/Simplified_Evaluation_Function] will be used. In combination with the alpha-beta-pruning algorithm and transposition tables, it forms the foundation of the chess engine. To achieve acceptable performance, the engine will be enhanced by using a quiescence search. \n",
    "Additional Enhancements such as the inclusion of chess books for openings and end games will be examined. "
   ]
  },
  {
   "cell_type": "markdown",
   "metadata": {},
   "source": [
    "## Structure\n",
    "\n",
    "How this work is structured -> fill out later"
   ]
  },
  {
   "cell_type": "markdown",
   "metadata": {},
   "source": [
    "# Project Setup\n",
    "\n",
    "One great advantage of python is the number of already built-in features such as native JSON or YAML support. Nevertheless, in almost all python projects there is some need to install additional third-party libraries. Most of these are available in the python package index (PyPi) and can easily be installed with the tool `pip`. \n",
    "These dependencies might require a specific platform, python version or even other dependencies in some specific versions. Newer versions of the libraries might not always be compatible with older versions. In a collaborative project, it is therefore essential to specify the dependencies and their version. Pip has a built-in way to do this by writing all installed dependencies and their version to a requirements.txt file with the command `pip freeze > requirements.txt`. Another developer can then install exactly these dependencies with the command `pip install -r requirements.txt`. \n",
    "\n",
    "The main problem with this approach is that all dependencies will be installed globally and therefore might conflict with other packages. Additionally, `requirements.txt` will also contain all globally installed dependencies. To avoid these problems it is a common approach to create a virtual environment for each project. Some popular tools for creating and managing virtual environments are `virtualenv` and `pyenv`, both work well with `pip` and `requirements.txt`\n",
    "\n",
    "Although this setup works in general it has the problem of being rather complex and error-prone. There are multiple tools needed and possibly documentation on how to use these in the project. Additionally, the workflow is not enforced by the tools, there is no need to name the file `requirements.txt` nor to even keep it up to date and therefore error-prone. Additional requirements such as building or publishing the package, although not relevant for this project, need additional tools. \n",
    "\n",
    "To deal with these issues there exist several tools operating on a higher level and combining the single tools. Some of the more popular tools are `Pipenv` and `Poetry`. Both are suitable for this project, but `Poetry` was chosen as it's already known by the authors. With poetry metadata and dependencies are listed in a `poetry.toml` file. The command `poetry install` will read the file and write a resolution of the dependencies and their version constraints to a `poetry.lock` file. Then it will create a new virtual environment or use a previously created one and install the resolved dependencies. If the `poetry.lock` file already exists the already resolved dependencies will be installed directly. To run a tool inside the virtual environment, use the `poetry run` command. For more detailed information on poetry consult the (documentation)[https://python-poetry.org/docs/]. \n",
    "\n",
    "By requirement, the chess engine will be built with jupyter notebook. To execute code inside a jupyter notebook a jupyter python kernel is needed. The kernel is a dependency of the project and will be installed in the virtual environment by poetry. Additionally, it might be necessary to generate a kernel description with `poetry run python -m ipykernel install --user --name poetryenv --display-name \"Python (poetry env)\"` so the kernel can be selected in jupyter."
   ]
  },
  {
   "cell_type": "markdown",
   "metadata": {},
   "source": [
    "# Introduction to python-chess\n",
    "\n",
    "To concentrate on the actual implementation of the chess engine, the game itself and its representation are handled by the python-chess library. The most recent version 1.7.0, at the time of writing, is already specified as a dependency and will be installed in the virtual env. \n",
    "\n",
    "One of the core classes is `Board`, which specifies a single chess position and a move stack. The default constructor will create a board with the standard chess starting position and is graphically represented as ASCII when printed. "
   ]
  },
  {
   "cell_type": "code",
   "execution_count": null,
   "metadata": {},
   "outputs": [],
   "source": [
    "import chess\n",
    "\n",
    "board = chess.Board()\n",
    "print(board)"
   ]
  },
  {
   "cell_type": "markdown",
   "metadata": {},
   "source": [
    "The board's interface allows working with the move stack by using standard stack operations such as `push`, `pop` or `peek`. The next example shows how to make moves with different chess notations. For the uci notation, which specifies the position of the piece and the target position, the `chess.Move.from_uci(uci: str)` can be used in combination with `push`. For the san notation, which, in the short form, specifies the piece and target position, the function `push_san` can be used. "
   ]
  },
  {
   "cell_type": "code",
   "execution_count": null,
   "metadata": {},
   "outputs": [],
   "source": [
    "board.push_san(\"e4\")\n",
    "board.push_san(\"e5\")\n",
    "board.push_san(\"Qh5\")\n",
    "board.push_san(\"Nc6\")\n",
    "board.push(chess.Move.from_uci(\"f1c4\"))\n",
    "board.push(chess.Move.from_uci(\"g8f6\"))\n",
    "board.push(chess.Move.from_uci(\"h5f7\"))"
   ]
  },
  {
   "cell_type": "markdown",
   "metadata": {},
   "source": [
    "Again, the current position can be printed as ASCII or instead as an svg image using the builtin display function."
   ]
  },
  {
   "cell_type": "code",
   "execution_count": null,
   "metadata": {},
   "outputs": [],
   "source": [
    "board"
   ]
  },
  {
   "cell_type": "markdown",
   "metadata": {},
   "source": [
    "The above position is checkmate and is famously known as the Scholar’s mate. The library implements all chess rules and therefore allows to check that the above position is indeed checkmate with `board.is_checkmate()`. \n",
    "The board class offers a rich interface of functions and properties, such as `board.legal_moves` to get all allowed next moved or `board.is_stalemate()` to check for a stalemate, which will be introduced when needed. \n",
    "Additional features such as the inclusion of an opening book will be introduced as well when needed. "
   ]
  },
  {
   "cell_type": "markdown",
   "metadata": {},
   "source": [
    "# Random Chess Engine\n",
    "\n",
    "The simplest possible chess engine is a random engine, \n",
    "which knows the chess rules and plays any available move. \n",
    "The goal is to incrementally enhance this basic chess engine \n",
    "and let different developed chess engines play against each other in the end. "
   ]
  },
  {
   "cell_type": "markdown",
   "metadata": {},
   "source": [
    "\n",
    "The `ScoredMove` data class represents a valid chess move along with a score.\n",
    "By using the `dataclass` decorater with `order=True` python comparison methods, \n",
    "such as `__lt__()`, will be auto-generated.\n",
    "This allows to compare two scored moves or sort a list of scored moves.\n",
    "The comparison is only based on the score as the move field has `compare=False`. "
   ]
  },
  {
   "cell_type": "code",
   "execution_count": null,
   "metadata": {},
   "outputs": [],
   "source": [
    "from dataclasses import dataclass, field\n",
    "\n",
    "\n",
    "@dataclass(order=True)\n",
    "class ScoredMove:\n",
    "    \"\"\"Class for handling a move and its score.\"\"\"\n",
    "    score: int\n",
    "    move: chess.Move = field(compare=False)"
   ]
  },
  {
   "cell_type": "markdown",
   "metadata": {},
   "source": [
    "To simplify writing generic code for playing a chess game with different engines,\n",
    "all engines will implement a common interface. \n",
    "The interface `Engine`,\n",
    "which is highly inspired by `chess.engine`,\n",
    "has two abstract functions: `play` and `analyse`.\n",
    "\n",
    "The `play` function takes the current board as a parameter \n",
    "and returns a `chess.engine.PlayResult` Object, \n",
    "which contains the next move \n",
    "and information if the engine offered a draw or resigned. \n",
    "\n",
    "The `analyse` function takes the board as a parameter as well \n",
    "and returns a list of `ScoredMove` objects."
   ]
  },
  {
   "cell_type": "code",
   "execution_count": null,
   "metadata": {},
   "outputs": [],
   "source": [
    "from abc import ABC, abstractmethod\n",
    "import chess.engine\n",
    "\n",
    "\n",
    "class Engine(ABC):\n",
    "    \"\"\"Interface for chess engines\"\"\"\n",
    "    @abstractmethod\n",
    "    def play(self, board: chess.Board) -> chess.engine.PlayResult:\n",
    "        pass\n",
    "\n",
    "    @abstractmethod\n",
    "    def analyse(self, board: chess.Board) -> list[ScoredMove]:\n",
    "        pass"
   ]
  },
  {
   "cell_type": "markdown",
   "metadata": {},
   "source": [
    "The `RandomEngine` will inherit from `Engine` \n",
    "and implement both abstract methods. \n",
    "\n",
    "The `play` method will randomly select one of the legal moves \n",
    "and return it as a `chess.engine.PlayResult`. \n",
    "The usage of `analyse` in the `play` method is not strictly necessary here,\n",
    "but is the general pattern used by the following engines,\n",
    "when `analyse` gets more complex.\n",
    "\n",
    "The `RandomEngine` will inherit from `Engine` \n",
    "and implement both abstract functions. \n",
    "In the `play` function \n",
    "the engine will randomly select a move \n",
    "from the legal moves provided by the `board` object \n",
    "and return it as a `chess.engine.PlayResult`. \n",
    "The internal function `_getNextMoves` is used here \n",
    "to access the legal moves from the board. \n",
    "It's basically just a wrapper function around `board.legal_moves` \n",
    "and allows later engines to subclass and provide a different implementation.\n",
    "\n",
    "The `analyse` function \n",
    "will return all possible legal moves \n",
    "with a score of zero for each as the random engine \n",
    "does not evaluate the moves."
   ]
  },
  {
   "cell_type": "code",
   "execution_count": null,
   "metadata": {},
   "outputs": [],
   "source": [
    "import random\n",
    "import chess.engine\n",
    "\n",
    "\n",
    "class RandomEngine(Engine):\n",
    "    \"\"\"Basic chess engine playing a random legal move\"\"\"\n",
    "    def play(self, board: chess.Board) -> chess.engine.PlayResult:\n",
    "        scoredMove = random.choice(self.analyse(board))\n",
    "        return chess.engine.PlayResult(move=scoredMove.move, ponder=None)\n",
    "\n",
    "    def analyse(self, board: chess.Board) -> list[ScoredMove]:\n",
    "        return [ScoredMove(0, move) for move in board.legal_moves]"
   ]
  },
  {
   "cell_type": "markdown",
   "metadata": {},
   "source": [
    "To let two engines \n",
    "inheriting from `Engine` \n",
    "play against each other \n",
    "the `playGame` function was created. \n",
    "It takes two engines as a parameter \n",
    "and let them move alternating \n",
    "until the game is over. \n",
    "If the game is over, \n",
    "this is detected by the board function `is_game_over`. \n",
    "The function then returns the board. \n",
    "Optionally\n",
    "one can set the third parameter `displayBoard` to true \n",
    "so the board is printed \n",
    "after every move. \n",
    "Additionally, a move limit can be specified to stop after a specific number of moves.\n",
    "Both are helpful for debugging."
   ]
  },
  {
   "cell_type": "code",
   "execution_count": null,
   "metadata": {},
   "outputs": [],
   "source": [
    "import IPython.display\n",
    "import time\n",
    "from typing import Optional\n",
    "\n",
    "from datetime import datetime\n",
    "\n",
    "\n",
    "def playGame(\n",
    "    engine1: Engine,\n",
    "    engine2: Engine,\n",
    "    displayBoard: bool = False,\n",
    "    logMoves: bool = False,\n",
    "    moveLimit: Optional[int] = None\n",
    ") -> chess.Board():\n",
    "    \"\"\"Function to play two Engines against each other\n",
    "    \n",
    "    Keyword arguments:\n",
    "    displayBoard -- toggle to enable displaying the board after each half turn (default false)\n",
    "    logMoves -- toggle to create a log of moves (default false)\n",
    "    moveLimit -- optional limit of moves (default None)\n",
    "    \"\"\"\n",
    "    board = chess.Board()\n",
    "    engineTurn = engine1\n",
    "\n",
    "    logFileName = f\"../log/{datetime.isoformat(datetime.now())}.txt\"\n",
    "\n",
    "    if displayBoard:\n",
    "        IPython.display.display(board)\n",
    "\n",
    "    while not board.is_game_over():\n",
    "        move = engineTurn.play(board).move\n",
    "\n",
    "        if logMoves:\n",
    "            with open(logFileName, \"a\") as f:\n",
    "                if board.turn is chess.WHITE:\n",
    "                    f.write(board.lan(move) + \"\\t\")\n",
    "                else:\n",
    "                    f.write(board.lan(move) + \"\\n\")\n",
    "\n",
    "        board.push(move)\n",
    "\n",
    "        if engineTurn is engine1:\n",
    "            engineTurn = engine2\n",
    "        else:\n",
    "            engineTurn = engine1\n",
    "\n",
    "        if displayBoard:\n",
    "            IPython.display.clear_output(wait=True)\n",
    "            IPython.display.display(board)\n",
    "            time.sleep(0.5)\n",
    "\n",
    "        if moveLimit and len(board.move_stack) >= moveLimit:\n",
    "            break\n",
    "    return board"
   ]
  },
  {
   "cell_type": "markdown",
   "metadata": {},
   "source": [
    "Next, \n",
    "the function is called \n",
    "with two `RandomEngine` objects \n",
    "and then prints the outcome of the board \n",
    "and the end position. \n",
    "When passsing `displayBoard=True` \n",
    "one can see that both engines play without any strategy.\n",
    "\n",
    "The random number generator (RNG) depends on an inital seed. \n",
    "In the code the seed is explicitly set to create reproducible result.\n",
    "For real world applications, the seed should be set by a high entropy source."
   ]
  },
  {
   "cell_type": "code",
   "execution_count": null,
   "metadata": {},
   "outputs": [],
   "source": [
    "random.seed(42)\n",
    "board = playGame(RandomEngine(), RandomEngine())\n",
    "print(board.outcome())\n",
    "board"
   ]
  },
  {
   "cell_type": "markdown",
   "metadata": {},
   "source": [
    "# Enhanced Random Engine\n",
    "\n",
    "## Add an opening book \n",
    "\n",
    "The first improved version of `RandomEngine` \n",
    "is the `OpeningRandomEngine`,\n",
    "which will have access to an opening book. \n",
    "(Polyglot)[http://hgm.nubati.net/book_format.html] is a widespread book format for openings.\n",
    "Because a lot of open-source opening books \n",
    "in the `polyglot` format \n",
    "can be found on the internet\n",
    "and because it is supported by the `python-chess` library,\n",
    "it is used in this example. \n",
    "The repository contains some sample `polyglot` opening books.\n",
    "\n",
    "The `OpeningRandomEngine` \n",
    "inherits from `RandomEngine` \n",
    "and overwrites the `play` method. \n",
    "In the new `play` method, \n",
    "the engine first searches for moves \n",
    "in the opening book \n",
    "using the helper method `getOpeningMoves` \n",
    "and,\n",
    "if no move is found,\n",
    "falls back to the implementation of `RandomEngine`. \n",
    "The method `getOpeningMoves` \n",
    "takes the current chessboard as a parameter \n",
    "and returns a list of `ScoredMove` objects. \n",
    "It uses the `chess.polyglot.MemoryMappedReader` class \n",
    "of the `python-chess` library\n",
    "to open a `polyglot` opening book. \n",
    "The `find_all` method of the reader \n",
    "is used to search the opening book \n",
    "and create a list of scored moves. \n",
    "\n",
    "Notice, \n",
    "however, \n",
    "that the score of the move is defined by the author of the opening book and usually depends on how often and sucessfull it was played by profiecient players. \n",
    "In some rare cases, following the book, leads quickly into a draw by fivefold repition, therefore a minimum weight has been defined."
   ]
  },
  {
   "cell_type": "code",
   "execution_count": null,
   "metadata": {},
   "outputs": [],
   "source": [
    "import random\n",
    "import chess.polyglot\n",
    "\n",
    "\n",
    "class OpeningRandomEngine(RandomEngine):\n",
    "    \"\"\"Chess engine using opening books to make better moves\"\"\"\n",
    "    MIN_WEIGHT = 50\n",
    "\n",
    "    def getOpeningMoves(self, board: chess.Board) -> list[ScoredMove]:\n",
    "        with chess.polyglot.open_reader(\"../data/polyglot/ProDeo.bin\") as reader:\n",
    "            nextMoves = [\n",
    "                ScoredMove(entry.weight, entry.move)\n",
    "                for entry in reader.find_all(board)\n",
    "                if entry.weight >= self.MIN_WEIGHT\n",
    "            ]\n",
    "\n",
    "        return nextMoves\n",
    "\n",
    "    def play(self, board: chess.Board) -> chess.engine.PlayResult:\n",
    "        scoredMoves = self.getOpeningMoves(board) or self.analyse(board)\n",
    "        scoredMove = random.choice(scoredMoves)\n",
    "        return chess.engine.PlayResult(move=scoredMove.move, ponder=None)"
   ]
  },
  {
   "cell_type": "markdown",
   "metadata": {},
   "source": [
    "The `OpeningRandomEngine` can now play against the `RandomEngine`. "
   ]
  },
  {
   "cell_type": "code",
   "execution_count": null,
   "metadata": {},
   "outputs": [],
   "source": [
    "random.seed(42)\n",
    "board = playGame(OpeningRandomEngine(), RandomEngine())\n",
    "print(board.outcome())\n",
    "board"
   ]
  },
  {
   "cell_type": "markdown",
   "metadata": {},
   "source": [
    "The `OpeningRandomEngine` \n",
    "is not expected to win \n",
    "against the `RandomEngine` in general. \n",
    "The reason for this is \n",
    "the `RandomEngine` often playing bad moves \n",
    "such as `Sh6` after `d4`, \n",
    "which are usually not included in an opening book. \n",
    "The below code shows \n",
    "how to calculate the probability \n",
    "of randomly hitting the first opening move."
   ]
  },
  {
   "cell_type": "code",
   "execution_count": null,
   "metadata": {},
   "outputs": [],
   "source": [
    "board = chess.Board()\n",
    "engine = OpeningRandomEngine()\n",
    "openingMoves = engine.getOpeningMoves(board)\n",
    "probabilityFirstMove = len(openingMoves) / len(list(board.legal_moves))\n",
    "print(f\"Chance to hit opening move after the first move: {probabilityFirstMove * 100}%\")"
   ]
  },
  {
   "cell_type": "markdown",
   "metadata": {},
   "source": [
    "To calculate the probability \n",
    "of hitting two moves in a row of the opening book \n",
    "by chance\n",
    "all possible situations after the first opening move have to be examined. \n",
    "The script \n",
    "takes the average \n",
    "of possible opening moves and legal moves \n",
    "and uses those to calculate the probability."
   ]
  },
  {
   "cell_type": "code",
   "execution_count": null,
   "metadata": {},
   "outputs": [],
   "source": [
    "import statistics\n",
    "\n",
    "legalMovesSecondMove = []\n",
    "openingMovesSecondMove = []\n",
    "for scoredMove in openingMoves:\n",
    "    board.push(scoredMove.move)\n",
    "    legalMovesSecondMove.append(len(list(board.legal_moves)))\n",
    "    openingMovesSecondMove.append(len(engine.getOpeningMoves(board)))\n",
    "    board.pop()\n",
    "\n",
    "probabilitySecondMove = probabilityFirstMove * (\n",
    "    statistics.mean(openingMovesSecondMove) / statistics.mean(legalMovesSecondMove)\n",
    ")\n",
    "\n",
    "print(f\"Chance to hit opening move two times in a row: {probabilitySecondMove * 100}%\")"
   ]
  },
  {
   "cell_type": "markdown",
   "metadata": {},
   "source": [
    "To make sure \n",
    "the `OpeningRandomEngine` does only play moves \n",
    "from the opening books, \n",
    "multiple tests check the engine's choices\n",
    "against the available opening moves for different seeds."
   ]
  },
  {
   "cell_type": "code",
   "execution_count": null,
   "metadata": {},
   "outputs": [],
   "source": [
    "engine = OpeningRandomEngine()\n",
    "\n",
    "# Moves in the ProDeo Opening Book\n",
    "firstMoves = [\n",
    "    chess.Move.from_uci(\"d2d4\"), chess.Move.from_uci(\"e2e4\"), chess.Move.from_uci(\"c2c4\"), chess.Move.from_uci(\"g1f3\")\n",
    "]\n",
    "\n",
    "random.seed(0)\n",
    "board = chess.Board()\n",
    "playResult = engine.play(board)\n",
    "assert playResult.move in firstMoves, f\"Random opening engine chose the move {playResult.move} not in the opening book\"\n",
    "\n",
    "random.seed(42)\n",
    "board = chess.Board()\n",
    "playResult = engine.play(board)\n",
    "assert playResult.move in firstMoves, f\"Random opening engine chose the move {playResult.move} not in the opening book\""
   ]
  },
  {
   "cell_type": "markdown",
   "metadata": {},
   "source": [
    "# Add first evaluation function\n",
    "\n",
    "The next engine \n",
    "is the first one\n",
    "to evaluate chess positions \n",
    "to find better moves."
   ]
  },
  {
   "cell_type": "markdown",
   "metadata": {},
   "source": [
    "Instead of creating the `AbsoluteEnhancedRandomEngine` as one block of code,\n",
    "a slightly different approach will be taken here:\n",
    "The class is created \n",
    "and functions will be replaced or added later.\n",
    "This enables a dedicated explanation of each method seperately\n",
    "before writing the code,\n",
    "instead of having to explain everything beforehand\n",
    "and loosing the context.\n",
    "This form of dynamic class modification is called monkey patching in the python community and is often used as a technique to patch third party code {cite}`plone:glossary`."
   ]
  },
  {
   "cell_type": "code",
   "execution_count": null,
   "metadata": {},
   "outputs": [],
   "source": [
    "class AbsoluteEnhancedRandomEngine(OpeningRandomEngine):\n",
    "    \"\"\"Chess engine using the absolute value of the chessboard to evalute moves\"\"\""
   ]
  },
  {
   "cell_type": "markdown",
   "metadata": {},
   "source": [
    "\n",
    "A simple way of evaluating a move \n",
    "is based on absolute values for each piece.\n",
    "The function `pieceValue` \n",
    "takes a chess piece as input \n",
    "and returns an integer \n",
    "representing its value as commonly defined in {cite}`Capablanca2006` and other books.\n",
    "For better readability \n",
    "a set of constants \n",
    "is introduced for these values."
   ]
  },
  {
   "cell_type": "code",
   "execution_count": null,
   "metadata": {},
   "outputs": [],
   "source": [
    "AbsoluteEnhancedRandomEngine.VALUE_PAWN = 1\n",
    "AbsoluteEnhancedRandomEngine.VALUE_KNIGHT = 3\n",
    "AbsoluteEnhancedRandomEngine.VALUE_BISHOP = 3\n",
    "AbsoluteEnhancedRandomEngine.VALUE_ROOK = 5\n",
    "AbsoluteEnhancedRandomEngine.VALUE_QUEEN = 9\n",
    "AbsoluteEnhancedRandomEngine.VALUE_KING = 0\n",
    "\n",
    "\n",
    "def pieceValue(self: Engine, pieceType: chess.PieceType) -> int:\n",
    "    if pieceType is chess.PAWN:\n",
    "        return self.VALUE_PAWN\n",
    "    if pieceType is chess.KNIGHT:\n",
    "        return self.VALUE_KNIGHT\n",
    "    if pieceType is chess.BISHOP:\n",
    "        return self.VALUE_BISHOP\n",
    "    if pieceType is chess.ROOK:\n",
    "        return self.VALUE_ROOK\n",
    "    if pieceType is chess.QUEEN:\n",
    "        return self.VALUE_QUEEN\n",
    "    if pieceType is chess.KING:\n",
    "        return self.VALUE_KING  # King is always needed and has no material value\n",
    "    assert False, f\"There is no piece value for the piece {pieceType}\"\n",
    "\n",
    "\n",
    "AbsoluteEnhancedRandomEngine.pieceValue = pieceValue"
   ]
  },
  {
   "cell_type": "markdown",
   "metadata": {},
   "source": [
    "The evaluation\n",
    "of the game \n",
    "is determined by summing up the piece values of all the white pieces\n",
    "and subtracting the piece values of all the black pieces. \n",
    "A positive score therefore is good for White whereas a negative score is good for Black. \n",
    "This is implemented in the method `_absolute_heuristic`,\n",
    "which takes a board as input \n",
    "and returns an integer representing this evaluation. "
   ]
  },
  {
   "cell_type": "code",
   "execution_count": null,
   "metadata": {},
   "outputs": [],
   "source": [
    "def _absolute_heuristic(self, board: chess.Board) -> int:\n",
    "    \"\"\"Calculate the value of all pieces on the board\"\"\"\n",
    "\n",
    "    score = 0\n",
    "    for square in chess.SquareSet(board.occupied_co[chess.WHITE]):\n",
    "        score += self.pieceValue(board.piece_type_at(square))\n",
    "\n",
    "    for square in chess.SquareSet(board.occupied_co[chess.BLACK]):\n",
    "        score -= self.pieceValue(board.piece_type_at(square))\n",
    "\n",
    "    return score\n",
    "\n",
    "\n",
    "AbsoluteEnhancedRandomEngine._absolute_heuristic = _absolute_heuristic"
   ]
  },
  {
   "cell_type": "markdown",
   "metadata": {},
   "source": [
    "To have an incentive to win,\n",
    "the value of a winning board \n",
    "is valued with 100.\n",
    "As a draw has no advantage for either side\n",
    "it is valued with 0.\n",
    "For better readability \n",
    "these values are also stored in constants."
   ]
  },
  {
   "cell_type": "code",
   "execution_count": null,
   "metadata": {},
   "outputs": [],
   "source": [
    "AbsoluteEnhancedRandomEngine.VALUE_CHECKMATE = 100\n",
    "AbsoluteEnhancedRandomEngine.VALUE_DRAW = 0"
   ]
  },
  {
   "cell_type": "markdown",
   "metadata": {},
   "source": [
    "There exist multiple draw conditions, \n",
    "so for ease of use, \n",
    "they are combined into one function, \n",
    "which is added to the `chess.Board` class afterwards."
   ]
  },
  {
   "cell_type": "code",
   "execution_count": null,
   "metadata": {},
   "outputs": [],
   "source": [
    "def is_draw(self) -> bool:\n",
    "    \"\"\"Function to check for all automatically enforced draw conditions\"\"\"\n",
    "    return self.is_stalemate() or self.is_insufficient_material() or self.is_fivefold_repetition(\n",
    "    ) or self.is_seventyfive_moves()\n",
    "\n",
    "\n",
    "chess.Board.is_draw = is_draw"
   ]
  },
  {
   "cell_type": "markdown",
   "metadata": {},
   "source": [
    "Next, the `analyse` method can be overriden to use the newly created evaluation function. \n",
    "All legal moves - or rather the resulting next boards - are evaluated by first checking\n",
    "for checkmate or draw, or otherwise by using the previously implemented `_absolute_heuristic` method.\n",
    "\n",
    "To make the code easier to understand\n",
    "this is logic is implemented in the `_evaluate_move` method.\n",
    "\n",
    "The possible moves are then shuffled and, afterwards, sorted by their score, \n",
    "creating a different order of moves having the same score, \n",
    "depending on the state of the RNG.\n",
    "\n",
    "By default, the python `sort` method sorts from lowest to highest. \n",
    "Therefore, the first move is the best for Black, unless the sorting order is reversed."
   ]
  },
  {
   "cell_type": "code",
   "execution_count": null,
   "metadata": {},
   "outputs": [],
   "source": [
    "def _evaluate_move(self: Engine, board: chess.Board, move: chess.Move) -> int:\n",
    "    \"\"\"Evaluate a single move using _absolute_heuristic\"\"\"\n",
    "    whitesTurn = board.turn is chess.WHITE\n",
    "    board.push(move)\n",
    "    if board.is_checkmate():\n",
    "        score = self.VALUE_CHECKMATE if whitesTurn else -self.VALUE_CHECKMATE\n",
    "    elif board.is_draw():\n",
    "        score = self.VALUE_DRAW\n",
    "    else:\n",
    "        score = self._absolute_heuristic(board)\n",
    "    board.pop()\n",
    "    return score\n",
    "\n",
    "\n",
    "AbsoluteEnhancedRandomEngine._evaluate_move = _evaluate_move\n",
    "\n",
    "\n",
    "def analyse(self, board: chess.Board) -> list[ScoredMove]:\n",
    "    \"\"\"Analyse method using _absolute_heuristic\"\"\"\n",
    "    whitesTurn = board.turn is chess.WHITE\n",
    "    nextMoves = []\n",
    "    for move in board.legal_moves:\n",
    "        score = self._evaluate_move(board, move)\n",
    "        nextMoves.append(ScoredMove(score, move))\n",
    "\n",
    "    random.shuffle(nextMoves)\n",
    "    nextMoves.sort(reverse=whitesTurn)\n",
    "    return nextMoves\n",
    "\n",
    "\n",
    "AbsoluteEnhancedRandomEngine.analyse = analyse"
   ]
  },
  {
   "cell_type": "markdown",
   "metadata": {},
   "source": [
    "To use the advantage of having a score\n",
    "the `play` method is modified to choose a random move from the top two moves \n",
    "returned by the `analyse` method."
   ]
  },
  {
   "cell_type": "code",
   "execution_count": null,
   "metadata": {},
   "outputs": [],
   "source": [
    "def play(self, board: chess.Board) -> chess.engine.PlayResult:\n",
    "    scoredMoves = self.getOpeningMoves(board) or self.analyse(board)\n",
    "    scoredMove = random.choice(scoredMoves[:2])\n",
    "    return chess.engine.PlayResult(move=scoredMove.move, ponder=None)\n",
    "\n",
    "\n",
    "AbsoluteEnhancedRandomEngine.play = play"
   ]
  },
  {
   "cell_type": "markdown",
   "metadata": {},
   "source": [
    "The `AbsoluteEnhancedRandomEngine` strategy is to capture everything the engine can. \n",
    "Additionally, it is also able to find mate in one. \n",
    "This allows the engine to win most of the time against the `OpeningRandomEngine`, although it is not guaranteed.\n",
    "\n",
    "TO DO: Add a statistic?"
   ]
  },
  {
   "cell_type": "code",
   "execution_count": null,
   "metadata": {},
   "outputs": [],
   "source": [
    "random.seed(42)\n",
    "board_absolute = playGame(OpeningRandomEngine(), AbsoluteEnhancedRandomEngine(), displayBoard=False)\n",
    "IPython.display.clear_output(wait=True)\n",
    "IPython.display.display(board_absolute)\n",
    "print(board_absolute.outcome())"
   ]
  },
  {
   "cell_type": "markdown",
   "metadata": {},
   "source": [
    "To verfify the correctness the `_absolute_heuristic` its output is checked against some famous chess games."
   ]
  },
  {
   "cell_type": "code",
   "execution_count": null,
   "metadata": {},
   "outputs": [],
   "source": [
    "random.seed(42)\n",
    "engine = AbsoluteEnhancedRandomEngine()\n",
    "\n",
    "# Topalov, Veselin (2740) vs. Shirov, Alexei (2710)\n",
    "SHIROV_SACRIFICE = \"8/8/4kpp1/3p1b2/p6P/2B5/6P1/6K1 b - - 0 47\"\n",
    "board = chess.Board(SHIROV_SACRIFICE)\n",
    "# IPython.display.display(board)\n",
    "assert engine._absolute_heuristic(board) == -2, \"Evaluation of position is not -2\"\n",
    "\n",
    "# Evgeny Yuryevich Vladimirov vs. Vladimir Viktorovich Epishin\n",
    "VLADIMIROV_THUNDERBOLT = \"r4k1r/1b2bPR1/p4n2/3p4/4P2P/1q2B2B/PpP5/1K4R1 w - - 0 26\"\n",
    "board = chess.Board(VLADIMIROV_THUNDERBOLT)\n",
    "# IPython.display.display(board)\n",
    "assert engine._absolute_heuristic(board) == -10, \"Evaluation of position is not -10\""
   ]
  },
  {
   "cell_type": "markdown",
   "metadata": {},
   "source": [
    "Additionally, a special chess position was constructed to test the `analyse` method. In this position, different moves such as capturings and promotions are possible."
   ]
  },
  {
   "cell_type": "code",
   "execution_count": null,
   "metadata": {},
   "outputs": [],
   "source": [
    "random.seed(42)\n",
    "PROMOTION_POSITION = \"Kn2rn1k/1p2P3/8/8/8/8/8/8 w - - 0 1\"\n",
    "board = chess.Board(PROMOTION_POSITION)\n",
    "# IPython.display.display(board)\n",
    "assert engine._absolute_heuristic(board) == -11, \"Evaluation of position is not -11\"\n",
    "result = engine.analyse(board)\n",
    "assert result == [ScoredMove(0, chess.Move.from_uci(\"e7f8q\")),\n",
    "                  ScoredMove(-4, chess.Move.from_uci(\"e7f8r\")),\n",
    "                  ScoredMove(-6, chess.Move.from_uci(\"e7f8b\")),\n",
    "                  ScoredMove(-6, chess.Move.from_uci(\"e7f8n\")),\n",
    "                  ScoredMove(-10, chess.Move.from_uci(\"a8b7\")),\n",
    "                  ScoredMove(-11, chess.Move.from_uci(\"a8b7\"))], f'{result} is not correct'"
   ]
  },
  {
   "cell_type": "markdown",
   "metadata": {},
   "source": [
    "The `AbsoluteEnhancedRandomEngine.analyse` method\n",
    "is not very effective as it always recalculates the whole board. Thus, it does up to 16 calculations. \n",
    "With one move, the evaluation can change in the following ways: \n",
    "* There is a checkmate\n",
    "* There is a draw\n",
    "* Capture of a piece\n",
    "* Promotion of a piece\n",
    "* Capture and promotion of a piece\n",
    "* Nothing changes\n",
    "\n",
    "With this idea in mind, the next engine implements an incremental heuristic."
   ]
  },
  {
   "cell_type": "code",
   "execution_count": null,
   "metadata": {},
   "outputs": [],
   "source": [
    "class RelativeEnhancedRandomEngine(AbsoluteEnhancedRandomEngine):\n",
    "    \"\"\"Chess engine using the change of value of the chessboard to evalute moves\"\"\""
   ]
  },
  {
   "cell_type": "markdown",
   "metadata": {},
   "source": [
    "The new method `_relative_heuristic` takes a board and a move as a parameter and returns the change of the score by playing that move from the perspective of the player to move.  \n",
    "If a figure is captured, \n",
    "the overall score of the board \n",
    "will increase \n",
    "by its value.\n",
    "If a pawn is promoted, \n",
    "the overall score of the board \n",
    "will be increased \n",
    "by the value of the promoted piece \n",
    "minus the value of the pawn.\n",
    "The score is returned as is if it is White's turn, otherwise it is returned negated."
   ]
  },
  {
   "cell_type": "code",
   "execution_count": null,
   "metadata": {},
   "outputs": [],
   "source": [
    "def _relative_heuristic(self, board: chess.Board, move: chess.Move) -> int:\n",
    "    value = 0\n",
    "    if capturedPiece := board.piece_type_at(move.to_square):\n",
    "        value += self.pieceValue(capturedPiece)\n",
    "    if promotionPiece := move.promotion:\n",
    "        value += self.pieceValue(promotionPiece) - self.VALUE_PAWN\n",
    "\n",
    "    return value if board.turn is chess.WHITE else -value\n",
    "\n",
    "\n",
    "RelativeEnhancedRandomEngine._relative_heuristic = _relative_heuristic"
   ]
  },
  {
   "cell_type": "markdown",
   "metadata": {},
   "source": [
    "The `analyse` method is similar to the one defined for the `AbsoluteEnhancedRandomEngine` class. \n",
    "The only difference is \n",
    "that the initial score of the board \n",
    "is calculated first by using the `_absolute_heuristic` method\n",
    "and the `_evaluate_move` method taking an additional parameter `currentScore`. \n",
    "In the loop, the value of each move is the sum of the inital score and the value calculated by `_relative_heuristic` of the move."
   ]
  },
  {
   "cell_type": "code",
   "execution_count": null,
   "metadata": {},
   "outputs": [],
   "source": [
    "def _evaluate_move(self: Engine, board: chess.Board, move: chess.Move, currentScore: int) -> int:\n",
    "    \"\"\"Evaluate a single move using _relative_heuristic\"\"\"\n",
    "    whitesTurn = board.turn is chess.WHITE\n",
    "    score = currentScore + self._relative_heuristic(board, move)\n",
    "    board.push(move)\n",
    "    if board.is_checkmate():\n",
    "        score = self.VALUE_CHECKMATE if whitesTurn else -self.VALUE_CHECKMATE\n",
    "    elif board.is_draw():\n",
    "        score = self.VALUE_DRAW\n",
    "    board.pop()\n",
    "    return score\n",
    "\n",
    "\n",
    "RelativeEnhancedRandomEngine._evaluate_move = _evaluate_move\n",
    "\n",
    "\n",
    "def analyse(self, board: chess.Board) -> list[ScoredMove]:\n",
    "    \"\"\"Analyse method using _relative_heuristic\"\"\"\n",
    "    currentScore = self._absolute_heuristic(board)\n",
    "    whitesTurn = board.turn is chess.WHITE\n",
    "    nextMoves = []\n",
    "    for move in board.legal_moves:\n",
    "        score = self._evaluate_move(board, move, currentScore)\n",
    "\n",
    "        nextMoves.append(ScoredMove(score, move))\n",
    "\n",
    "    random.shuffle(nextMoves)\n",
    "    nextMoves.sort(reverse=whitesTurn)\n",
    "    return nextMoves\n",
    "\n",
    "\n",
    "RelativeEnhancedRandomEngine.analyse = analyse"
   ]
  },
  {
   "cell_type": "markdown",
   "metadata": {},
   "source": [
    "As both engines should play the same move, the outcome of the game against the `OpeningRandomEngine` is the same provided the seed is the same."
   ]
  },
  {
   "cell_type": "code",
   "execution_count": null,
   "metadata": {},
   "outputs": [],
   "source": [
    "random.seed(42)\n",
    "board_relative = playGame(OpeningRandomEngine(), RelativeEnhancedRandomEngine(), displayBoard=False)\n",
    "IPython.display.clear_output(wait=True)\n",
    "IPython.display.display(board)\n",
    "print(board_relative.outcome())"
   ]
  },
  {
   "cell_type": "markdown",
   "metadata": {},
   "source": [
    "To verfify that both engines play exactly the same moves, the following test compares the move stacks of boths games."
   ]
  },
  {
   "cell_type": "code",
   "execution_count": null,
   "metadata": {},
   "outputs": [],
   "source": [
    "assert board_relative.move_stack == board_absolute.move_stack, f\"There were different moves\""
   ]
  },
  {
   "cell_type": "markdown",
   "metadata": {},
   "source": [
    "Performance measurements\n",
    "\n",
    "TO DO: \n",
    "- More details (statistics)"
   ]
  },
  {
   "cell_type": "code",
   "execution_count": null,
   "metadata": {},
   "outputs": [],
   "source": [
    "random.seed(42)\n",
    "absoluteEngine = AbsoluteEnhancedRandomEngine()\n",
    "relativeEngine = RelativeEnhancedRandomEngine()\n",
    "\n",
    "board1 = chess.Board(SHIROV_SACRIFICE)\n",
    "board2 = chess.Board(VLADIMIROV_THUNDERBOLT)\n",
    "board3 = chess.Board(PROMOTION_POSITION)\n",
    "\n",
    "print(\"Absolute Engine\")\n",
    "random.seed(42)\n",
    "%timeit -r 2 -n 5 absoluteEngine.analyse(board1)\n",
    "%timeit -r 2 -n 5 absoluteEngine.analyse(board2)\n",
    "%timeit -r 2 -n 5 absoluteEngine.analyse(board3)\n",
    "\n",
    "print(\"Relative Engine\")\n",
    "random.seed(42)\n",
    "%timeit -r 2 -n 5 relativeEngine.analyse(board1)\n",
    "%timeit -r 2 -n 5 relativeEngine.analyse(board2)\n",
    "%timeit -r 2 -n 5 relativeEngine.analyse(board3)"
   ]
  },
  {
   "cell_type": "markdown",
   "metadata": {},
   "source": [
    "## A human engine\n",
    "\n",
    "To enable human players to play against the chess engines \n",
    "a `HumanEngine` is created, \n",
    "which is compatible with the previously defined `playGame` method.\n",
    "\n",
    "An array of keywords to abort the game \n",
    "is defined,\n",
    "so a player is not forced \n",
    "to manually interrupt the kernel\n",
    "to do so."
   ]
  },
  {
   "cell_type": "markdown",
   "metadata": {},
   "source": [
    "Instead of implementing a dedicated `analyse` function \n",
    "as it is required by the `Engine` interface\n",
    "it is \"copied\" from the `AbsoluteEnhancedRandomEngine`."
   ]
  },
  {
   "cell_type": "code",
   "execution_count": null,
   "metadata": {},
   "outputs": [],
   "source": [
    "class HumanEngine(Engine):\n",
    "    \"\"\"Chess engine using the abilities of a human player\"\"\"\n",
    "    \"\"\" List of keywords to abort input\"\"\"\n",
    "    ABORT_KEYWORDS = [\n",
    "        \"EXIT\",\n",
    "        \"CANCEL\",\n",
    "        \"\",\n",
    "    ]\n",
    "\n",
    "    def play(self, board: chess.Board) -> chess.engine.PlayResult:\n",
    "        \"\"\"Play method taking input of human players\"\"\"\n",
    "        whitesTurn = board.turn is chess.WHITE\n",
    "        legalMoves = board.legal_moves\n",
    "        while True:\n",
    "            enteredMove = input(f\"Enter move for {'white' if whitesTurn else 'black'} in UCI notation: \")\n",
    "            if enteredMove.upper() in HumanEngine.ABORT_KEYWORDS:\n",
    "                raise Exception(\"User aborted\")\n",
    "            try:\n",
    "                move = chess.Move.from_uci(enteredMove)\n",
    "                if move in legalMoves:\n",
    "                    return ScoredMove(0, move)\n",
    "                print(\"Illegal input.  Please try again.\")\n",
    "            except ValueError:\n",
    "                print(f\"Illegal notation. Valid moves are {list(legalMoves)}\")\n",
    "\n",
    "    def analyse(self, board: chess.Board) -> list[ScoredMove]:\n",
    "        pass"
   ]
  },
  {
   "cell_type": "markdown",
   "metadata": {},
   "source": [
    "This engine can be used as shown in the following commented block."
   ]
  },
  {
   "cell_type": "code",
   "execution_count": null,
   "metadata": {},
   "outputs": [],
   "source": [
    "# board_human = playGame(HumanEngine(), RelativeEnhancedRandomEngine(), displayBoard=True)\n",
    "# print(board.outcome())"
   ]
  },
  {
   "cell_type": "markdown",
   "metadata": {},
   "source": [
    "## Some Stockfish Experiments!"
   ]
  },
  {
   "cell_type": "code",
   "execution_count": null,
   "metadata": {},
   "outputs": [],
   "source": [
    "# import chess\n",
    "# import chess.engine\n",
    "\n",
    "# engine = chess.engine.SimpleEngine.popen_uci(r\"../data/stockfish_14.1_linux_x64/stockfish_14.1_linux_x64\")\n",
    "\n",
    "# board = chess.Board()\n",
    "# while not board.is_game_over():\n",
    "#     result = engine.play(board, chess.engine.Limit(time=0.1))\n",
    "#     board.push(result.move)\n",
    "\n",
    "# engine.quit()\n",
    "\n",
    "# board"
   ]
  },
  {
   "cell_type": "markdown",
   "metadata": {},
   "source": [
    "To use an existing UCI compatible engine, it can be loaded as follows:"
   ]
  },
  {
   "cell_type": "code",
   "execution_count": null,
   "metadata": {},
   "outputs": [],
   "source": [
    "engine = chess.engine.SimpleEngine.popen_uci(r\"../data/stockfish_14.1_linux_x64/stockfish_14.1_linux_x64\")"
   ]
  },
  {
   "cell_type": "markdown",
   "metadata": {},
   "source": []
  },
  {
   "cell_type": "code",
   "execution_count": null,
   "metadata": {},
   "outputs": [],
   "source": [
    "engine.analyse(chess.Board(SHIROV_SACRIFICE), chess.engine.Limit(time=0.1))"
   ]
  },
  {
   "cell_type": "code",
   "execution_count": null,
   "metadata": {},
   "outputs": [],
   "source": [
    "engine.analyse(chess.Board(VLADIMIROV_THUNDERBOLT), chess.engine.Limit(time=0.1))"
   ]
  },
  {
   "cell_type": "markdown",
   "metadata": {},
   "source": []
  }
 ],
 "metadata": {
  "interpreter": {
   "hash": "158413dad81d350ee9d5027ddb6c822755159844ab242caefe0bb376283a4cf3"
  },
  "language_info": {
   "codemirror_mode": {
    "name": "ipython"
   },
   "file_extension": ".py",
   "mimetype": "text/x-python",
   "name": "python",
   "nbconvert_exporter": "python"
  }
 },
 "nbformat": 4,
 "nbformat_minor": 2
}
