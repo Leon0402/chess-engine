{
 "cells": [
  {
   "cell_type": "markdown",
   "metadata": {},
   "source": [
    "# Enhanced Random Engine\n",
    "\n",
    "## Add an opening book \n",
    "\n",
    "The first improved version of `RandomEngine` \n",
    "is the `OpeningRandomEngine`,\n",
    "which will have access to an opening book. \n",
    "(Polyglot)[http://hgm.nubati.net/book_format.html] is a widespread book format for openings.\n",
    "Because a lot of open-source opening books \n",
    "in the `polyglot` format \n",
    "can be found on the internet\n",
    "and because it is supported by the `python-chess` library,\n",
    "it is used in this example. \n",
    "The repository contains some sample `polyglot` opening books.\n",
    "\n",
    "The `OpeningRandomEngine` \n",
    "inherits from `RandomEngine` \n",
    "and overwrites the `play` method. \n",
    "In the new `play` method, \n",
    "the engine first searches for moves \n",
    "in the opening book \n",
    "using the helper method `getOpeningMoves` \n",
    "and,\n",
    "if no move is found,\n",
    "falls back to the implementation of `RandomEngine`. \n",
    "The method `getOpeningMoves` \n",
    "takes the current chessboard as a parameter \n",
    "and returns a list of `ScoredMove` objects. \n",
    "It uses the `chess.polyglot.MemoryMappedReader` class \n",
    "of the `python-chess` library\n",
    "to open a `polyglot` opening book. \n",
    "The `find_all` method of the reader \n",
    "is used to search the opening book \n",
    "and create a list of scored moves. \n",
    "\n",
    "Notice, \n",
    "however, \n",
    "that the score of the move is defined by the author of the opening book and usually depends on how often and sucessfull it was played by profiecient players. \n",
    "In some rare cases, following the book, leads quickly into a draw by fivefold repition, therefore a minimum weight has been defined."
   ]
  },
  {
   "cell_type": "code",
   "execution_count": null,
   "metadata": {},
   "outputs": [],
   "source": [
    "import random\n",
    "import chess.polyglot\n",
    "\n",
    "\n",
    "class OpeningRandomEngine(RandomEngine):\n",
    "    \"\"\"Chess engine using opening books to make better moves\"\"\"\n",
    "    MIN_WEIGHT = 50\n",
    "\n",
    "    def getOpeningMoves(self, board: chess.Board) -> list[ScoredMove]:\n",
    "        with chess.polyglot.open_reader(\n",
    "            \"../data/polyglot/ProDeo.bin\"\n",
    "        ) as reader:\n",
    "            nextMoves = [\n",
    "                ScoredMove(entry.weight, entry.move)\n",
    "                for entry in reader.find_all(board)\n",
    "                if entry.weight >= self.MIN_WEIGHT\n",
    "            ]\n",
    "\n",
    "        return nextMoves\n",
    "\n",
    "    def play(self, board: chess.Board) -> chess.engine.PlayResult:\n",
    "        scoredMoves = self.getOpeningMoves(board) or self.analyse(board)\n",
    "        scoredMove = random.choice(scoredMoves)\n",
    "        return chess.engine.PlayResult(move=scoredMove.move, ponder=None)"
   ]
  },
  {
   "cell_type": "code",
   "execution_count": null,
   "metadata": {},
   "outputs": [],
   "source": [
    "random.seed(42)\n",
    "board = playGame(OpeningRandomEngine(), RandomEngine())\n",
    "print(board.outcome())\n",
    "board"
   ]
  },
  {
   "cell_type": "markdown",
   "metadata": {},
   "source": [
    "The `OpeningRandomEngine` \n",
    "is not expected to win \n",
    "against the `RandomEngine` in general. \n",
    "The reason for this is \n",
    "the `RandomEngine` often playing bad moves \n",
    "such as `Sh6` after `d4`, \n",
    "which are usually not included in an opening book. \n",
    "The below code shows \n",
    "how to calculate the probability \n",
    "of randomly hitting the first opening move."
   ]
  },
  {
   "cell_type": "code",
   "execution_count": null,
   "metadata": {},
   "outputs": [],
   "source": [
    "board = chess.Board()\n",
    "engine = OpeningRandomEngine()\n",
    "openingMoves = engine.getOpeningMoves(board)\n",
    "probabilityFirstMove = len(openingMoves) / len(list(board.legal_moves))\n",
    "print(\n",
    "    f\"Chance to hit opening move after the first move: {probabilityFirstMove * 100}%\"\n",
    ")"
   ]
  },
  {
   "cell_type": "markdown",
   "metadata": {},
   "source": [
    "To calculate the probability \n",
    "of hitting two moves in a row of the opening book \n",
    "by chance\n",
    "all possible situations after the first opening move have to be examined. \n",
    "The script \n",
    "takes the average \n",
    "of possible opening moves and legal moves \n",
    "and uses those to calculate the probability."
   ]
  },
  {
   "cell_type": "code",
   "execution_count": null,
   "metadata": {},
   "outputs": [],
   "source": [
    "import statistics\n",
    "\n",
    "legalMovesSecondMove = []\n",
    "openingMovesSecondMove = []\n",
    "for scoredMove in openingMoves:\n",
    "    board.push(scoredMove.move)\n",
    "    legalMovesSecondMove.append(len(list(board.legal_moves)))\n",
    "    openingMovesSecondMove.append(len(engine.getOpeningMoves(board)))\n",
    "    board.pop()\n",
    "\n",
    "probabilitySecondMove = probabilityFirstMove * (\n",
    "    statistics.mean(openingMovesSecondMove) /\n",
    "    statistics.mean(legalMovesSecondMove)\n",
    ")\n",
    "\n",
    "print(\n",
    "    f\"Chance to hit opening move two times in a row: {probabilitySecondMove * 100}%\"\n",
    ")"
   ]
  },
  {
   "cell_type": "markdown",
   "metadata": {},
   "source": [
    "To make sure \n",
    "the `OpeningRandomEngine` does only play moves \n",
    "from the opening books, \n",
    "multiple tests check the engine's choices\n",
    "against the available opening moves for different seeds."
   ]
  },
  {
   "cell_type": "code",
   "execution_count": null,
   "metadata": {},
   "outputs": [],
   "source": [
    "engine = OpeningRandomEngine()\n",
    "\n",
    "# Moves in the ProDeo Opening Book\n",
    "firstMoves = [\n",
    "    chess.Move.from_uci(\"d2d4\"),\n",
    "    chess.Move.from_uci(\"e2e4\"),\n",
    "    chess.Move.from_uci(\"c2c4\"),\n",
    "    chess.Move.from_uci(\"g1f3\")\n",
    "]\n",
    "\n",
    "random.seed(0)\n",
    "board = chess.Board()\n",
    "playResult = engine.play(board)\n",
    "assert playResult.move in firstMoves, f\"Random opening engine chose the move {playResult.move} not in the opening book\"\n",
    "\n",
    "random.seed(42)\n",
    "board = chess.Board()\n",
    "playResult = engine.play(board)\n",
    "assert playResult.move in firstMoves, f\"Random opening engine chose the move {playResult.move} not in the opening book\""
   ]
  }
 ],
 "metadata": {
  "language_info": {
   "name": "python"
  }
 },
 "nbformat": 4,
 "nbformat_minor": 2
}
