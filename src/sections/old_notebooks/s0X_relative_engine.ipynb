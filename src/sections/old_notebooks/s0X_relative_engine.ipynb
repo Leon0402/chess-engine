{
 "cells": [
  {
   "cell_type": "markdown",
   "metadata": {},
   "source": [
    "##  Relative Engine"
   ]
  },
  {
   "cell_type": "markdown",
   "metadata": {},
   "source": [
    "The `AbsoluteEnhancedRandomEngine.analyse` method\n",
    "is not very effective as it always recalculates the whole board. Thus, it does up to 16 calculations. \n",
    "With one move, the evaluation can change in the following ways: \n",
    "* There is a checkmate\n",
    "* There is a draw\n",
    "* Capture of a piece\n",
    "* Promotion of a piece\n",
    "* Capture and promotion of a piece\n",
    "* Nothing changes\n",
    "\n",
    "With this idea in mind, the next engine implements an incremental heuristic."
   ]
  },
  {
   "cell_type": "code",
   "execution_count": null,
   "metadata": {},
   "outputs": [],
   "source": [
    "class RelativeEnhancedRandomEngine(AbsoluteEnhancedRandomEngine):\n",
    "    \"\"\"Chess engine using the change of value of the chessboard to evalute moves\"\"\""
   ]
  },
  {
   "cell_type": "markdown",
   "metadata": {},
   "source": [
    "The new method `_relative_heuristic` takes a board and a move as a parameter and returns the change of the score by playing that move from the perspective of the player to move.  \n",
    "If a figure is captured, \n",
    "the overall score of the board \n",
    "will increase \n",
    "by its value.\n",
    "If a pawn is promoted, \n",
    "the overall score of the board \n",
    "will be increased \n",
    "by the value of the promoted piece \n",
    "minus the value of the pawn.\n",
    "The score is returned as is if it is White's turn, otherwise it is returned negated."
   ]
  },
  {
   "cell_type": "code",
   "execution_count": null,
   "metadata": {},
   "outputs": [],
   "source": [
    "def _relative_heuristic(self, board: chess.Board, move: chess.Move) -> int:\n",
    "    value = 0\n",
    "    if capturedPiece := board.piece_type_at(move.to_square):\n",
    "        value += self.pieceValue(capturedPiece)\n",
    "    if promotionPiece := move.promotion:\n",
    "        value += self.pieceValue(promotionPiece) - self.VALUE_PAWN\n",
    "\n",
    "    return value if board.turn is chess.WHITE else -value\n",
    "\n",
    "\n",
    "RelativeEnhancedRandomEngine._relative_heuristic = _relative_heuristic"
   ]
  },
  {
   "cell_type": "markdown",
   "metadata": {},
   "source": [
    "The `analyse` method is similar to the one defined for the `AbsoluteEnhancedRandomEngine` class. \n",
    "The only difference is \n",
    "that the initial score of the board \n",
    "is calculated first by using the `_absolute_heuristic` method\n",
    "and the `_evaluate_move` method taking an additional parameter `currentScore`. \n",
    "In the loop, the value of each move is the sum of the inital score and the value calculated by `_relative_heuristic` of the move."
   ]
  },
  {
   "cell_type": "code",
   "execution_count": null,
   "metadata": {},
   "outputs": [],
   "source": [
    "def _evaluate_move(\n",
    "    self: Engine, board: chess.Board, move: chess.Move, currentScore: int\n",
    ") -> int:\n",
    "    \"\"\"Evaluate a single move using _relative_heuristic\"\"\"\n",
    "    whitesTurn = board.turn is chess.WHITE\n",
    "    score = currentScore + self._relative_heuristic(board, move)\n",
    "    board.push(move)\n",
    "    if board.is_checkmate():\n",
    "        score = self.VALUE_CHECKMATE if whitesTurn else -self.VALUE_CHECKMATE\n",
    "    elif board.is_draw():\n",
    "        score = self.VALUE_DRAW\n",
    "    board.pop()\n",
    "    return score\n",
    "\n",
    "\n",
    "RelativeEnhancedRandomEngine._evaluate_move = _evaluate_move\n",
    "\n",
    "\n",
    "def analyse(self, board: chess.Board) -> list[ScoredMove]:\n",
    "    \"\"\"Analyse method using _relative_heuristic\"\"\"\n",
    "    currentScore = self._absolute_heuristic(board)\n",
    "    whitesTurn = board.turn is chess.WHITE\n",
    "    nextMoves = []\n",
    "    for move in board.legal_moves:\n",
    "        score = self._evaluate_move(board, move, currentScore)\n",
    "\n",
    "        nextMoves.append(ScoredMove(score, move))\n",
    "\n",
    "    random.shuffle(nextMoves)\n",
    "    nextMoves.sort(reverse=whitesTurn)\n",
    "    return nextMoves\n",
    "\n",
    "\n",
    "RelativeEnhancedRandomEngine.analyse = analyse"
   ]
  },
  {
   "cell_type": "markdown",
   "metadata": {},
   "source": [
    "As both engines should play the same move, the outcome of the game against the `OpeningRandomEngine` is the same provided the seed is the same."
   ]
  },
  {
   "cell_type": "code",
   "execution_count": null,
   "metadata": {},
   "outputs": [],
   "source": [
    "random.seed(42)\n",
    "board_relative = chess.Board()\n",
    "playGame(\n",
    "    board_relative,\n",
    "    RelativeEnhancedRandomEngine(),\n",
    "    AbsoluteEnhancedRandomEngine(),\n",
    "    displayBoard=False\n",
    ")\n",
    "IPython.display.display(board)\n",
    "print(board_relative.outcome())"
   ]
  },
  {
   "cell_type": "markdown",
   "metadata": {},
   "source": [
    "To verfify that both engines play exactly the same moves, the following test compares the move stacks of boths games."
   ]
  },
  {
   "cell_type": "code",
   "execution_count": null,
   "metadata": {},
   "outputs": [],
   "source": [
    "assert board_relative.move_stack == board_absolute.move_stack, f\"There were different moves\""
   ]
  },
  {
   "cell_type": "markdown",
   "metadata": {},
   "source": [
    "Performance measurements\n",
    "\n",
    "TO DO: \n",
    "- More details (statistics)"
   ]
  },
  {
   "cell_type": "code",
   "execution_count": null,
   "metadata": {},
   "outputs": [],
   "source": [
    "random.seed(42)\n",
    "absoluteEngine = AbsoluteEnhancedRandomEngine()\n",
    "relativeEngine = RelativeEnhancedRandomEngine()\n",
    "\n",
    "board1 = chess.Board(SHIROV_SACRIFICE)\n",
    "board2 = chess.Board(VLADIMIROV_THUNDERBOLT)\n",
    "board3 = chess.Board(PROMOTION_POSITION)\n",
    "\n",
    "print(\"Absolute Engine\")\n",
    "random.seed(42)\n",
    "%timeit -r 2 -n 5 absoluteEngine.analyse(board1)\n",
    "%timeit -r 2 -n 5 absoluteEngine.analyse(board2)\n",
    "%timeit -r 2 -n 5 absoluteEngine.analyse(board3)\n",
    "\n",
    "print(\"Relative Engine\")\n",
    "random.seed(42)\n",
    "%timeit -r 2 -n 5 relativeEngine.analyse(board1)\n",
    "%timeit -r 2 -n 5 relativeEngine.analyse(board2)\n",
    "%timeit -r 2 -n 5 relativeEngine.analyse(board3)"
   ]
  }
 ],
 "metadata": {
  "language_info": {
   "name": "python"
  }
 },
 "nbformat": 4,
 "nbformat_minor": 2
}
