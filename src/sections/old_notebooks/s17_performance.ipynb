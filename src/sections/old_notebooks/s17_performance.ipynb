{
 "cells": [
  {
   "cell_type": "code",
   "execution_count": null,
   "metadata": {},
   "outputs": [],
   "source": [
    "%%capture\n",
    "\n",
    "from IPython.core.display import HTML\n",
    "with open('style.css') as file:\n",
    "    css = file.read()\n",
    "HTML(css)\n",
    "\n",
    "%run s06_enhanced_ai_engine.ipynb\n",
    "\n",
    "# Dirty hack to import types from other file for static analysis tools\n",
    "try:\n",
    "    from . import Engine\n",
    "    import chess\n",
    "    import random\n",
    "except ImportError:\n",
    "    pass"
   ]
  },
  {
   "cell_type": "markdown",
   "metadata": {},
   "source": []
  },
  {
   "cell_type": "code",
   "execution_count": null,
   "metadata": {},
   "outputs": [],
   "source": [
    "class ReleaseEngine(Engine):\n",
    "\n",
    "    def __init__(self, max_look_ahead_depth: int):\n",
    "        super().__init__(max_look_ahead_depth)\n",
    "        self.evaluator = SimplifiedIncrementalEvaluation()\n",
    "\n",
    "    def play(self, board: chess.Board) -> chess.engine.PlayResult:\n",
    "        bestScoredMove = self._evaluate_moves2(board)\n",
    "        return chess.engine.PlayResult(move=bestScoredMove.move, ponder=None)"
   ]
  }
 ],
 "metadata": {
  "interpreter": {
   "hash": "b42f3920614829e661a3e80085f50421aa71f403bff6adf1f40efa6d26183877"
  },
  "language_info": {
   "codemirror_mode": {
    "name": "ipython"
   },
   "file_extension": ".py",
   "mimetype": "text/x-python",
   "name": "python",
   "nbconvert_exporter": "python"
  }
 },
 "nbformat": 4,
 "nbformat_minor": 2
}
