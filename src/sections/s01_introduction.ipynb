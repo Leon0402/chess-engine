{
 "cells": [
  {
   "cell_type": "code",
   "execution_count": null,
   "metadata": {
    "tags": [
     "remove-cell"
    ]
   },
   "outputs": [],
   "source": [
    "from IPython.core.display import HTML\n",
    "with open('style.css') as file:\n",
    "    css = file.read()\n",
    "HTML(css)"
   ]
  },
  {
   "cell_type": "markdown",
   "metadata": {},
   "source": [
    "# Introduction"
   ]
  },
  {
   "cell_type": "markdown",
   "metadata": {},
   "source": [
    "## Research Objectives\n",
    "\n",
    "The main goal of this work is the development of a fully functional chess engine. One of the main parts, the implementation of the chess rules as well as the graphical representation of the chess game, will be provided by the `python-chess` library. Thus, this work concentrates on the actual implementation of artificial intelligence. \n",
    "\n",
    "Chess Engines that can outperform even the best human players, such as the latest `Stockfish` engine, usually use a combination of symbolic AI and machine learning to achieve the best results. Additionally, they also use high-performance computers. \n",
    "The objective is by no means here to compete with these engines, there will be no machine learning involved nor will the developed chess engine use a high-performance PC. Instead, the focus is on exploring various symbolic AI techniques and using chess as a demonstration for those. {cite}`stockfishGithub`\n",
    "\n",
    "For the evaluation of chess positions, the (Simple Evaluation Function by Tomasz Michniewski)[https://www.chessprogramming.org/Simplified_Evaluation_Function] will be used. In combination with the alpha-beta-pruning algorithm and transposition tables, it forms the foundation of the chess engine. To achieve acceptable performance, the engine will be enhanced by using a quiescence search. \n",
    "Additional Enhancements such as the inclusion of chess books for openings and end games will be examined. "
   ]
  },
  {
   "cell_type": "markdown",
   "metadata": {},
   "source": [
    "## Structure\n",
    "\n",
    "How this work is structured -> fill out later"
   ]
  }
 ],
 "metadata": {
  "language_info": {
   "codemirror_mode": {
    "name": "ipython"
   },
   "file_extension": ".py",
   "mimetype": "text/x-python",
   "name": "python",
   "nbconvert_exporter": "python"
  }
 },
 "nbformat": 4,
 "nbformat_minor": 2
}
