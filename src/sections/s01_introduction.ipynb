{
 "cells": [
  {
   "cell_type": "code",
   "execution_count": null,
   "metadata": {
    "tags": [
     "remove-cell",
     "no-python-export"
    ]
   },
   "outputs": [],
   "source": [
    "from IPython.core.display import HTML\n",
    "with open('style.css') as file:\n",
    "    css = file.read()\n",
    "HTML(css)"
   ]
  },
  {
   "cell_type": "code",
   "execution_count": null,
   "metadata": {
    "tags": [
     "no-python-export"
    ]
   },
   "outputs": [],
   "source": [
    "# Convert notebooks to python, so they can be loaded effiently\n",
    "from utils.jupyter_loader import JupyterLoader\n",
    "\n",
    "loader = JupyterLoader()\n",
    "loader.load_all()"
   ]
  },
  {
   "cell_type": "markdown",
   "metadata": {},
   "source": [
    "# Introduction"
   ]
  },
  {
   "cell_type": "markdown",
   "metadata": {},
   "source": [
    "## Research Objectives\n",
    "\n",
    "The main goal of this work is the development of a fully functional chess engine. One of the main parts, the implementation of the chess rules as well as the graphical representation of the chess game, will be provided by the [`python-chess`](https://python-chess.readthedocs.io/en/latest/index.html) library. Thus, this work concentrates on the actual implementation of artificial intelligence. \n",
    "\n",
    "Chess Engines that can outperform even the best human players, such as the latest [Stockfish](https://github.com/official-stockfish/Stockfish) engine, usually use a combination of symbolic AI and machine learning to achieve the best results.\n",
    "The objective is by no means here to compete with these engines, there will be no machine learning involved nor will the developed chess engine use a high-performance PC. Instead, the focus is on exploring various symbolic AI techniques and using chess as a demonstration for those.\n",
    "\n",
    "For the evaluation of chess positions, the [Simple Evaluation Function by Tomasz Michniewski](https://www.chessprogramming.org/Simplified_Evaluation_Function) will be used. In combination with the [alpha-beta-pruning algorithm](https://www.chessprogramming.org/Alpha-Beta) and [transposition tables](https://www.chessprogramming.org/Transposition_Table), it forms the foundation of the chess engine. To achieve acceptable performance, the engine will be enhanced by using a [quiescence search](https://www.chessprogramming.org/Quiescence_Search). \n",
    "Additional enhancements such as the inclusion of chess books for openings and end games will be examined. "
   ]
  }
 ],
 "metadata": {
  "language_info": {
   "codemirror_mode": {
    "name": "ipython"
   },
   "file_extension": ".py",
   "mimetype": "text/x-python",
   "name": "python",
   "nbconvert_exporter": "python"
  },
  "vscode": {
   "interpreter": {
    "hash": "b42f3920614829e661a3e80085f50421aa71f403bff6adf1f40efa6d26183877"
   }
  }
 },
 "nbformat": 4,
 "nbformat_minor": 2
}
