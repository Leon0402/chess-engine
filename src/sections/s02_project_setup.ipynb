{
 "cells": [
  {
   "cell_type": "code",
   "execution_count": null,
   "metadata": {
    "tags": [
     "remove-cell",
     "no-python-export"
    ]
   },
   "outputs": [],
   "source": [
    "from IPython.core.display import HTML\n",
    "with open('style.css') as file:\n",
    "    css = file.read()\n",
    "HTML(css)"
   ]
  },
  {
   "cell_type": "code",
   "execution_count": null,
   "metadata": {
    "tags": [
     "remove-cell",
     "no-python-export"
    ]
   },
   "outputs": [],
   "source": [
    "# Convert notebooks to python, so they can be loaded effiently\n",
    "from utils.jupyter_loader import JupyterLoader\n",
    "\n",
    "loader = JupyterLoader()\n",
    "loader.load_all()"
   ]
  },
  {
   "cell_type": "markdown",
   "metadata": {},
   "source": [
    "# Project Setup\n",
    "\n",
    "One great advantage of python is the number of already built-in features such as native JSON or YAML support. Nevertheless, in almost all python projects there is some need to install additional third-party libraries. Most of these are available in the [python package index (PyPi)](https://pypi.org/) and can easily be installed with the tool `pip`. \n",
    "These dependencies might require a specific platform, python version or even other dependencies in some specific versions. Newer versions of the libraries might not always be compatible with older versions. In a collaborative project, it is therefore essential to specify the dependencies and their version. Pip has a built-in way to do this by writing all installed dependencies and their version to a requirements.txt file with the command `pip freeze > requirements.txt`. Another developer can then install exactly these dependencies with the command `pip install -r requirements.txt`. It is recommended, to create a virtual environment in which the packages are installed. Otherwise, they will be installed globally, which can lead to conflicts. Some popular tools for creating and managing virtual environments are [virtualenv](https://virtualenv.pypa.io/en/latest/) and [venv](https://docs.python.org/3/library/venv.html), both work well with `pip` and `requirements.txt`.\n",
    "\n",
    "Although this setup works in general it has the problem of being rather complex and error-prone. There are multiple tools needed and possibly documentation on how to use these in the project. Additionally, the workflow is not enforced by the tools, there is no need to name the file `requirements.txt` nor to even keep it up to date and therefore error-prone. Additional requirements such as building or publishing the package, although not relevant for this project, need additional tools. To deal with these issues there exist several tools operating on a higher level and combining the single tools. Some of the more popular tools are [pipenv](https://pipenv.pypa.io/en/latest/) and [poetry](https://python-poetry.org/docs/). Both are suitable for this project, but `poetry` was chosen for development as it's already known by the authors.\n",
    "\n",
    "The repository thus provides all necessary files to work with `poetry`. Some general instructions can be found in the `CONTRIBUTING.adoc` file at the top level of the repository. For more detailed information on how to install and work with `poetry`, consult the [documentation](https://python-poetry.org/docs/). Additionally, the project ships a `requirements.txt` file that was exported by `poetry`. If you feel more familiar with other tools such as `virtualenv` or `conda`, then you can use this instead. "
   ]
  }
 ],
 "metadata": {
  "language_info": {
   "codemirror_mode": {
    "name": "ipython"
   },
   "file_extension": ".py",
   "mimetype": "text/x-python",
   "name": "python",
   "nbconvert_exporter": "python"
  },
  "vscode": {
   "interpreter": {
    "hash": "c356581f63fdb862d21b8530e2fecebf3d406a06e3d3208273931edc8a0b30c1"
   }
  }
 },
 "nbformat": 4,
 "nbformat_minor": 2
}
