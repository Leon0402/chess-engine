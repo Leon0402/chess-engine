{
 "cells": [
  {
   "cell_type": "code",
   "execution_count": null,
   "metadata": {
    "tags": [
     "remove-cell"
    ]
   },
   "outputs": [],
   "source": [
    "from IPython.core.display import HTML\n",
    "with open('style.css') as file:\n",
    "    css = file.read()\n",
    "HTML(css)"
   ]
  },
  {
   "cell_type": "code",
   "execution_count": null,
   "metadata": {
    "tags": [
     "remove-cell"
    ]
   },
   "outputs": [],
   "source": [
    "# Convert notebooks to python, so they can be loaded effiently\n",
    "from utils.jupyter_loader import JupyterLoader\n",
    "\n",
    "loader = JupyterLoader()\n",
    "loader.load_all()"
   ]
  },
  {
   "cell_type": "markdown",
   "metadata": {},
   "source": [
    "# Project Setup\n",
    "\n",
    "One great advantage of python is the number of already built-in features such as native JSON or YAML support. Nevertheless, in almost all python projects there is some need to install additional third-party libraries. Most of these are available in the python package index (PyPi) and can easily be installed with the tool `pip`. \n",
    "These dependencies might require a specific platform, python version or even other dependencies in some specific versions. Newer versions of the libraries might not always be compatible with older versions. In a collaborative project, it is therefore essential to specify the dependencies and their version. Pip has a built-in way to do this by writing all installed dependencies and their version to a requirements.txt file with the command `pip freeze > requirements.txt`. Another developer can then install exactly these dependencies with the command `pip install -r requirements.txt`. \n",
    "\n",
    "The main problem with this approach is that all dependencies will be installed globally by default and therefore might conflict with other packages. Additionally, `requirements.txt` will also contain all globally installed dependencies. To avoid these problems it is a common approach to create a virtual environment for each project. Some popular tools for creating and managing virtual environments are `virtualenv` and `pyenv`, both work well with `pip` and `requirements.txt`. \n",
    "\n",
    "Although this setup works in general it has the problem of being rather complex and error-prone. There are multiple tools needed and possibly documentation on how to use these in the project. Additionally, the workflow is not enforced by the tools, there is no need to name the file `requirements.txt` nor to even keep it up to date and therefore error-prone. Additional requirements such as building or publishing the package, although not relevant for this project, need additional tools. \n",
    "\n",
    "To deal with these issues there exist several tools operating on a higher level and combining the single tools. Some of the more popular tools are `Pipenv` and `Poetry`. Both are suitable for this project, but `Poetry` was chosen as it's already known by the authors. With poetry metadata and dependencies are listed in a `poetry.toml` file. The command `poetry install` will read the file and write a resolution of the dependencies and their version constraints to a `poetry.lock` file. Then it will create a new virtual environment or use a previously created one and install the resolved dependencies. If the `poetry.lock` file already exists the already resolved dependencies will be installed directly. To run a tool inside the virtual environment, use the `poetry run` command. For more detailed information on poetry consult the [documentation](https://python-poetry.org/docs/). Additionally, the project ships a `requirements.txt` file that was exported by `poetry`. If you feel more familar with other tools such as `virtualenv` or `conda`, then you can use this instead.\n",
    "\n",
    "By requirement, the chess engine will be built with jupyter notebook. To execute code inside a jupyter notebook a jupyter python kernel is needed. The kernel is a dependency of the project and will be installed in the virtual environment by poetry. Additionally, it might be necessary to generate a kernel description with `poetry run python -m ipykernel install --user --name=PutHereSomeNameForTheKernel` so the kernel can be selected in jupyter."
   ]
  }
 ],
 "metadata": {
  "language_info": {
   "codemirror_mode": {
    "name": "ipython"
   },
   "file_extension": ".py",
   "mimetype": "text/x-python",
   "name": "python",
   "nbconvert_exporter": "python"
  },
  "vscode": {
   "interpreter": {
    "hash": "b42f3920614829e661a3e80085f50421aa71f403bff6adf1f40efa6d26183877"
   }
  }
 },
 "nbformat": 4,
 "nbformat_minor": 2
}
