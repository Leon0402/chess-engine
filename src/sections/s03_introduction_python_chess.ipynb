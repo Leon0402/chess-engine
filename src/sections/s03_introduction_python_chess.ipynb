{
 "cells": [
  {
   "cell_type": "code",
   "execution_count": null,
   "metadata": {
    "tags": [
     "remove-cell",
     "no-python-export"
    ]
   },
   "outputs": [],
   "source": [
    "from IPython.core.display import HTML\n",
    "with open('style.css') as file:\n",
    "    css = file.read()\n",
    "HTML(css)"
   ]
  },
  {
   "cell_type": "code",
   "execution_count": null,
   "metadata": {
    "tags": [
     "remove-cell",
     "no-python-export"
    ]
   },
   "outputs": [],
   "source": [
    "# Convert notebooks to python, so they can be loaded effiently\n",
    "from utils.jupyter_loader import JupyterLoader\n",
    "\n",
    "loader = JupyterLoader()\n",
    "loader.load_all()"
   ]
  },
  {
   "cell_type": "markdown",
   "metadata": {},
   "source": [
    "# Introduction to python-chess\n",
    "\n",
    "To concentrate on the actual implementation of the chess engine, the game itself and its representation are handled by the `python-chess` library. Currently, the version `1.9.1` is used as specified in the dependencies files.\n",
    "\n",
    "One of the core classes is `Board`, which specifies a single chess position and a move stack. The default constructor will create a board with the standard chess starting position and is graphically represented as ASCII when printed. "
   ]
  },
  {
   "cell_type": "code",
   "execution_count": null,
   "metadata": {
    "tags": [
     "no-python-export"
    ]
   },
   "outputs": [],
   "source": [
    "import chess\n",
    "\n",
    "board = chess.Board()\n",
    "print(board)"
   ]
  },
  {
   "cell_type": "markdown",
   "metadata": {},
   "source": [
    "The board's interface allows working with the move stack by using standard stack operations such as `push`, `pop` or `peek`. The next example shows how to make moves with different chess notations. For the [universal chess interface (uci)](https://en.wikipedia.org/wiki/Universal_Chess_Interface) notation, which specifies the position of the piece and the target position, the `chess.Move.from_uci(uci: str)` can be used in combination with `Board.push(move: chess.Move)`. For the [standard algebraic notation (san)](https://www.chessprogramming.org/Algebraic_Chess_Notation#Standard_Algebraic_Notation_.28SAN.29), which specifies the piece and target position, the function `Board.push_san(san: str)` can be used. "
   ]
  },
  {
   "cell_type": "code",
   "execution_count": null,
   "metadata": {
    "tags": [
     "no-python-export"
    ]
   },
   "outputs": [],
   "source": [
    "board.push_san(\"e4\")\n",
    "board.push_san(\"e5\")\n",
    "board.push_san(\"Qh5\")\n",
    "board.push_san(\"Nc6\")\n",
    "board.push(chess.Move.from_uci(\"f1c4\"))\n",
    "board.push(chess.Move.from_uci(\"g8f6\"))\n",
    "board.push(chess.Move.from_uci(\"h5f7\"))"
   ]
  },
  {
   "cell_type": "markdown",
   "metadata": {},
   "source": [
    "Again, the current position can be printed as ASCII or instead as an SVG image using the display function `IPython.display.display`. For the last instruction in each python cell, this function will be used automatically."
   ]
  },
  {
   "cell_type": "code",
   "execution_count": null,
   "metadata": {
    "tags": [
     "no-python-export"
    ]
   },
   "outputs": [],
   "source": [
    "board"
   ]
  },
  {
   "cell_type": "markdown",
   "metadata": {},
   "source": [
    "The above position is checkmate and is famously known as the [Scholar’s mate](https://en.wikipedia.org/wiki/Scholar%27s_mate). The library implements all chess rules and therefore allows checking that the above position is indeed checkmate with `board.is_checkmate()`. \n",
    "The board class offers a rich interface of functions and properties, such as `board.legal_moves` to get all allowed next moves or `board.is_stalemate()` to check for a stalemate, which will be introduced when needed. \n",
    "Additional features such as the inclusion of an opening book will be introduced as well when needed. "
   ]
  }
 ],
 "metadata": {
  "language_info": {
   "codemirror_mode": {
    "name": "ipython"
   },
   "file_extension": ".py",
   "mimetype": "text/x-python",
   "name": "python",
   "nbconvert_exporter": "python"
  },
  "vscode": {
   "interpreter": {
    "hash": "c356581f63fdb862d21b8530e2fecebf3d406a06e3d3208273931edc8a0b30c1"
   }
  }
 },
 "nbformat": 4,
 "nbformat_minor": 2
}
