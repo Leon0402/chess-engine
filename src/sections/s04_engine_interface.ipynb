{
 "cells": [
  {
   "cell_type": "code",
   "execution_count": null,
   "metadata": {
    "tags": [
     "remove-cell",
     "no-python-export"
    ]
   },
   "outputs": [],
   "source": [
    "from IPython.core.display import HTML\n",
    "with open('style.css') as file:\n",
    "    css = file.read()\n",
    "HTML(css)\n",
    "\n",
    "# Convert notebooks to python, so they can be loaded effiently\n",
    "from utils.jupyer_loader import JupyerLoader\n",
    "\n",
    "loader = JupyerLoader()\n",
    "loader.load_all()"
   ]
  },
  {
   "cell_type": "markdown",
   "metadata": {
    "tags": [
     "no-python-export"
    ]
   },
   "source": [
    "# Common Engine Interface\n",
    "\n",
    "Throughout the different chapters, multiple chess engines using different algorithms will be developed. In this chapter some common code needed by all engines will be developed.\n",
    "\n",
    "In general, all engines will need to represent a move along with a score. Therefore a simple data class `ScoredMove` is introduced. By using the `dataclass` decorater with `order=True` python comparison methods, \n",
    "such as `__lt__()`, will be auto-generated.\n",
    "This allows to compare two scored moves or sort a list of scored moves.\n",
    "The comparison is only based on the score as the move field has `compare=False`. "
   ]
  },
  {
   "cell_type": "code",
   "execution_count": null,
   "metadata": {},
   "outputs": [],
   "source": [
    "from dataclasses import dataclass, field\n",
    "import chess\n",
    "\n",
    "\n",
    "@dataclass(order=True)\n",
    "class ScoredMove:\n",
    "    \"\"\"Class for representing a move along with a score.\"\"\"\n",
    "    score: int\n",
    "    move: chess.Move = field(compare=False)"
   ]
  },
  {
   "cell_type": "markdown",
   "metadata": {
    "tags": [
     "no-python-export"
    ]
   },
   "source": [
    "To simplify writing generic code for playing a chess game with different engines,\n",
    "all engines will implement a common interface. \n",
    "The interface `Engine`,\n",
    "which is highly inspired by `chess.engine`,\n",
    "has two functions: `play` and `analyse`.\n",
    "\n",
    "The `play` function takes the current board as a parameter \n",
    "and returns a `chess.engine.PlayResult` object, \n",
    "which contains the next move \n",
    "and information if the engine offered a draw or resigned. \n",
    "\n",
    "The `analyse` function takes the board as a parameter as well \n",
    "and returns a list of `ScoredMove` objects.\n"
   ]
  },
  {
   "cell_type": "code",
   "execution_count": null,
   "metadata": {},
   "outputs": [],
   "source": [
    "import chess.engine\n",
    "import logging\n",
    "\n",
    "\n",
    "class Engine():\n",
    "    \"\"\"Common interface for all chess engines\"\"\"\n",
    "\n",
    "    def play(self, board: chess.Board) -> chess.engine.PlayResult:\n",
    "        logging.error(\"Not implemented by this engine\")\n",
    "\n",
    "    def analyse(self, board: chess.Board) -> list[ScoredMove]:\n",
    "        logging.error(\"Not implemented by this engine\")"
   ]
  }
 ],
 "metadata": {
  "interpreter": {
   "hash": "b42f3920614829e661a3e80085f50421aa71f403bff6adf1f40efa6d26183877"
  },
  "language_info": {
   "codemirror_mode": {
    "name": "ipython"
   },
   "file_extension": ".py",
   "mimetype": "text/x-python",
   "name": "python",
   "nbconvert_exporter": "python"
  }
 },
 "nbformat": 4,
 "nbformat_minor": 2
}
