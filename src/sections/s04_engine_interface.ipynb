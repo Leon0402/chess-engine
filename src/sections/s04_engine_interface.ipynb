{
 "cells": [
  {
   "cell_type": "code",
   "execution_count": null,
   "metadata": {
    "tags": [
     "remove-cell",
     "no-python-export"
    ]
   },
   "outputs": [],
   "source": [
    "from IPython.core.display import HTML\n",
    "with open('style.css') as file:\n",
    "    css = file.read()\n",
    "HTML(css)"
   ]
  },
  {
   "cell_type": "code",
   "execution_count": null,
   "metadata": {
    "tags": [
     "remove-cell",
     "no-python-export"
    ]
   },
   "outputs": [],
   "source": [
    "# Convert notebooks to python, so they can be loaded effiently\n",
    "from utils.jupyter_loader import JupyterLoader\n",
    "\n",
    "loader = JupyterLoader()\n",
    "loader.load_all()"
   ]
  },
  {
   "cell_type": "markdown",
   "metadata": {
    "tags": [
     "no-python-export"
    ]
   },
   "source": [
    "# Common Engine Interface\n",
    "\n",
    "Throughout the different chapters, multiple chess engines using different algorithms will be developed. In this chapter some common code needed by all engines will be developed.\n",
    "\n",
    "In general, all engines will need to represent a move along with a score. Therefore, a simple data class `ScoredMove` is introduced, which has two attributes `score` and `move`. The `score` attribute has the type `chess.engine.Score` and is able to represent scores in centipawns as well as Mates. By using the `dataclass` decorator with `order=True` python comparison methods, \n",
    "such as `__lt__()`, will be auto-generated.\n",
    "This allows to compare two scored moves or sort a list of scored moves.\n",
    "The comparison is only based on the score as the move field has `compare=False`. "
   ]
  },
  {
   "cell_type": "code",
   "execution_count": null,
   "metadata": {},
   "outputs": [],
   "source": [
    "from dataclasses import dataclass, field\n",
    "import chess\n",
    "from chess.engine import Score\n",
    "\n",
    "\n",
    "@dataclass(order=True)\n",
    "class ScoredMove:\n",
    "    \"\"\"Class for representing a move along with a score.\"\"\"\n",
    "    score: Score\n",
    "    move: chess.Move = field(compare=False)"
   ]
  },
  {
   "cell_type": "markdown",
   "metadata": {
    "tags": [
     "no-python-export"
    ]
   },
   "source": [
    "To simplify writing generic code for playing a chess game with different engines,\n",
    "all engines will implement a common interface. \n",
    "The interface `Engine`,\n",
    "which is inspired by the `chess.engine` interface,\n",
    "has two functions: `play` and `analyse`.\n",
    "\n",
    "The `play` function takes the current board `board` as a parameter \n",
    "and returns a `chess.engine.PlayResult` object, \n",
    "which contains the next move \n",
    "and information if the engine offered a draw or resigned. \n",
    "\n",
    "The `analyse` function takes the board `board` as a parameter as well \n",
    "and returns a list of `ScoredMove` objects, which contains an entry for each possible next move."
   ]
  },
  {
   "cell_type": "code",
   "execution_count": null,
   "metadata": {},
   "outputs": [],
   "source": [
    "import chess.engine\n",
    "import logging\n",
    "\n",
    "\n",
    "class Engine():\n",
    "    \"\"\"Common interface for all chess engines\"\"\"\n",
    "\n",
    "    def play(self, board: chess.Board) -> chess.engine.PlayResult:\n",
    "        logging.error(\"Not implemented by this engine\")\n",
    "\n",
    "    def analyse(self, board: chess.Board) -> list[ScoredMove]:\n",
    "        logging.error(\"Not implemented by this engine\")"
   ]
  },
  {
   "cell_type": "markdown",
   "metadata": {},
   "source": [
    "Additionally, we enhance the `chess.engine.Score` class and its deriving classes to simplify code later. Many of the algorithms will need scores as bounds that cannot actually be reached. Therefore, two classes `HighestScoreType` and `LowestScoreType` are defined as well as concrete instanced of these classes `HighestScore` and `LowestScore`, respectively. `HighestScore` will be an upper bound for all possible scores and `LowestScore` a lower bound. The method `_score_tuple` is responsible for returning a tuple that will be used for ordering and therefore needs to be overwritten by both classes. Additionally, there are a few abstract methods that need to be implemented. "
   ]
  },
  {
   "cell_type": "code",
   "execution_count": null,
   "metadata": {},
   "outputs": [],
   "source": [
    "from chess.engine import Score, Cp\n",
    "from typing import Tuple, Optional\n",
    "import math\n",
    "\n",
    "\n",
    "class HighestScoreType(Score):\n",
    "\n",
    "    def _score_tuple(self) -> Tuple[bool, bool, bool, int, Optional[int]]:\n",
    "        return (True, True, True, math.inf, math.inf)\n",
    "\n",
    "    def mate(self) -> None:\n",
    "        return None\n",
    "\n",
    "    def score(self, *, mate_score: Optional[int] = None) -> int:\n",
    "        raise NotImplementedError\n",
    "\n",
    "    def wdl(self, *, model=\"sf\", ply: int = 30):\n",
    "        raise NotImplementedError\n",
    "\n",
    "    def __neg__(self) -> Cp:\n",
    "        return LowestScoreType()\n",
    "\n",
    "    def __pos__(self) -> Cp:\n",
    "        raise NotImplementedError\n",
    "\n",
    "    def __abs__(self) -> Cp:\n",
    "        raise NotImplementedError\n",
    "\n",
    "\n",
    "HighestScore = HighestScoreType()\n",
    "\n",
    "\n",
    "class LowestScoreType(Score):\n",
    "\n",
    "    def _score_tuple(self) -> Tuple[bool, bool, bool, int, Optional[int]]:\n",
    "        return (False, False, False, -math.inf, math.inf)\n",
    "\n",
    "    def mate(self) -> None:\n",
    "        return None\n",
    "\n",
    "    def score(self, *, mate_score: Optional[int] = None) -> int:\n",
    "        raise NotImplementedError\n",
    "\n",
    "    def wdl(self, *, model=\"sf\", ply: int = 30):\n",
    "        raise NotImplementedError\n",
    "\n",
    "    def __neg__(self) -> Cp:\n",
    "        return HighestScoreType()\n",
    "\n",
    "    def __pos__(self) -> Cp:\n",
    "        raise NotImplementedError\n",
    "\n",
    "    def __abs__(self) -> Cp:\n",
    "        raise NotImplementedError\n",
    "\n",
    "\n",
    "LowestScore = LowestScoreType()"
   ]
  },
  {
   "cell_type": "markdown",
   "metadata": {},
   "source": [
    "We can compare different scores and see that the `LowestScore` and `HighestScore` in deed work as bounds."
   ]
  },
  {
   "cell_type": "code",
   "execution_count": null,
   "metadata": {
    "tags": [
     "no-python-export"
    ]
   },
   "outputs": [],
   "source": [
    "from chess.engine import Mate, Cp, MateGiven\n",
    "\n",
    "LowestScore < Mate(-0) < Mate(-1) < Cp(-50) < Cp(200) < Mate(4) < Mate(\n",
    "    1\n",
    ") < MateGiven < HighestScore"
   ]
  },
  {
   "cell_type": "markdown",
   "metadata": {},
   "source": [
    "Another required functionality that `python-chess` does not provide is the ability to increase the number of moves of a Mate. We define a method `increased_mate` that will be added to the `chess.engine.Mate` class. It takes a number `move_increase` as a parameter and returns a mate with the number of moves increased by `move_increase`. A similar function is written for the `MateGivenType`, which will return a mate with the given number."
   ]
  },
  {
   "cell_type": "code",
   "execution_count": null,
   "metadata": {},
   "outputs": [],
   "source": [
    "import chess.engine\n",
    "from chess.engine import Mate\n",
    "\n",
    "\n",
    "def increased_mate(self, move_increase: int) -> Mate:\n",
    "    if self > Cp(0):\n",
    "        return Mate(self.mate() + move_increase)\n",
    "    return Mate(self.mate() - move_increase)\n",
    "\n",
    "\n",
    "chess.engine.Mate.increased_mate = increased_mate\n",
    "\n",
    "\n",
    "def increased_mate(self, move_increase: int) -> Mate:\n",
    "    return Mate(move_increase)\n",
    "\n",
    "\n",
    "chess.engine.MateGivenType.increased_mate = increased_mate"
   ]
  },
  {
   "cell_type": "markdown",
   "metadata": {},
   "source": [
    "We can write some test cases for the different combinations."
   ]
  },
  {
   "cell_type": "code",
   "execution_count": null,
   "metadata": {
    "tags": [
     "no-python-export"
    ]
   },
   "outputs": [],
   "source": [
    "assert Mate(3).increased_mate(2) == Mate(5)\n",
    "assert MateGiven.increased_mate(3) == Mate(3)\n",
    "assert Mate(-3).increased_mate(2) == Mate(-5)\n",
    "assert Mate(-0).increased_mate(3) == Mate(-3)"
   ]
  }
 ],
 "metadata": {
  "language_info": {
   "codemirror_mode": {
    "name": "ipython"
   },
   "file_extension": ".py",
   "mimetype": "text/x-python",
   "name": "python",
   "nbconvert_exporter": "python"
  },
  "vscode": {
   "interpreter": {
    "hash": "c356581f63fdb862d21b8530e2fecebf3d406a06e3d3208273931edc8a0b30c1"
   }
  }
 },
 "nbformat": 4,
 "nbformat_minor": 2
}
