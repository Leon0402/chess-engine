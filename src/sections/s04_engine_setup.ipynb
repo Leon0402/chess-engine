{
 "cells": [
  {
   "cell_type": "code",
   "execution_count": null,
   "metadata": {
    "tags": [
     "remove-cell"
    ]
   },
   "outputs": [],
   "source": [
    "from IPython.core.display import HTML\n",
    "with open('style.css') as file:\n",
    "    css = file.read()\n",
    "HTML(css)"
   ]
  },
  {
   "cell_type": "markdown",
   "metadata": {},
   "source": [
    "# Engine Setup \n",
    "\n",
    "Within this chapter the simplest form of a chess engine wil be developed, one that makes random moves. \n",
    "It will be possible to play against the engine or let two engines play against each others. \n",
    "As the goal is to incrementally enhance the chess engine, a base class for the Engine and a generic play function is implemented."
   ]
  },
  {
   "cell_type": "markdown",
   "metadata": {},
   "source": [
    "## Common Engine Interface\n",
    "\n",
    "In general, all engines will need to represent a move along with a score. Therefore a simple data class `ScoredMove` is introduced. By using the `dataclass` decorater with `order=True` python comparison methods, \n",
    "such as `__lt__()`, will be auto-generated.\n",
    "This allows to compare two scored moves or sort a list of scored moves.\n",
    "The comparison is only based on the score as the move field has `compare=False`. "
   ]
  },
  {
   "cell_type": "code",
   "execution_count": null,
   "metadata": {},
   "outputs": [],
   "source": [
    "from dataclasses import dataclass, field\n",
    "import chess\n",
    "\n",
    "\n",
    "@dataclass(order=True)\n",
    "class ScoredMove:\n",
    "    \"\"\"Class for representing a move along with a score.\"\"\"\n",
    "    score: int\n",
    "    move: chess.Move = field(compare=False)"
   ]
  },
  {
   "cell_type": "markdown",
   "metadata": {},
   "source": [
    "To simplify writing generic code for playing a chess game with different engines,\n",
    "all engines will implement a common interface. \n",
    "The interface `Engine`,\n",
    "which is highly inspired by `chess.engine`,\n",
    "has two abstract functions: `play` and `analyse`.\n",
    "\n",
    "The `play` function takes the current board as a parameter \n",
    "and returns a `chess.engine.PlayResult` object, \n",
    "which contains the next move \n",
    "and information if the engine offered a draw or resigned. \n",
    "\n",
    "The `analyse` function takes the board as a parameter as well \n",
    "and returns a list of `ScoredMove` objects."
   ]
  },
  {
   "cell_type": "code",
   "execution_count": null,
   "metadata": {},
   "outputs": [],
   "source": [
    "from abc import ABC, abstractmethod\n",
    "import chess.engine\n",
    "\n",
    "\n",
    "class Engine(ABC):\n",
    "    \"\"\"Common interface for all chess engines\"\"\"\n",
    "    @abstractmethod\n",
    "    def play(self, board: chess.Board) -> chess.engine.PlayResult:\n",
    "        pass\n",
    "\n",
    "    @abstractmethod\n",
    "    def analyse(self, board: chess.Board) -> list[ScoredMove]:\n",
    "        pass"
   ]
  },
  {
   "cell_type": "markdown",
   "metadata": {},
   "source": [
    "## Random Engine\n",
    "\n",
    "The `RandomEngine` inherits from `Engine` and implements both abstract methods. \n",
    "\n",
    "In the `play` function the engine radomly selects one of the legal moves provided by the `board` object and return it as a `chess.engine.PlayResult`.\n",
    "\n",
    "The `analyse` function returns a list of all possible legal moves with a score of zero for each as the random engine does not evaluate the moves."
   ]
  },
  {
   "cell_type": "code",
   "execution_count": null,
   "metadata": {},
   "outputs": [],
   "source": [
    "import random\n",
    "import chess.engine\n",
    "\n",
    "\n",
    "class RandomEngine(Engine):\n",
    "    \"\"\"Basic chess engine playing a random legal move\"\"\"\n",
    "    def play(self, board: chess.Board) -> chess.engine.PlayResult:\n",
    "        move = random.choice(list(board.legal_moves))\n",
    "        return chess.engine.PlayResult(move=move, ponder=None)\n",
    "\n",
    "    def analyse(self, board: chess.Board) -> list[ScoredMove]:\n",
    "        return [ScoredMove(0, move) for move in board.legal_moves]"
   ]
  },
  {
   "cell_type": "markdown",
   "metadata": {},
   "source": [
    "To let two engines play against each other a function is created. \n",
    "The function `playGameSimple` shows a simple implementation, which takes a chess board and two engines as a parameter.\n",
    "Until the game is over, the engines take turns making their moves."
   ]
  },
  {
   "cell_type": "code",
   "execution_count": null,
   "metadata": {},
   "outputs": [],
   "source": [
    "def playGameSimple(\n",
    "    board: chess.Board, engine1: Engine, engine2: Engine\n",
    ") -> chess.Board:\n",
    "    \"\"\"Function to play two Engines against each other\"\"\"\n",
    "    engines = [engine1, engine2]\n",
    "\n",
    "    while not board.is_game_over():\n",
    "        move = engines[0].play(board).move\n",
    "        board.push(move)\n",
    "        engines[0], engines[1] = engines[1], engines[0]\n",
    "\n",
    "    return board"
   ]
  },
  {
   "cell_type": "markdown",
   "metadata": {},
   "source": [
    "A more enhanced version of this simple play function is `playGame`. \n",
    "Optionally, it can display the chess board after every move when passing `displayBoard = True` to the function. \n",
    "The second optional feature, enabled by passing `logMoves = True`, logs every move to a file with the current timestamp as the filename to ensure uniqueness. "
   ]
  },
  {
   "cell_type": "code",
   "execution_count": null,
   "metadata": {},
   "outputs": [],
   "source": [
    "import IPython.display\n",
    "import time\n",
    "from datetime import datetime\n",
    "\n",
    "\n",
    "def displayChessBoard(board: chess.Board, display: bool = True):\n",
    "    if display:\n",
    "        IPython.display.clear_output(wait=True)\n",
    "        IPython.display.display(board)\n",
    "        time.sleep(0.5)\n",
    "\n",
    "\n",
    "def logMove(\n",
    "    board: chess.Board, move: chess.Move, fileName: str, log: bool = True\n",
    "):\n",
    "    if log:\n",
    "        with open(fileName, \"a\") as f:\n",
    "            if board.turn is chess.WHITE:\n",
    "                f.write(board.lan(move) + \"\\t\")\n",
    "            else:\n",
    "                f.write(board.lan(move) + \"\\n\")\n",
    "\n",
    "\n",
    "def playGame(\n",
    "    board: chess.Board,\n",
    "    engine1: Engine,\n",
    "    engine2: Engine,\n",
    "    displayBoard: bool = False,\n",
    "    logMoves: bool = False\n",
    ") -> chess.Board():\n",
    "    \"\"\"Function to play two Engines against each other\n",
    "    \n",
    "    Keyword arguments:\n",
    "    displayBoard -- toggle to enable displaying the board after each half turn (default false)\n",
    "    logMoves -- toggle to create a log of moves (default false)\n",
    "    \"\"\"\n",
    "    engines = [engine1, engine2]\n",
    "\n",
    "    logFileName = f\"../log/{datetime.isoformat(datetime.now())}.txt\"\n",
    "\n",
    "    displayChessBoard(board, displayBoard)\n",
    "\n",
    "    while not board.is_game_over():\n",
    "        move = engines[0].play(board).move\n",
    "\n",
    "        logMove(board, move, logFileName, logMoves)\n",
    "\n",
    "        board.push(move)\n",
    "        engines[0], engines[1] = engines[1], engines[0]\n",
    "\n",
    "        displayChessBoard(board, displayBoard)\n",
    "    return board"
   ]
  },
  {
   "cell_type": "markdown",
   "metadata": {},
   "source": [
    "Next, \n",
    "the function is called \n",
    "with two `RandomEngine` objects \n",
    "and then prints the outcome of the board \n",
    "and the end position. \n",
    "When passsing `displayBoard=True` \n",
    "one can see that both engines play without any strategy.\n",
    "\n",
    "The random number generator (RNG) depends on an inital seed. \n",
    "In the code the seed is explicitly set to create reproducible result.\n",
    "For real world applications, the seed should be set by a high entropy source."
   ]
  },
  {
   "cell_type": "code",
   "execution_count": null,
   "metadata": {},
   "outputs": [],
   "source": [
    "random.seed(42)\n",
    "board = chess.Board()\n",
    "playGame(board, RandomEngine(), RandomEngine())\n",
    "IPython.display.display(board)\n",
    "print(board.outcome())"
   ]
  },
  {
   "cell_type": "markdown",
   "metadata": {},
   "source": [
    "## Human Player \n",
    "\n",
    "Next, it should be possible to play against the random engine with human input. \n",
    "In ordner to be compatible with the previously defined `playGame` method, player input is realized as an engine too. \n",
    "\n",
    "In the `HumanEngine` class only the `play` method is defined, which takes the input in uci notation from the player. \n",
    "The `analyze` method reuses the implementation of the `RandomEngine` and therefore just returns every possible move with a score of zero."
   ]
  },
  {
   "cell_type": "code",
   "execution_count": null,
   "metadata": {},
   "outputs": [],
   "source": [
    "class HumanEngine(Engine):\n",
    "    \"\"\"Chess engine using the abilities of a human player\"\"\"\n",
    "    \"\"\"List of keywords to abort input\"\"\"\n",
    "    ABORT_KEYWORDS = [\"EXIT\", \"CANCEL\"]\n",
    "\n",
    "    def play(self, board: chess.Board) -> chess.engine.PlayResult:\n",
    "        \"\"\"Play method taking input of human players\"\"\"\n",
    "        whitesTurn = board.turn is chess.WHITE\n",
    "        legalMoves = board.legal_moves\n",
    "        while True:\n",
    "            enteredMove = input(\n",
    "                f\"Enter move for {'white' if whitesTurn else 'black'} in UCI notation: \"\n",
    "            )\n",
    "            if enteredMove.upper() in HumanEngine.ABORT_KEYWORDS:\n",
    "                raise Exception(\"User aborted\")\n",
    "\n",
    "            try:\n",
    "                move = chess.Move.from_uci(enteredMove)\n",
    "                if move in legalMoves:\n",
    "                    return ScoredMove(0, move)\n",
    "                print(\"Illegal input. Please try again.\")\n",
    "            except ValueError:\n",
    "                print(f\"Illegal notation. Valid moves are {list(legalMoves)}\")\n",
    "\n",
    "    analyse = RandomEngine.analyse"
   ]
  },
  {
   "cell_type": "markdown",
   "metadata": {},
   "source": [
    "This engine can be used as shown in the following commented block."
   ]
  },
  {
   "cell_type": "code",
   "execution_count": null,
   "metadata": {
    "tags": [
     "skip-execution"
    ]
   },
   "outputs": [],
   "source": [
    "# random.seed(42)\n",
    "# board = chess.Board()\n",
    "# playGame(board, HumanEngine(), RandomEngine(), displayBoard=True)\n",
    "# print(board.outcome())"
   ]
  }
 ],
 "metadata": {
  "interpreter": {
   "hash": "b42f3920614829e661a3e80085f50421aa71f403bff6adf1f40efa6d26183877"
  },
  "language_info": {
   "codemirror_mode": {
    "name": "ipython"
   },
   "file_extension": ".py",
   "mimetype": "text/x-python",
   "name": "python",
   "nbconvert_exporter": "python"
  }
 },
 "nbformat": 4,
 "nbformat_minor": 2
}
