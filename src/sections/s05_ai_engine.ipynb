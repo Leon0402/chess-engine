{
 "cells": [
  {
   "cell_type": "code",
   "execution_count": null,
   "metadata": {
    "tags": [
     "remove-cell"
    ]
   },
   "outputs": [],
   "source": [
    "%%capture\n",
    "\n",
    "from IPython.core.display import HTML\n",
    "with open('style.css') as file:\n",
    "    css = file.read()\n",
    "HTML(css)\n",
    "\n",
    "%run s04_engine_setup.ipynb"
   ]
  },
  {
   "cell_type": "markdown",
   "metadata": {},
   "source": [
    "# AI Engine"
   ]
  },
  {
   "cell_type": "markdown",
   "metadata": {},
   "source": [
    "## Add first evaluation function\n",
    "\n",
    "The next engine \n",
    "is the first one\n",
    "to evaluate chess positions \n",
    "to find better moves. \n",
    "Instead of creating the `AbsoluteEvaluationEngine` as one block of code,\n",
    "a slightly different approach will be taken here: First all class attributes and methods will be shown and then the class is assembled.\n",
    "To avoid confusions and global namespace pollution all methods are prefixed with the class name. \n",
    "In the class later they won't have the prefix and therefore are in explanations as well as in other methods referred to without their prefix."
   ]
  },
  {
   "cell_type": "markdown",
   "metadata": {},
   "source": [
    "\n",
    "A simple way of evaluating a move \n",
    "is based on absolute values for each piece.\n",
    "The dictionary `PIECE_VALUES` associates a chess piece type with a value as commonly defined in {cite}`Capablanca2006` and other books."
   ]
  },
  {
   "cell_type": "code",
   "execution_count": null,
   "metadata": {},
   "outputs": [],
   "source": [
    "import chess\n",
    "\n",
    "AbsoluteEvaluationEngine_PIECE_VALUES = {\n",
    "    chess.PAWN: 1,\n",
    "    chess.KNIGHT: 3,\n",
    "    chess.BISHOP: 3,\n",
    "    chess.ROOK: 5,\n",
    "    chess.QUEEN: 9,\n",
    "    chess.KING: 0\n",
    "}"
   ]
  },
  {
   "cell_type": "markdown",
   "metadata": {},
   "source": [
    "The evaluation\n",
    "of the game \n",
    "is determined by summing up the piece values of all the white pieces\n",
    "and subtracting the piece values of all the black pieces. \n",
    "A positive score therefore is good for White whereas a negative score is good for Black. \n",
    "This is implemented in the method `_absolute_heuristic`,\n",
    "which takes a board as input \n",
    "and returns an integer representing this evaluation. "
   ]
  },
  {
   "cell_type": "code",
   "execution_count": null,
   "metadata": {},
   "outputs": [],
   "source": [
    "def AbsoluteEvaluationEngine__absolute_heuristic(\n",
    "    self, board: chess.Board\n",
    ") -> int:\n",
    "    \"\"\"Calculate the value of all pieces on the board\"\"\"\n",
    "\n",
    "    whitePositions = chess.SquareSet(board.occupied_co[chess.WHITE])\n",
    "    whiteScore = sum(\n",
    "        self.PIECE_VALUES[board.piece_type_at(square)]\n",
    "        for square in whitePositions\n",
    "    )\n",
    "\n",
    "    blackPositions = chess.SquareSet(board.occupied_co[chess.BLACK])\n",
    "    blackScore = sum(\n",
    "        self.PIECE_VALUES[board.piece_type_at(square)]\n",
    "        for square in blackPositions\n",
    "    )\n",
    "\n",
    "    return whiteScore - blackScore"
   ]
  },
  {
   "cell_type": "markdown",
   "metadata": {},
   "source": [
    "To have an incentive to win,\n",
    "the value of a winning board \n",
    "is valued with 100.\n",
    "As a draw has no advantage for either side\n",
    "it is valued with 0.\n",
    "For better readability \n",
    "these values are also stored in constants."
   ]
  },
  {
   "cell_type": "code",
   "execution_count": null,
   "metadata": {},
   "outputs": [],
   "source": [
    "AbsoluteEvaluationEngine_VALUE_CHECKMATE = 100\n",
    "AbsoluteEvaluationEngine_VALUE_DRAW = 0"
   ]
  },
  {
   "cell_type": "markdown",
   "metadata": {},
   "source": [
    "There exist multiple draw conditions, \n",
    "so for ease of use, \n",
    "they are combined into one function, \n",
    "which is added to the `chess.Board` class afterwards.\n",
    "This form of dynamic class modification is called monkey patching in the python community \n",
    "and is often used as a technique to patch third party code {cite}`plone:glossary`."
   ]
  },
  {
   "cell_type": "code",
   "execution_count": null,
   "metadata": {},
   "outputs": [],
   "source": [
    "def is_draw(self) -> bool:\n",
    "    \"\"\"Function to check for all automatically enforced draw conditions\"\"\"\n",
    "    return self.is_stalemate() or self.is_insufficient_material(\n",
    "    ) or self.is_fivefold_repetition() or self.is_seventyfive_moves()\n",
    "\n",
    "\n",
    "chess.Board.is_draw = is_draw"
   ]
  },
  {
   "cell_type": "markdown",
   "metadata": {},
   "source": [
    "Having declared this helper function and the values for end conditions, the next function `_evaluate_move` calculates the score of a single move. \n",
    "The given move - or rather the resulting next board - is evaluated by first checking\n",
    "for checkmate or draw, or otherwise by using the previously implemented `_absolute_heuristic` method."
   ]
  },
  {
   "cell_type": "code",
   "execution_count": null,
   "metadata": {},
   "outputs": [],
   "source": [
    "def AbsoluteEvaluationEngine__evaluate_move(\n",
    "    self, board: chess.Board, move: chess.Move\n",
    ") -> ScoredMove:\n",
    "    \"\"\"Evaluate a single move using _absolute_heuristic\"\"\"\n",
    "    whitesTurn = board.turn is chess.WHITE\n",
    "\n",
    "    board.push(move)\n",
    "    if board.is_checkmate():\n",
    "        score = self.VALUE_CHECKMATE if whitesTurn else -self.VALUE_CHECKMATE\n",
    "    elif board.is_draw():\n",
    "        score = self.VALUE_DRAW\n",
    "    else:\n",
    "        score = self._absolute_heuristic(board)\n",
    "    board.pop()\n",
    "\n",
    "    return ScoredMove(score, move)"
   ]
  },
  {
   "cell_type": "markdown",
   "metadata": {},
   "source": [
    "Next, the `analyse` method can be defined to score all legal moves using the `_evaluate_move` method.\n",
    "\n",
    "The scored moves are then shuffled and, afterwards, sorted by their score, \n",
    "creating a different order of moves having the same score, \n",
    "depending on the state of the RNG.\n",
    "\n",
    "By default, the python `sort` method sorts from lowest to highest. \n",
    "Therefore, the first move is the best for Black, unless the sorting order is reversed."
   ]
  },
  {
   "cell_type": "code",
   "execution_count": null,
   "metadata": {},
   "outputs": [],
   "source": [
    "import random\n",
    "\n",
    "\n",
    "def AbsoluteEvaluationEngine_analyse(self,\n",
    "                                     board: chess.Board) -> list[ScoredMove]:\n",
    "    \"\"\"Analyse method using _absolute_heuristic\"\"\"\n",
    "    nextMoves = [self._evaluate_move(board, move) for move in board.legal_moves]\n",
    "\n",
    "    random.shuffle(nextMoves)\n",
    "\n",
    "    whitesTurn = board.turn is chess.WHITE\n",
    "    nextMoves.sort(reverse=whitesTurn)\n",
    "\n",
    "    return nextMoves"
   ]
  },
  {
   "cell_type": "markdown",
   "metadata": {},
   "source": [
    "The `play` method will simply return the best move from `analyse` as an `chess.engine.PlayResult`. \n",
    "In case of having multiple best values, the taken move is random as the `analyse` shuffles the list."
   ]
  },
  {
   "cell_type": "code",
   "execution_count": null,
   "metadata": {},
   "outputs": [],
   "source": [
    "def AbsoluteEvaluationEngine_play(\n",
    "    self, board: chess.Board\n",
    ") -> chess.engine.PlayResult:\n",
    "    bestScoredMove = self.analyse(board)[0]\n",
    "    return chess.engine.PlayResult(move=bestScoredMove.move, ponder=None)"
   ]
  },
  {
   "cell_type": "markdown",
   "metadata": {},
   "source": [
    "Having all functions and attributes defined, the `AbsoluteEvaluationEngine` class can be assembled."
   ]
  },
  {
   "cell_type": "code",
   "execution_count": null,
   "metadata": {},
   "outputs": [],
   "source": [
    "class AbsoluteEvaluationEngine(Engine):\n",
    "    \"\"\"Chess engine using the absolute value of the chessboard to evalute moves\"\"\"\n",
    "    # Class attributes\n",
    "    VALUE_CHECKMATE = AbsoluteEvaluationEngine_VALUE_CHECKMATE\n",
    "    VALUE_DRAW = AbsoluteEvaluationEngine_VALUE_DRAW\n",
    "    PIECE_VALUES = AbsoluteEvaluationEngine_PIECE_VALUES\n",
    "\n",
    "    # Helper methods\n",
    "    _absolute_heuristic = AbsoluteEvaluationEngine__absolute_heuristic\n",
    "    _evaluate_move = AbsoluteEvaluationEngine__evaluate_move\n",
    "\n",
    "    # Public methods\n",
    "    play = AbsoluteEvaluationEngine_play\n",
    "    analyse = AbsoluteEvaluationEngine_analyse"
   ]
  },
  {
   "cell_type": "markdown",
   "metadata": {},
   "source": [
    "The `AbsoluteEnhancedRandomEngine` strategy is to capture everything the engine can. \n",
    "Additionally, it is also able to find mate in one. \n",
    "Therefore, it has very good chances to win against the `RandomEngine`."
   ]
  },
  {
   "cell_type": "code",
   "execution_count": null,
   "metadata": {},
   "outputs": [],
   "source": [
    "random.seed(42)\n",
    "board_absolute = chess.Board()\n",
    "board_absolute = playGame(\n",
    "    board_absolute,\n",
    "    AbsoluteEvaluationEngine(),\n",
    "    RandomEngine(),\n",
    "    displayBoard=False\n",
    ")\n",
    "IPython.display.display(board_absolute)\n",
    "print(board_absolute.outcome())"
   ]
  },
  {
   "cell_type": "markdown",
   "metadata": {},
   "source": [
    "To verfify the correctness the `_absolute_heuristic` its output is checked against some famous chess games."
   ]
  },
  {
   "cell_type": "code",
   "execution_count": null,
   "metadata": {},
   "outputs": [],
   "source": [
    "random.seed(42)\n",
    "engine = AbsoluteEvaluationEngine()\n",
    "\n",
    "# Topalov, Veselin (2740) vs. Shirov, Alexei (2710)\n",
    "SHIROV_SACRIFICE = \"8/8/4kpp1/3p1b2/p6P/2B5/6P1/6K1 b - - 0 47\"\n",
    "board = chess.Board(SHIROV_SACRIFICE)\n",
    "# IPython.display.display(board)\n",
    "assert engine._absolute_heuristic(board) == -2, \"Evaluation of position is not -2\"\n",
    "\n",
    "# Evgeny Yuryevich Vladimirov vs. Vladimir Viktorovich Epishin\n",
    "VLADIMIROV_THUNDERBOLT = \"r4k1r/1b2bPR1/p4n2/3p4/4P2P/1q2B2B/PpP5/1K4R1 w - - 0 26\"\n",
    "board = chess.Board(VLADIMIROV_THUNDERBOLT)\n",
    "# IPython.display.display(board)\n",
    "assert engine._absolute_heuristic(board) == -10, \"Evaluation of position is not -10\""
   ]
  },
  {
   "cell_type": "markdown",
   "metadata": {},
   "source": [
    "Additionally, a special chess position was constructed to test the `analyse` method. In this position, different moves such as capturings and promotions are possible."
   ]
  },
  {
   "cell_type": "code",
   "execution_count": null,
   "metadata": {},
   "outputs": [],
   "source": [
    "random.seed(42)\n",
    "PROMOTION_POSITION = \"Kn2rn1k/1p2P3/8/8/8/8/8/8 w - - 0 1\"\n",
    "board = chess.Board(PROMOTION_POSITION)\n",
    "# IPython.display.display(board)\n",
    "assert engine._absolute_heuristic(board) == -11, \"Evaluation of position is not -11\"\n",
    "result = engine.analyse(board)\n",
    "assert result == [ScoredMove(0, chess.Move.from_uci(\"e7f8q\")),\n",
    "                  ScoredMove(-4, chess.Move.from_uci(\"e7f8r\")),\n",
    "                  ScoredMove(-6, chess.Move.from_uci(\"e7f8b\")),\n",
    "                  ScoredMove(-6, chess.Move.from_uci(\"e7f8n\")),\n",
    "                  ScoredMove(-10, chess.Move.from_uci(\"a8b7\")),\n",
    "                  ScoredMove(-11, chess.Move.from_uci(\"a8b7\"))], f'{result} is not correct'"
   ]
  }
 ],
 "metadata": {
  "language_info": {
   "codemirror_mode": {
    "name": "ipython"
   },
   "file_extension": ".py",
   "mimetype": "text/x-python",
   "name": "python",
   "nbconvert_exporter": "python"
  }
 },
 "nbformat": 4,
 "nbformat_minor": 2
}
