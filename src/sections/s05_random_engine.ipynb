{
 "cells": [
  {
   "cell_type": "code",
   "execution_count": null,
   "metadata": {
    "tags": [
     "no-python-export",
     "remove-cell"
    ]
   },
   "outputs": [],
   "source": [
    "from IPython.core.display import HTML\n",
    "with open('style.css') as file:\n",
    "    css = file.read()\n",
    "HTML(css)"
   ]
  },
  {
   "cell_type": "code",
   "execution_count": null,
   "metadata": {
    "tags": [
     "no-python-export",
     "remove-cell"
    ]
   },
   "outputs": [],
   "source": [
    "# Autload python modules by default\n",
    "%load_ext autoreload\n",
    "%autoreload 2\n",
    "\n",
    "# Convert notebooks to python, so they can be loaded effiently\n",
    "from utils.jupyter_loader import JupyterLoader\n",
    "\n",
    "loader = JupyterLoader()\n",
    "loader.load_all()"
   ]
  },
  {
   "cell_type": "markdown",
   "metadata": {
    "tags": [
     "no-python-export"
    ]
   },
   "source": [
    "# Random Engine\n",
    "\n",
    "The first engine to be implemented will be one that only plays random moves. We therefore define a class `RandomEngine` which inherits from `Engine` and implements both abstract methods. \n",
    "\n",
    "In the `play` function the engine randomly selects one of the legal moves provided by the `board` object and returns it as a `chess.engine.PlayResult`.\n",
    "\n",
    "The `analyse` function returns a list of all possible legal moves with a score of zero for each as the random engine does not evaluate the moves."
   ]
  },
  {
   "cell_type": "code",
   "execution_count": null,
   "metadata": {},
   "outputs": [],
   "source": [
    "import random\n",
    "import chess.engine\n",
    "from converted_notebooks.s04_engine_interface import Engine, ScoredMove\n",
    "\n",
    "\n",
    "class RandomEngine(Engine):\n",
    "\n",
    "    def play(self, board: chess.Board) -> chess.engine.PlayResult:\n",
    "        move = random.choice(list(board.legal_moves))\n",
    "        return chess.engine.PlayResult(move=move, ponder=None)\n",
    "\n",
    "    def analyse(self, board: chess.Board) -> list[ScoredMove]:\n",
    "        return [ScoredMove(0, move) for move in board.legal_moves]"
   ]
  },
  {
   "cell_type": "markdown",
   "metadata": {
    "tags": [
     "no-python-export"
    ]
   },
   "source": [
    "To let two engines play against each other, we define a method `play_game_simple` which takes a chess board `board` and two engines `engine1` and `engine2` as a parameter. The engines take turns making their moves until the game is over."
   ]
  },
  {
   "cell_type": "code",
   "execution_count": null,
   "metadata": {
    "tags": [
     "no-python-export"
    ]
   },
   "outputs": [],
   "source": [
    "def play_game_simple(\n",
    "    board: chess.Board, engine1: Engine, engine2: Engine\n",
    ") -> chess.Board:\n",
    "    engines = [engine1, engine2]\n",
    "\n",
    "    while not board.is_game_over():\n",
    "        move = engines[0].play(board).move\n",
    "        board.push(move)\n",
    "        engines[0], engines[1] = engines[1], engines[0]\n",
    "\n",
    "    return board"
   ]
  },
  {
   "cell_type": "markdown",
   "metadata": {
    "tags": [
     "no-python-export"
    ]
   },
   "source": [
    "Next, the function is called with two `RandomEngine` objects and then prints the end position and the outcome of the game. \n",
    "The random number generator (RNG) depends on an initial seed. \n",
    "In the code the seed is explicitly set to create reproducible result."
   ]
  },
  {
   "cell_type": "code",
   "execution_count": null,
   "metadata": {
    "tags": [
     "no-python-export"
    ]
   },
   "outputs": [],
   "source": [
    "import IPython.display\n",
    "\n",
    "random.seed(42)\n",
    "\n",
    "board = chess.Board()\n",
    "play_game_simple(board, RandomEngine(), RandomEngine())\n",
    "IPython.display.display(board)\n",
    "print(board.outcome())"
   ]
  }
 ],
 "metadata": {
  "language_info": {
   "codemirror_mode": {
    "name": "ipython"
   },
   "file_extension": ".py",
   "mimetype": "text/x-python",
   "name": "python",
   "nbconvert_exporter": "python"
  },
  "vscode": {
   "interpreter": {
    "hash": "c356581f63fdb862d21b8530e2fecebf3d406a06e3d3208273931edc8a0b30c1"
   }
  }
 },
 "nbformat": 4,
 "nbformat_minor": 2
}
