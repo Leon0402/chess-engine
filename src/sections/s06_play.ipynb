{
 "cells": [
  {
   "cell_type": "code",
   "execution_count": null,
   "metadata": {
    "tags": [
     "no-python-export",
     "remove-cell"
    ]
   },
   "outputs": [],
   "source": [
    "from IPython.core.display import HTML\n",
    "with open('style.css') as file:\n",
    "    css = file.read()\n",
    "HTML(css)"
   ]
  },
  {
   "cell_type": "code",
   "execution_count": null,
   "metadata": {
    "tags": [
     "no-python-export",
     "remove-cell"
    ]
   },
   "outputs": [],
   "source": [
    "# Autload python modules by default\n",
    "%load_ext autoreload\n",
    "%autoreload 2\n",
    "\n",
    "# Convert notebooks to python, so they can be loaded effiently\n",
    "from utils.jupyter_loader import JupyterLoader\n",
    "\n",
    "loader = JupyterLoader()\n",
    "loader.load_all()"
   ]
  },
  {
   "cell_type": "markdown",
   "metadata": {
    "tags": [
     "no-python-export"
    ]
   },
   "source": [
    "# Play Game\n",
    "\n",
    "We already developed a small method to let two engines play against each other in the previous chapter. The goal is to write a more sophisticated method, which is able to:\n",
    "* Optionally display the board after each move \n",
    "* Optionally write the game in a file"
   ]
  },
  {
   "cell_type": "markdown",
   "metadata": {
    "tags": [
     "no-python-export"
    ]
   },
   "source": [
    "To display the board after each move a helper function `display_chess_board` is defined. As a parameter it takes the current chess board `board` and a boolean flag `display`. If `display` is set to `False` the method will do nothing, otherwise it clears the current output, displays the board and waits half a second, so the animation is fluent when the method is called multiple times."
   ]
  },
  {
   "cell_type": "code",
   "execution_count": null,
   "metadata": {},
   "outputs": [],
   "source": [
    "import chess\n",
    "import time\n",
    "import IPython.display\n",
    "\n",
    "\n",
    "def display_chess_board(board: chess.Board, display: bool = True):\n",
    "    if display:\n",
    "        IPython.display.clear_output(wait=True)\n",
    "        IPython.display.display(board)\n",
    "        time.sleep(0.5)"
   ]
  },
  {
   "cell_type": "markdown",
   "metadata": {
    "tags": [
     "no-python-export"
    ]
   },
   "source": [
    "A helper method `log_move` is implemented to write one move to a file. It takes the current chess board `board` as a parameter, the move `move` that should be logged, the name of the file `file_name` to log into and a boolean flag `log`. Similarly to before, the method will not do anything if `log` is set to `False`. Otherwise, it writes the move into the file."
   ]
  },
  {
   "cell_type": "code",
   "execution_count": null,
   "metadata": {},
   "outputs": [],
   "source": [
    "def log_move(\n",
    "    board: chess.Board, move: chess.Move, file_name: str, log: bool = True\n",
    "):\n",
    "    if log:\n",
    "        with open(file_name, \"a\") as f:\n",
    "            if board.turn is chess.WHITE:\n",
    "                f.write(board.lan(move) + \"\\t\")\n",
    "            else:\n",
    "                f.write(board.lan(move) + \"\\n\")"
   ]
  },
  {
   "cell_type": "markdown",
   "metadata": {
    "tags": [
     "no-python-export"
    ]
   },
   "source": [
    "Next, we can define the actual `play_game` method to let two engines play each other. As a parameter, it takes the start position `board`, two engines `engine1` and `engine2` as well as two boolean flags `display_board` and `log_moves` to decide whether the board should be displayed after each half turn and the moves should be logged to a file, respectively."
   ]
  },
  {
   "cell_type": "code",
   "execution_count": null,
   "metadata": {},
   "outputs": [],
   "source": [
    "from converted_notebooks.s04_engine_interface import Engine\n",
    "from datetime import datetime\n",
    "\n",
    "\n",
    "def play_game(\n",
    "    board: chess.Board,\n",
    "    engine1: Engine,\n",
    "    engine2: Engine,\n",
    "    display_board: bool = False,\n",
    "    log_moves: bool = False\n",
    ") -> chess.Board():\n",
    "    engines = [engine1, engine2]\n",
    "\n",
    "    log_file_ame = f\"../../log/{datetime.now().strftime('%Y%m%d-%H%M%S')}.txt\"\n",
    "\n",
    "    display_chess_board(board, display_board)\n",
    "\n",
    "    while not board.is_game_over():\n",
    "        move = engines[0].play(board).move\n",
    "\n",
    "        log_move(board, move, log_file_ame, log_moves)\n",
    "\n",
    "        board.push(move)\n",
    "        engines[0], engines[1] = engines[1], engines[0]\n",
    "\n",
    "        display_chess_board(board, display_board)\n",
    "    return board"
   ]
  },
  {
   "cell_type": "markdown",
   "metadata": {
    "tags": [
     "no-python-export"
    ]
   },
   "source": [
    "We can test the function by letting two random engines play against each other. By passing `display_board = True` one can see very clearly that both play randomly and without any strategy."
   ]
  },
  {
   "cell_type": "code",
   "execution_count": null,
   "metadata": {
    "tags": [
     "no-python-export",
     "skip-execution"
    ]
   },
   "outputs": [],
   "source": [
    "import random\n",
    "from converted_notebooks.s05_random_engine import RandomEngine\n",
    "\n",
    "random.seed(42)\n",
    "\n",
    "board = chess.Board()\n",
    "play_game(board, RandomEngine(), RandomEngine(), display_board=True)\n",
    "print(board.outcome())"
   ]
  },
  {
   "cell_type": "markdown",
   "metadata": {
    "tags": [
     "no-python-export"
    ]
   },
   "source": [
    "As described earlier, the `Engine` interface is similar to the one defined by the `python-chess` library, but with fewer details that are not needed for our engines. To still be able to play against external engines with an uci interface, a wrapper class `UciEngine` that inherits `Engine` is introduced."
   ]
  },
  {
   "cell_type": "code",
   "execution_count": null,
   "metadata": {},
   "outputs": [],
   "source": [
    "class UciEngine(Engine):\n",
    "\n",
    "    def __init__(\n",
    "        self,\n",
    "        engine_executable: str = \"stockfish\",\n",
    "        limit: chess.engine.Limit = chess.engine.Limit(time=0.1)\n",
    "    ):\n",
    "        self.limit = limit\n",
    "        self.engine = chess.engine.SimpleEngine.popen_uci(engine_executable)\n",
    "\n",
    "    def play(self, board: chess.Board) -> chess.engine.PlayResult:\n",
    "        return self.engine.play(board, self.limit)"
   ]
  },
  {
   "cell_type": "markdown",
   "metadata": {
    "tags": [
     "no-python-export"
    ]
   },
   "source": [
    "We can then let the random engine play against `stockfish`."
   ]
  },
  {
   "cell_type": "code",
   "execution_count": null,
   "metadata": {
    "tags": [
     "no-python-export",
     "skip-execution"
    ]
   },
   "outputs": [],
   "source": [
    "import random\n",
    "from converted_notebooks.s05_random_engine import RandomEngine\n",
    "\n",
    "random.seed(42)\n",
    "\n",
    "board = chess.Board()\n",
    "play_game(board, RandomEngine(), UciEngine(), display_board=True)\n",
    "print(board.outcome())"
   ]
  }
 ],
 "metadata": {
  "language_info": {
   "codemirror_mode": {
    "name": "ipython"
   },
   "file_extension": ".py",
   "mimetype": "text/x-python",
   "name": "python",
   "nbconvert_exporter": "python"
  },
  "vscode": {
   "interpreter": {
    "hash": "c356581f63fdb862d21b8530e2fecebf3d406a06e3d3208273931edc8a0b30c1"
   }
  }
 },
 "nbformat": 4,
 "nbformat_minor": 2
}
