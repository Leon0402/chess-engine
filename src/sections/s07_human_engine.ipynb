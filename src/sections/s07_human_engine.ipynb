{
 "cells": [
  {
   "cell_type": "code",
   "execution_count": null,
   "metadata": {
    "tags": [
     "no-python-export",
     "remove-cell"
    ]
   },
   "outputs": [],
   "source": [
    "from IPython.core.display import HTML\n",
    "with open('style.css') as file:\n",
    "    css = file.read()\n",
    "HTML(css)\n",
    "\n",
    "# Autload python modules by default\n",
    "%load_ext autoreload\n",
    "%autoreload 2\n",
    "\n",
    "# Convert notebooks to python, so they can be loaded effiently\n",
    "from utils.jupyter_loader import JupyterLoader\n",
    "\n",
    "loader = JupyterLoader()\n",
    "loader.load_all()"
   ]
  },
  {
   "cell_type": "markdown",
   "metadata": {
    "tags": [
     "no-python-export"
    ]
   },
   "source": [
    "# Human Player \n",
    "\n",
    "Next, it should be possible to play against the random engine with human input. \n",
    "In ordner to be compatible with the previously defined `play_game` method, player input is realized as an engine too. \n",
    "\n",
    "In the `HumanEngine` class only the `play` method is defined. It will ask the user to input a valid move in uci notation or one of the predefined keywords. \n",
    "If the input is one of the keywords to abort, an exception will be thrown as this will allow to exit from `play_game`. \n",
    "If instead the input is one of the debug keywords, the current board fen is printed and the process repeated. This allows to easily paste the current board in external programs to analyse the current position. \n",
    "If the input is one of the revert keywords, two half moves are reverted.\n",
    "If the input is none of the keywords, it is assumed to be a valid uci move. If it is, this move will be returned, otherwise an error message is printed and the process repeated."
   ]
  },
  {
   "cell_type": "code",
   "execution_count": null,
   "metadata": {},
   "outputs": [],
   "source": [
    "from converted_notebooks.s04_engine_interface import Engine, ScoredMove\n",
    "import chess\n",
    "\n",
    "\n",
    "class HumanEngine(Engine):\n",
    "    ABORT_KEYWORDS = [\"EXIT\", \"CANCEL\"]\n",
    "    DEBUG_KEYWORDS = [\"FEN\", \"DEBUG\"]\n",
    "    REVERT_KEYWORDS = [\"REVERT\", \"UNDO\"]\n",
    "\n",
    "    def play(self, board: chess.Board) -> chess.engine.PlayResult:\n",
    "        whites_turn = board.turn is chess.WHITE\n",
    "        while True:\n",
    "            user_input = input(\n",
    "                f\"Enter move for {'white' if whites_turn else 'black'} in UCI notation (special keywords: 'exit', 'fen'): \"\n",
    "            )\n",
    "\n",
    "            if user_input.upper() in HumanEngine.ABORT_KEYWORDS:\n",
    "                raise Exception(\"User aborted\")\n",
    "\n",
    "            if user_input.upper() in HumanEngine.DEBUG_KEYWORDS:\n",
    "                print(f\"FEN: {board.fen()}\", flush=True)\n",
    "                continue\n",
    "\n",
    "            if user_input.upper() in HumanEngine.REVERT_KEYWORDS:\n",
    "                # Revert two moves\n",
    "                board.pop()\n",
    "                board.pop()\n",
    "                continue\n",
    "\n",
    "            try:\n",
    "                move = chess.Move.from_uci(user_input)\n",
    "                if move in board.legal_moves:\n",
    "                    return ScoredMove(0, move)\n",
    "                print(\"Illegal input. Please try again.\", flush=True)\n",
    "            except ValueError:\n",
    "                print(\n",
    "                    f\"Illegal notation. Valid moves are {list(board.legal_moves)}\",\n",
    "                    flush=True\n",
    "                )"
   ]
  },
  {
   "cell_type": "markdown",
   "metadata": {
    "tags": [
     "no-python-export"
    ]
   },
   "source": [
    "This engine can be used as shown in the following commented block."
   ]
  },
  {
   "cell_type": "code",
   "execution_count": null,
   "metadata": {
    "tags": [
     "skip-execution",
     "no-python-export"
    ]
   },
   "outputs": [],
   "source": [
    "# import random\n",
    "# from converted_notebooks.s06_play import play_game\n",
    "# from converted_notebooks.s05_random_engine import RandomEngine\n",
    "\n",
    "# random.seed(42)\n",
    "\n",
    "# board = chess.Board()\n",
    "# play_game(board, HumanEngine(), RandomEngine(), display_board=True)\n",
    "# print(board.outcome())"
   ]
  }
 ],
 "metadata": {
  "language_info": {
   "codemirror_mode": {
    "name": "ipython"
   },
   "file_extension": ".py",
   "mimetype": "text/x-python",
   "name": "python",
   "nbconvert_exporter": "python"
  },
  "vscode": {
   "interpreter": {
    "hash": "b42f3920614829e661a3e80085f50421aa71f403bff6adf1f40efa6d26183877"
   }
  }
 },
 "nbformat": 4,
 "nbformat_minor": 2
}
