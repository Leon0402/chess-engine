{
 "cells": [
  {
   "cell_type": "code",
   "execution_count": null,
   "metadata": {
    "tags": [
     "no-python-export",
     "remove-cell"
    ]
   },
   "outputs": [],
   "source": [
    "from IPython.core.display import HTML\n",
    "with open('style.css') as file:\n",
    "    css = file.read()\n",
    "HTML(css)"
   ]
  },
  {
   "cell_type": "code",
   "execution_count": null,
   "metadata": {
    "tags": [
     "no-python-export",
     "remove-cell"
    ]
   },
   "outputs": [],
   "source": [
    "# Autload python modules by default\n",
    "%load_ext autoreload\n",
    "%autoreload 2\n",
    "\n",
    "# Convert notebooks to python, so they can be loaded effiently\n",
    "from utils.jupyter_loader import JupyterLoader\n",
    "\n",
    "loader = JupyterLoader()\n",
    "loader.load_all()"
   ]
  },
  {
   "cell_type": "markdown",
   "metadata": {
    "tags": [
     "no-python-export"
    ]
   },
   "source": [
    "# Evaluation\n",
    "\n",
    "In order to pick the best move instead of just a random one, our engine needs some way to evaluate chess positions. To this end, we will define a basic interface `Evaluator` and a concrete implementation `PieceEvaluator` that will be capable of two things:\n",
    "* Evaluate terminal state positions\n",
    "* Evaluate all other position by using a heuristic\n",
    "\n",
    "As the code will be more complex than before, classes will not be shown as one block of code, but rather methods and attributes will be added dynamically one after another. This form of dynamic class modification is called [monkey patching](https://docs.plone.org/appendices/glossary.html#term-Monkey-patch) in the python community and is often used as a technique to patch third party code."
   ]
  },
  {
   "cell_type": "markdown",
   "metadata": {
    "tags": [
     "no-python-export"
    ]
   },
   "source": [
    "To evaluate terminal states, we first need to define what a terminal state is. These are all the end positions of finished games. \n",
    "A finished game is either won by one of the two players or a draw. To check whether the game is won, the method `is_checkmate()` of the `chess.Board` class can be used. \n",
    "For a draw there are multiple functions for various conditions like `is_stalemate` or `is_insufficient_material`. \n",
    "To make the code more expressive a new function `is_draw` is added to the `chess.Board` class that checks for any of these conditions."
   ]
  },
  {
   "cell_type": "code",
   "execution_count": null,
   "metadata": {},
   "outputs": [],
   "source": [
    "import chess\n",
    "\n",
    "\n",
    "def is_draw(self) -> bool:\n",
    "    return self.is_stalemate() or self.is_insufficient_material(\n",
    "    ) or self.is_fivefold_repetition() or self.is_seventyfive_moves()\n",
    "\n",
    "\n",
    "chess.Board.is_draw = is_draw"
   ]
  },
  {
   "cell_type": "markdown",
   "metadata": {
    "tags": [
     "no-python-export"
    ]
   },
   "source": [
    "These two methods allows us to implement the basic interface `Evaluator`. The method `evaluate` takes only the board `board` as a parameter and returns the score of the game if it is finished and `None` otherwise. The score used the class `PovScore` from the `python-chess` library, which is a `chess.engine.Score` combined with the point of view. The second method is `evaluate` which has the same signature as `evaluate` and evaluates unfinished game positions. This method will be provided by concrete subclasses."
   ]
  },
  {
   "cell_type": "code",
   "execution_count": null,
   "metadata": {},
   "outputs": [],
   "source": [
    "from chess.engine import Score, PovScore\n",
    "\n",
    "\n",
    "class Evaluator():\n",
    "\n",
    "    def evaluate(self, board: chess.Board) -> PovScore:\n",
    "        if board.is_checkmate():\n",
    "            return PovScore(Mate(0), board.turn)\n",
    "        if board.is_draw():\n",
    "            return PovScore(Cp(0), board.turn)\n",
    "        return None\n",
    "\n",
    "    def heuristic(self, board: chess.Board) -> PovScore:\n",
    "        pass"
   ]
  },
  {
   "cell_type": "markdown",
   "metadata": {
    "tags": [
     "no-python-export"
    ]
   },
   "source": [
    "Next, a concrete subclass `PieceEvaluator` is implemented that provides the `heuristic`. This simple heuristic will calculate the value of the position based on the material on the board. The class inherits from the previously defined class `Evaluator`. The constructor takes a parameter `piece_values`, which is a dict that assigns each piece type a value."
   ]
  },
  {
   "cell_type": "code",
   "execution_count": null,
   "metadata": {},
   "outputs": [],
   "source": [
    "from chess.engine import Score\n",
    "\n",
    "\n",
    "class PieceEvaluator(Evaluator):\n",
    "\n",
    "    def __init__(self, piece_values: dict):\n",
    "        self.piece_values = piece_values"
   ]
  },
  {
   "cell_type": "markdown",
   "metadata": {
    "tags": [
     "no-python-export"
    ]
   },
   "source": [
    "We can then provide the implementation for the `heuristic` method. The evaluation of an unfinished game is determined by summing up the piece values of the player to move\n",
    "and subtracting the piece values of the opponent. A positive score therefore is good for player to move whereas a negative score is good for the opponent. To efficiently iterate over all squares with pieces, the board representation `board.occupied_co` can be used together with the `scan_reversed` function of python-chess. The expression `chess.scan_reversed(board.occupied_co[board.turn])` thus yields each square that contains a piece of the player to move."
   ]
  },
  {
   "cell_type": "code",
   "execution_count": null,
   "metadata": {},
   "outputs": [],
   "source": [
    "from chess.engine import Cp, Score, PovScore\n",
    "\n",
    "\n",
    "def heuristic(self, board: chess.Board) -> PovScore:\n",
    "    player_score = 0\n",
    "    for square in chess.scan_reversed(board.occupied_co[board.turn]):\n",
    "        player_score += self.piece_values[board.piece_type_at(square)]\n",
    "\n",
    "    opponent_score = 0\n",
    "    for square in chess.scan_reversed(board.occupied_co[not board.turn]):\n",
    "        opponent_score += self.piece_values[board.piece_type_at(square)]\n",
    "\n",
    "    return PovScore(Cp(player_score - opponent_score), board.turn)\n",
    "\n",
    "\n",
    "PieceEvaluator.heuristic = heuristic"
   ]
  },
  {
   "cell_type": "markdown",
   "metadata": {
    "tags": [
     "no-python-export"
    ]
   },
   "source": [
    "To actually create an instance of the `PieceEvaluator` we need to define scores for each piece type. A very common [piece value assignment](https://en.wikipedia.org/wiki/Chess_piece_relative_value) is used for this."
   ]
  },
  {
   "cell_type": "code",
   "execution_count": null,
   "metadata": {},
   "outputs": [],
   "source": [
    "STANDARD_PIECE_VALUES = {\n",
    "    chess.PAWN: 1,\n",
    "    chess.KNIGHT: 3,\n",
    "    chess.BISHOP: 3,\n",
    "    chess.ROOK: 5,\n",
    "    chess.QUEEN: 9,\n",
    "    chess.KING: 0\n",
    "}"
   ]
  },
  {
   "cell_type": "markdown",
   "metadata": {
    "tags": [
     "no-python-export"
    ]
   },
   "source": [
    "Then the instance can be created with these values."
   ]
  },
  {
   "cell_type": "code",
   "execution_count": null,
   "metadata": {},
   "outputs": [],
   "source": [
    "standard_evaluator = PieceEvaluator(piece_values=STANDARD_PIECE_VALUES)"
   ]
  },
  {
   "cell_type": "markdown",
   "metadata": {
    "tags": [
     "no-python-export"
    ]
   },
   "source": [
    "We can write some tests for the evaluator to make sure it is working correctly. The first test checks whether `evaluate` correctly detects a mate."
   ]
  },
  {
   "cell_type": "code",
   "execution_count": null,
   "metadata": {
    "tags": [
     "no-python-export"
    ]
   },
   "outputs": [],
   "source": [
    "import IPython.display\n",
    "from chess.engine import Mate, PovScore\n",
    "import chess\n",
    "\n",
    "SCHOLAR_MATE = \"r1bqkb1r/pppp1Qpp/2n2n2/4p3/2B1P3/8/PPPP1PPP/RNB1K1NR b KQkq - 0 4\"\n",
    "board = chess.Board(SCHOLAR_MATE)\n",
    "IPython.display.display(board)\n",
    "\n",
    "# It is blacks turn and he was checkmated.\n",
    "score = standard_evaluator.evaluate(board)\n",
    "assert score == PovScore(Mate(0), chess.BLACK), f\"{score} != {PovScore(Mate(0), chess.BLACK)}\""
   ]
  },
  {
   "cell_type": "markdown",
   "metadata": {
    "tags": [
     "no-python-export"
    ]
   },
   "source": [
    "The second case will be tested with a stalemate position. In this case the `evaluate` method should return the score for a draw."
   ]
  },
  {
   "cell_type": "code",
   "execution_count": null,
   "metadata": {
    "tags": [
     "no-python-export"
    ]
   },
   "outputs": [],
   "source": [
    "from chess.engine import Cp, PovScore\n",
    "import chess\n",
    "\n",
    "# Viktor Korchnoi vs Anatoly Karpov, World Champtionchip 5th game 1987\n",
    "STALE_MATE = \"8/5KBk/8/8/p7/P7/8/8 b - - 34 124\"\n",
    "board = chess.Board(STALE_MATE)\n",
    "IPython.display.display(board)\n",
    "\n",
    "# It is a stalemate, so the score should be zero\n",
    "score = standard_evaluator.evaluate(board)\n",
    "assert score == PovScore(Cp(0), chess.BLACK), f\"{score} != {PovScore(Cp(0), chess.BLACK)}\""
   ]
  },
  {
   "cell_type": "markdown",
   "metadata": {
    "tags": [
     "no-python-export"
    ]
   },
   "source": [
    "The last case to be tested is a game that is not finished. The `evaluate` method should return `None` and instead `heuristic` should calculate the score."
   ]
  },
  {
   "cell_type": "code",
   "execution_count": null,
   "metadata": {
    "tags": [
     "no-python-export"
    ]
   },
   "outputs": [],
   "source": [
    "from chess.engine import Cp, PovScore\n",
    "import chess\n",
    "\n",
    "# Topalov, Veselin (2740) vs. Shirov, Alexei (2710)\n",
    "SHIROV_SACRIFICE = \"8/8/4kpp1/3p1b2/p6P/2B5/6P1/6K1 b - - 0 47\"\n",
    "board = chess.Board(SHIROV_SACRIFICE)\n",
    "IPython.display.display(board)\n",
    "\n",
    "# Game not finished, so score should be None\n",
    "score = standard_evaluator.evaluate(board)\n",
    "assert score == None, f\"{score} != None\"\n",
    "\n",
    "# Black has 2 points more and is about to move, so the score should be 2\n",
    "score = standard_evaluator.heuristic(board)\n",
    "assert score == PovScore(Cp(2), chess.BLACK), f\"{score} != 2\""
   ]
  },
  {
   "cell_type": "markdown",
   "metadata": {
    "tags": [
     "no-python-export"
    ]
   },
   "source": [
    "To make sure the `heursitic` method is working correctly, it will be tested on another game."
   ]
  },
  {
   "cell_type": "code",
   "execution_count": null,
   "metadata": {
    "tags": [
     "no-python-export"
    ]
   },
   "outputs": [],
   "source": [
    "from chess.engine import Cp, PovScore\n",
    "import chess\n",
    "\n",
    "# Evgeny Yuryevich Vladimirov vs. Vladimir Viktorovich Epishin\n",
    "VLADIMIROV_THUNDERBOLT = \"r4k1r/1b2bPR1/p4n2/3p4/4P2P/1q2B2B/PpP5/1K4R1 w - - 0 26\"\n",
    "board = chess.Board(VLADIMIROV_THUNDERBOLT)\n",
    "IPython.display.display(board)\n",
    "\n",
    "# Game not finished, so score should be None\n",
    "score = standard_evaluator.evaluate(board)\n",
    "assert score == None, f\"{score} != None\"\n",
    "\n",
    "# Black has 10 points more, but White is about to move, so the score should be -10\n",
    "score = standard_evaluator.heuristic(board)\n",
    "assert score == PovScore(Cp(-10), chess.WHITE), f\"{score} != -10\""
   ]
  },
  {
   "cell_type": "markdown",
   "metadata": {
    "tags": [
     "no-python-export"
    ]
   },
   "source": [
    "To use this newly created Evaluator a new Engine `EvaluationEngine` is created that inherits from the `Engine` class. It expects an instance `evaluator` of type `Evaluator` to be passed as an argument."
   ]
  },
  {
   "cell_type": "code",
   "execution_count": null,
   "metadata": {},
   "outputs": [],
   "source": [
    "import random\n",
    "import chess.engine\n",
    "from converted_notebooks.s04_engine_interface import Engine, ScoredMove\n",
    "\n",
    "\n",
    "class EvaluationEngine(Engine):\n",
    "\n",
    "    def __init__(self, evaluator: Evaluator):\n",
    "        self.evaluator = evaluator"
   ]
  },
  {
   "cell_type": "markdown",
   "metadata": {
    "tags": [
     "no-python-export"
    ]
   },
   "source": [
    "To get the value of a possible move, \n",
    "we define a method `_evaluate_move` \n",
    "which takes d a chess board `board`,\n",
    "and a chess move `move`\n",
    "as parameters\n",
    "and returns a `ScoredMove`.\n",
    "\n",
    "It uses the evaluator to determine the score of the board after the move have been made. Additionally, the score is turned into an absolute value by using the `white` method of the `PovScore` class"
   ]
  },
  {
   "cell_type": "code",
   "execution_count": null,
   "metadata": {},
   "outputs": [],
   "source": [
    "def _evaluate_move(self, board: chess.Board, move: chess.Move) -> ScoredMove:\n",
    "    board.push(move)\n",
    "    score = self.evaluator.evaluate(board)\n",
    "    if score is None:\n",
    "        score = self.evaluator.heuristic(board)\n",
    "    board.pop()\n",
    "\n",
    "    return ScoredMove(score.white(), move)\n",
    "\n",
    "\n",
    "EvaluationEngine._evaluate_move = _evaluate_move"
   ]
  },
  {
   "cell_type": "markdown",
   "metadata": {
    "tags": [
     "no-python-export"
    ]
   },
   "source": [
    "To get the value of all legal moves,\n",
    "we define the method `_evaluate_moves`\n",
    "which takes a chess board `board` as a parameter.\n",
    "It returns a list of `ScoredMove` objects by evaluating all legal moves."
   ]
  },
  {
   "cell_type": "code",
   "execution_count": null,
   "metadata": {},
   "outputs": [],
   "source": [
    "def _evaluate_moves(self, board: chess.Board) -> list[ScoredMove]:\n",
    "    return [self._evaluate_move(board, move) for move in board.legal_moves]\n",
    "\n",
    "\n",
    "EvaluationEngine._evaluate_moves = _evaluate_moves"
   ]
  },
  {
   "cell_type": "markdown",
   "metadata": {
    "tags": [
     "no-python-export"
    ]
   },
   "source": [
    "Next, the `analyse` method can be defined using the `_evaluate_moves` method.\n",
    "\n",
    "The scored moves are then shuffled and, afterwards, sorted by their score, \n",
    "creating a different order of moves having the same score, \n",
    "depending on the state of the RNG. By default, the python `sort` method sorts from lowest to highest. \n",
    "Therefore, the first move is the best for Black, unless the sorting order is reversed."
   ]
  },
  {
   "cell_type": "code",
   "execution_count": null,
   "metadata": {},
   "outputs": [],
   "source": [
    "def analyse(self, board: chess.Board) -> list[ScoredMove]:\n",
    "    nextMoves = self._evaluate_moves(board.copy())\n",
    "    random.shuffle(nextMoves)\n",
    "\n",
    "    whitesTurn = board.turn is chess.WHITE\n",
    "    nextMoves.sort(reverse=whitesTurn)\n",
    "\n",
    "    return nextMoves\n",
    "\n",
    "\n",
    "EvaluationEngine.analyse = analyse"
   ]
  },
  {
   "cell_type": "markdown",
   "metadata": {
    "tags": [
     "no-python-export"
    ]
   },
   "source": [
    "At last the `play` method needs to be implemented.\n",
    "This is done by taking the best scored move as determined by the `analyse` method \n",
    "and returning it as a `chess.engine.PlayResult`.\n"
   ]
  },
  {
   "cell_type": "code",
   "execution_count": null,
   "metadata": {},
   "outputs": [],
   "source": [
    "def play(self, board: chess.Board) -> chess.engine.PlayResult:\n",
    "    bestScoredMove = self.analyse(board)[0]\n",
    "    return chess.engine.PlayResult(move=bestScoredMove.move, ponder=None)\n",
    "\n",
    "\n",
    "EvaluationEngine.play = play"
   ]
  },
  {
   "cell_type": "markdown",
   "metadata": {
    "tags": [
     "no-python-export"
    ]
   },
   "source": [
    "As before we can let the new defined engine play against the `RandomEngine`. Through the use of the evaluation function it should already play significantly better and win most of the games."
   ]
  },
  {
   "cell_type": "code",
   "execution_count": null,
   "metadata": {
    "tags": [
     "no-python-export"
    ]
   },
   "outputs": [],
   "source": [
    "import random\n",
    "from converted_notebooks.s06_play import play_game\n",
    "from converted_notebooks.s05_random_engine import RandomEngine\n",
    "\n",
    "random.seed(42)\n",
    "\n",
    "board = chess.Board()\n",
    "play_game(board, EvaluationEngine(evaluator=standard_evaluator), RandomEngine())\n",
    "print(board.outcome())"
   ]
  }
 ],
 "metadata": {
  "language_info": {
   "codemirror_mode": {
    "name": "ipython"
   },
   "file_extension": ".py",
   "mimetype": "text/x-python",
   "name": "python",
   "nbconvert_exporter": "python"
  },
  "vscode": {
   "interpreter": {
    "hash": "b42f3920614829e661a3e80085f50421aa71f403bff6adf1f40efa6d26183877"
   }
  }
 },
 "nbformat": 4,
 "nbformat_minor": 2
}
