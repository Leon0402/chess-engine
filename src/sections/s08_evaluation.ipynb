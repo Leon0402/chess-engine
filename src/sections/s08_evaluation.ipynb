{
 "cells": [
  {
   "cell_type": "code",
   "execution_count": null,
   "metadata": {
    "tags": [
     "no-python-export",
     "remove-cell"
    ]
   },
   "outputs": [],
   "source": [
    "from IPython.core.display import HTML\n",
    "with open('style.css') as file:\n",
    "    css = file.read()\n",
    "HTML(css)\n",
    "\n",
    "# Autload python modules by default\n",
    "%load_ext autoreload\n",
    "%autoreload 2\n",
    "\n",
    "# Convert notebooks to python, so they can be loaded effiently\n",
    "from utils.jupyer_loader import JupyerLoader\n",
    "\n",
    "loader = JupyerLoader()\n",
    "loader.load(\"s04_engine_interface\")\n",
    "loader.load(\"s05_random_engine\")\n",
    "loader.load(\"s06_play\")"
   ]
  },
  {
   "cell_type": "markdown",
   "metadata": {
    "tags": [
     "no-python-export"
    ]
   },
   "source": [
    "# Evaluation\n",
    "\n",
    "In order to pick the best move instead of just a random one, our engine needs some way to evaluate chess positions. To this end, we will define a basic interface `Evaluator` and a concrete implementation `PieceEvaluator` that will be capable of two things:\n",
    "* Evaluate terminal state positions\n",
    "* Evaluate all other position by using a heursitic\n",
    "\n",
    "As the code will be more complex than before, classes will not be shown as one block of code, but rather methods and attributes will be added dynamically one after another. This form of dynamic class modification is called [monkey patching](https://docs.plone.org/appendices/glossary.html#term-Monkey-patch) in the python community and is often used as a technique to patch third party code."
   ]
  },
  {
   "cell_type": "markdown",
   "metadata": {
    "tags": [
     "no-python-export"
    ]
   },
   "source": [
    "To evaluate terminal states, we first need to define what a terminal state ist. These are all the end positions of finished games. \n",
    "A finished game is either won by one of the two players or a draw. To check whether the game is won, the method `is_checkmate()` of the `chess.Board` class can be used. \n",
    "For a draw there are multiple functions vor various condiditions like `is_stalemate` or `is_insufficient_material`. \n",
    "To make the code more expressive a new function `is_draw` is added to the `chess.Board` class that checks for any of these conditions."
   ]
  },
  {
   "cell_type": "code",
   "execution_count": null,
   "metadata": {},
   "outputs": [],
   "source": [
    "import chess\n",
    "\n",
    "\n",
    "def is_draw(self) -> bool:\n",
    "    return self.is_stalemate() or self.is_insufficient_material(\n",
    "    ) or self.is_fivefold_repetition() or self.is_seventyfive_moves()\n",
    "\n",
    "\n",
    "chess.Board.is_draw = is_draw"
   ]
  },
  {
   "cell_type": "markdown",
   "metadata": {
    "tags": [
     "no-python-export"
    ]
   },
   "source": [
    "These two methods allows us to implement the basic interface `Evaluator`. The constructor takes two parameters `value_checkmate` and `value_draw` which denote the score returned for a checkmate and draw, respectively. The method `evaluate` takes only the board `board` as a parameter and returns the score of the game if it is finished and `None` otherwise. The second method is `evaluate` which has the same signature as `evaluate` and evaluates unfinished game positions. This method will be provided by concrete subclasses."
   ]
  },
  {
   "cell_type": "code",
   "execution_count": null,
   "metadata": {},
   "outputs": [],
   "source": [
    "class Evaluator():\n",
    "\n",
    "    def __init__(self, value_checkmate: int, value_draw: int):\n",
    "        self.value_checkmate = value_checkmate\n",
    "        self.value_draw = value_draw\n",
    "\n",
    "    def evaluate(self, board: chess.Board) -> int:\n",
    "        if board.is_checkmate():\n",
    "            return -self.value_checkmate\n",
    "        if board.is_draw():\n",
    "            return self.value_draw\n",
    "        return None\n",
    "\n",
    "    def heuristic(self, board: chess.Board) -> int:\n",
    "        pass"
   ]
  },
  {
   "cell_type": "markdown",
   "metadata": {
    "tags": [
     "no-python-export"
    ]
   },
   "source": [
    "Next, a concrete subclass `PieceEvaluator` is implemented that provides the `heursitic`. This simple heuristic will calculate the value of the position based on the material on the board. The class inherits from the previously defined class `Evaluator`. The constructor will also take `value_checkmate` and `value_draw` that are passed to the superclass. Additionally a parameter `piece_values` is needed, which is a dict that assigns each piece type a value."
   ]
  },
  {
   "cell_type": "code",
   "execution_count": null,
   "metadata": {},
   "outputs": [],
   "source": [
    "class PieceEvaluator(Evaluator):\n",
    "\n",
    "    def __init__(\n",
    "        self, piece_values: dict, value_checkmate: int, value_draw: int\n",
    "    ):\n",
    "        super().__init__(value_checkmate, value_draw)\n",
    "        self.piece_values = piece_values"
   ]
  },
  {
   "cell_type": "markdown",
   "metadata": {
    "tags": [
     "no-python-export"
    ]
   },
   "source": [
    "We can then provide the implementation for the `heuristic` method. The evaluation of the game that is not finished is determined by summing up the piece values of the player to move\n",
    "and subtracting the piece values of the opponent. A positive score therefore is good for player to move whereas a negative score is good for the opponent. To effiently iterate over all squares with pieces, the board representation `board.occupied_co` can be used together with the `scan_reversed` function of python-chess."
   ]
  },
  {
   "cell_type": "code",
   "execution_count": null,
   "metadata": {},
   "outputs": [],
   "source": [
    "def heuristic(self, board: chess.Board) -> int:\n",
    "    playerScore = 0\n",
    "    for square in chess.scan_reversed(board.occupied_co[board.turn]):\n",
    "        playerScore += self.piece_values[board.piece_type_at(square)]\n",
    "\n",
    "    opponentScore = 0\n",
    "    for square in chess.scan_reversed(board.occupied_co[not board.turn]):\n",
    "        opponentScore += self.piece_values[board.piece_type_at(square)]\n",
    "\n",
    "    return playerScore - opponentScore\n",
    "\n",
    "\n",
    "PieceEvaluator.heuristic = heuristic"
   ]
  },
  {
   "cell_type": "markdown",
   "metadata": {
    "tags": [
     "no-python-export"
    ]
   },
   "source": [
    "To actually create an instance of the `PieceEvaluator` we need to define scores for a checkmate, draw and each piece type. A very common [standard piece value assignment](https://en.wikipedia.org/wiki/Chess_piece_relative_value) is used."
   ]
  },
  {
   "cell_type": "code",
   "execution_count": null,
   "metadata": {},
   "outputs": [],
   "source": [
    "STANDARD_PIECE_VALUES = {\n",
    "    chess.PAWN: 1,\n",
    "    chess.KNIGHT: 3,\n",
    "    chess.BISHOP: 3,\n",
    "    chess.ROOK: 5,\n",
    "    chess.QUEEN: 9,\n",
    "    chess.KING: 0\n",
    "}\n",
    "\n",
    "STANDARD_VALUE_CHECKMATE = 100\n",
    "STANDARD_VALUE_DRAW = 0"
   ]
  },
  {
   "cell_type": "markdown",
   "metadata": {
    "tags": [
     "no-python-export"
    ]
   },
   "source": [
    "Then the instance can be created with these values."
   ]
  },
  {
   "cell_type": "code",
   "execution_count": null,
   "metadata": {},
   "outputs": [],
   "source": [
    "standard_evaluator = PieceEvaluator(\n",
    "    piece_values=STANDARD_PIECE_VALUES,\n",
    "    value_checkmate=STANDARD_VALUE_CHECKMATE,\n",
    "    value_draw=STANDARD_VALUE_DRAW\n",
    ")"
   ]
  },
  {
   "cell_type": "markdown",
   "metadata": {
    "tags": [
     "no-python-export"
    ]
   },
   "source": [
    "We can write some tests for the evaluator to make sure it is working correctly. The first test checks whether `evaluate` correctly detects a mate."
   ]
  },
  {
   "cell_type": "code",
   "execution_count": null,
   "metadata": {
    "tags": [
     "no-python-export"
    ]
   },
   "outputs": [],
   "source": [
    "import IPython.display\n",
    "\n",
    "SCHOLAR_MATE = \"r1bqkb1r/pppp1Qpp/2n2n2/4p3/2B1P3/8/PPPP1PPP/RNB1K1NR b KQkq - 0 4\"\n",
    "board = chess.Board(SCHOLAR_MATE)\n",
    "IPython.display.display(board)\n",
    "\n",
    "# It is blacks turn, but he was checkmated. Therefore the score should be the worst possible -100\n",
    "score = standard_evaluator.evaluate(board)\n",
    "assert score == -100, f\"{score} != {-100}\""
   ]
  },
  {
   "cell_type": "markdown",
   "metadata": {
    "tags": [
     "no-python-export"
    ]
   },
   "source": [
    "The second case will be tested with a stalemate position. In this case the `evaluate` method should return the score for a draw."
   ]
  },
  {
   "cell_type": "code",
   "execution_count": null,
   "metadata": {
    "tags": [
     "no-python-export"
    ]
   },
   "outputs": [],
   "source": [
    "# Viktor Korchnoi vs Anatoly Karpov, World Champtionchip 5th game 1987\n",
    "STALE_MATE = \"8/5KBk/8/8/p7/P7/8/8 b - - 34 124\"\n",
    "board = chess.Board(STALE_MATE)\n",
    "IPython.display.display(board)\n",
    "\n",
    "# It is a stalemate, so the score should be zero\n",
    "score = standard_evaluator.evaluate(board)\n",
    "assert score == 0, f\"{score} != {0}\""
   ]
  },
  {
   "cell_type": "markdown",
   "metadata": {
    "tags": [
     "no-python-export"
    ]
   },
   "source": [
    "The last case to be tested is a game that is not finished. The `evaluate` method should return `None` and instead `heuristic` should calculate the score."
   ]
  },
  {
   "cell_type": "code",
   "execution_count": null,
   "metadata": {
    "tags": [
     "no-python-export"
    ]
   },
   "outputs": [],
   "source": [
    "# Topalov, Veselin (2740) vs. Shirov, Alexei (2710)\n",
    "SHIROV_SACRIFICE = \"8/8/4kpp1/3p1b2/p6P/2B5/6P1/6K1 b - - 0 47\"\n",
    "board = chess.Board(SHIROV_SACRIFICE)\n",
    "IPython.display.display(board)\n",
    "\n",
    "# Game not finished, so score should be None\n",
    "score = standard_evaluator.evaluate(board)\n",
    "assert score == None, f\"{score} != None\"\n",
    "\n",
    "# Black has 2 points more and is about to move, so the score should be 2\n",
    "score = standard_evaluator.heuristic(board)\n",
    "assert score == 2, f\"{score} != 2\""
   ]
  },
  {
   "cell_type": "markdown",
   "metadata": {
    "tags": [
     "no-python-export"
    ]
   },
   "source": [
    "To make sure the `heursitic` method is working correctly, it will be tested on another game."
   ]
  },
  {
   "cell_type": "code",
   "execution_count": null,
   "metadata": {
    "tags": [
     "no-python-export"
    ]
   },
   "outputs": [],
   "source": [
    "# Evgeny Yuryevich Vladimirov vs. Vladimir Viktorovich Epishin\n",
    "VLADIMIROV_THUNDERBOLT = \"r4k1r/1b2bPR1/p4n2/3p4/4P2P/1q2B2B/PpP5/1K4R1 w - - 0 26\"\n",
    "board = chess.Board(VLADIMIROV_THUNDERBOLT)\n",
    "IPython.display.display(board)\n",
    "\n",
    "# Game not finished, so score should be None\n",
    "score = standard_evaluator.evaluate(board)\n",
    "assert score == None, f\"{score} != None\"\n",
    "\n",
    "# Black has 10 points more, but White is about to move, so the score should be -10\n",
    "score = standard_evaluator.heuristic(board)\n",
    "assert score == -10, f\"{score} != -10\""
   ]
  },
  {
   "cell_type": "markdown",
   "metadata": {
    "tags": [
     "no-python-export"
    ]
   },
   "source": [
    "To use this newly created `Evaluator` an `EvaluationEngine` is created\n",
    "and expects an instance of an `Evaluator` to be passed as an argument.\n",
    "The `EvaluationEngine` inherits from the `Engine` class."
   ]
  },
  {
   "cell_type": "code",
   "execution_count": null,
   "metadata": {},
   "outputs": [],
   "source": [
    "import random\n",
    "import chess.engine\n",
    "from converted_notebooks.s04_engine_interface import Engine, ScoredMove\n",
    "\n",
    "\n",
    "class EvaluationEngine(Engine):\n",
    "\n",
    "    def __init__(self, evaluator: Evaluator):\n",
    "        self.evaluator = evaluator"
   ]
  },
  {
   "cell_type": "markdown",
   "metadata": {
    "tags": [
     "no-python-export"
    ]
   },
   "source": [
    "As the `Evaluator` calculates the value from the current players point of view, while it is customary to express the valuation from Whites point, a `PLAYER_MULTIPLIER` dict is used to translate between absolute and relative values."
   ]
  },
  {
   "cell_type": "code",
   "execution_count": null,
   "metadata": {},
   "outputs": [],
   "source": [
    "PLAYER_MULTIPLIER = {\n",
    "    chess.WHITE: 1, chess.BLACK: -1\n",
    "}\n",
    "\n",
    "EvaluationEngine.PLAYER_MULTIPLIER = PLAYER_MULTIPLIER"
   ]
  },
  {
   "cell_type": "markdown",
   "metadata": {
    "tags": [
     "no-python-export"
    ]
   },
   "source": [
    "To get the value of a possible move, \n",
    "we define a method `_evaluate_move` \n",
    "which takes the instance of the `EvaluationEngine` class, \n",
    "and a chess board `board`,\n",
    "and a chess move `move`\n",
    "as parameters\n",
    "and returns a `ScoredMove`.\n",
    "\n",
    "After making the move\n",
    "it uses the class' `evaluator` instance to check \n",
    "if the board has a final score using the `evaluate` method\n",
    "and determines the score of the board using the `heuristic` if it hasn't.\n",
    "\n",
    "To turn the score into an absolute value it is multiplied with the class' `PLAYER_MULTIPLIER`.\n",
    "\n",
    "Afterwards the board is returned to the initial state before returning the `ScoredMove`."
   ]
  },
  {
   "cell_type": "code",
   "execution_count": null,
   "metadata": {},
   "outputs": [],
   "source": [
    "def _evaluate_move(self, board: chess.Board, move: chess.Move) -> ScoredMove:\n",
    "    board.push(move)\n",
    "    score = self.evaluator.evaluate(board)\n",
    "    if score is None:\n",
    "        score = self.evaluator.heuristic(board)\n",
    "    score *= self.PLAYER_MULTIPLIER[board.turn]\n",
    "    board.pop()\n",
    "\n",
    "    return ScoredMove(score, move)\n",
    "\n",
    "\n",
    "EvaluationEngine._evaluate_move = _evaluate_move"
   ]
  },
  {
   "cell_type": "markdown",
   "metadata": {
    "tags": [
     "no-python-export"
    ]
   },
   "source": [
    "To get the value of all legal moves,\n",
    "we define the method `_evaluate_moves`\n",
    "which takes the instance of the `EvaluationEngine` class\n",
    "and a chess board `board` as parameters.\n",
    "It returns a list of `ScoredMove` objects by evaluating all legal moves."
   ]
  },
  {
   "cell_type": "code",
   "execution_count": null,
   "metadata": {},
   "outputs": [],
   "source": [
    "def _evaluate_moves(self, board: chess.Board):\n",
    "    return [self._evaluate_move(board, move) for move in board.legal_moves]\n",
    "\n",
    "\n",
    "EvaluationEngine._evaluate_moves = _evaluate_moves"
   ]
  },
  {
   "cell_type": "markdown",
   "metadata": {
    "tags": [
     "no-python-export"
    ]
   },
   "source": [
    "Next, the `analyse` method can be defined using the `_evaluate_moves` method.\n",
    "\n",
    "The scored moves are then shuffled and, afterwards, sorted by their score, \n",
    "creating a different order of moves having the same score, \n",
    "depending on the state of the RNG.\n",
    "\n",
    "By default, the python `sort` method sorts from lowest to highest. \n",
    "Therefore, the first move is the best for Black, unless the sorting order is reversed."
   ]
  },
  {
   "cell_type": "code",
   "execution_count": null,
   "metadata": {},
   "outputs": [],
   "source": [
    "def analyse(self, board: chess.Board) -> list[ScoredMove]:\n",
    "    nextMoves = self._evaluate_moves(board.copy(stack=False))\n",
    "    random.shuffle(nextMoves)\n",
    "\n",
    "    whitesTurn = board.turn is chess.WHITE\n",
    "    nextMoves.sort(reverse=whitesTurn)\n",
    "\n",
    "    return nextMoves\n",
    "\n",
    "\n",
    "EvaluationEngine.analyse = analyse"
   ]
  },
  {
   "cell_type": "markdown",
   "metadata": {
    "tags": [
     "no-python-export"
    ]
   },
   "source": [
    "At last the abstract `play` method needs to be implemented.\n",
    "This is done by taking the best scored move as determined by the `analyse` method \n",
    "and returning it as a `chess.engine.PlayResult`.\n"
   ]
  },
  {
   "cell_type": "code",
   "execution_count": null,
   "metadata": {},
   "outputs": [],
   "source": [
    "def play(self, board: chess.Board) -> chess.engine.PlayResult:\n",
    "    bestScoredMove = self.analyse(board)[0]\n",
    "    return chess.engine.PlayResult(move=bestScoredMove.move, ponder=None)\n",
    "\n",
    "\n",
    "EvaluationEngine.play = play"
   ]
  },
  {
   "cell_type": "markdown",
   "metadata": {
    "tags": [
     "no-python-export"
    ]
   },
   "source": [
    "As before we can let the new defined engine play against the `RandomEngine`. Through the use of the evaluation function it should already play signifcantly better and win most of the games."
   ]
  },
  {
   "cell_type": "code",
   "execution_count": null,
   "metadata": {
    "tags": [
     "no-python-export"
    ]
   },
   "outputs": [],
   "source": [
    "import random\n",
    "from converted_notebooks.s06_play import play_game\n",
    "from converted_notebooks.s05_random_engine import RandomEngine\n",
    "\n",
    "random.seed(42)\n",
    "\n",
    "board = chess.Board()\n",
    "play_game(board, EvaluationEngine(evaluator=standard_evaluator), RandomEngine())\n",
    "print(board.outcome())"
   ]
  }
 ],
 "metadata": {
  "interpreter": {
   "hash": "b42f3920614829e661a3e80085f50421aa71f403bff6adf1f40efa6d26183877"
  },
  "language_info": {
   "codemirror_mode": {
    "name": "ipython"
   },
   "file_extension": ".py",
   "mimetype": "text/x-python",
   "name": "python",
   "nbconvert_exporter": "python"
  }
 },
 "nbformat": 4,
 "nbformat_minor": 2
}
