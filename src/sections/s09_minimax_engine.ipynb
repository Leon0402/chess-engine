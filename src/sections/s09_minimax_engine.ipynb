{
 "cells": [
  {
   "cell_type": "code",
   "execution_count": null,
   "metadata": {
    "tags": [
     "no-python-export",
     "remove-cell"
    ]
   },
   "outputs": [],
   "source": [
    "from IPython.core.display import HTML\n",
    "with open('style.css') as file:\n",
    "    css = file.read()\n",
    "HTML(css)"
   ]
  },
  {
   "cell_type": "code",
   "execution_count": null,
   "metadata": {
    "tags": [
     "no-python-export",
     "remove-cell"
    ]
   },
   "outputs": [],
   "source": [
    "# Autload python modules by default\n",
    "%load_ext autoreload\n",
    "%autoreload 2\n",
    "\n",
    "# Convert notebooks to python, so they can be loaded effiently\n",
    "from utils.jupyter_loader import JupyterLoader\n",
    "\n",
    "loader = JupyterLoader()\n",
    "loader.load_all()"
   ]
  },
  {
   "cell_type": "markdown",
   "metadata": {
    "tags": [
     "no-python-export"
    ]
   },
   "source": [
    "# Minimax Engine\n",
    "\n",
    "Until now, a move was evaluated according to the value the heuristic gives to the resulting position. Thus, the chess engine lacks the foresight to find tactical combinations or a mate in several moves.\n",
    "With the help of a search algorithm all future positions can be found, which are created after playing a certain number of moves. The below [game tree](https://www.yosenspace.com/posts/computer-science-game-trees.html) shows how the resulting positions in the game `TicTacToe` can be represented as a search tree. The root node is the initial position, while the leaf nodes contain the final positions that will be evaluated. A special feature of TicTacToe is that the leaf nodes are terminal states. In chess, on the other hand, the search usually has to be stopped at a certain depth, because the number of states is simply too large even for modern computers. The leaf nodes are therefore not necessarily terminal states and are thus evaluated with the already known heuristics. \n",
    "\n",
    "![TicTacToe GameTree](./images/tictactoe-gametree.jpg)\n",
    "\n",
    "By limiting the search depth, however, the original problem is only partially solved. As before, it can happen that the considered final position ends, for example, in the middle of a slugfest and is correspondingly wrongly estimated. It also often leads to the fact that the engine tries to delay a foreseeable problem by giving chess etc. until it is no longer visible due to the search depth. \n",
    "This is called the [horizon effect](https://www.chessprogramming.org/Horizon_Effect), which can have a very strong impact on the engine's playing strength and is discussed accordingly in later chapters.\n",
    "\n",
    "First, however, some search algorithms are presented, starting with the `MiniMax algorithm`. For this purpose, first a class `MiniMaxEngine` is defined,\n",
    "which inherits from `Engine`,\n",
    "but many parts will be familiar from the `EvaluationEngine`.\n",
    "It expects an instance of an `Evaluator` to be passed at construction time as does the `EvaluationEngine`.\n",
    "Additionally an integer `look_ahead_depth` is expected to specify the depth of the search tree."
   ]
  },
  {
   "cell_type": "code",
   "execution_count": null,
   "metadata": {},
   "outputs": [],
   "source": [
    "import random\n",
    "import chess.engine\n",
    "from converted_notebooks.s04_engine_interface import Engine, ScoredMove\n",
    "from converted_notebooks.s08_evaluation import Evaluator\n",
    "\n",
    "\n",
    "class MiniMaxEngine(Engine):\n",
    "\n",
    "    def __init__(self, evaluator: Evaluator, look_ahead_depth):\n",
    "        self.evaluator = evaluator\n",
    "        self.look_ahead_depth = look_ahead_depth"
   ]
  },
  {
   "cell_type": "markdown",
   "metadata": {
    "tags": [
     "no-python-export"
    ]
   },
   "source": [
    "The actual `MiniMax algorithm` is realized recursively with the function `_value`,\n",
    "which takes the chess board `board` and the remaining depth `depth` of the current node of the search tree as parameters.\n",
    "In each recursive pass, the method returns the value of the current node from the perspective of white.\n",
    "\n",
    "First, the `Evaluators` method `evaluate` checks whether the current position is a terminal state. If this is the case, the evaluation of this from the perspective of white is returned accordingly. \n",
    "Otherwise, it is checked whether the maximum search depth has been reached and it is therefore a leaf node. In this case the `heuristic` method of the `Evaluator` is used and the value from the perspective of white is returned.\n",
    "\n",
    "If neither of the termination conditions is true, the recursive part of the method is executed. For each possible move the new position is generated and recursively calculated with `_value`. In total, a list of values is generated for each child node in the search tree. \n",
    "\n",
    "Finally, the question remains how the node itself is evaluated based on the evaluations of the child nodes. The key idea of the `MiniMax algorithm` is that there is a minimizing and a maximizing player. When it is White's turn, he tries to maximize the valuation for his move. Accordingly, in this case the maximum value of the child nodes is returned. If, on the other hand, it is black's turn, he tries to minimize the valuation for his move. Therefore, the minimum value of the child nodes is returned. \n",
    "Overall, the algorithm assumes that both players want to win and play the best move for themselves. The respective position is thus evaluated as the future position that would be reached if both players played optimally."
   ]
  },
  {
   "cell_type": "code",
   "execution_count": null,
   "metadata": {},
   "outputs": [],
   "source": [
    "from chess.engine import PovScore, Score\n",
    "import chess\n",
    "\n",
    "\n",
    "def _value(self, board: chess.Board, depth: int) -> PovScore:\n",
    "    if (score := self.evaluator.evaluate(board)) is not None:\n",
    "        return score\n",
    "    if depth == 0:\n",
    "        return self.evaluator.heuristic(board)\n",
    "\n",
    "    scores = []\n",
    "    for move in board.legal_moves:\n",
    "        board.push(move)\n",
    "        score = self._value(board, depth - 1)\n",
    "        score = score.white()\n",
    "        scores.append(self._value(board, depth - 1).white())\n",
    "        board.pop()\n",
    "\n",
    "    if board.turn is chess.WHITE:\n",
    "        return PovScore(max(scores), chess.WHITE)\n",
    "    else:\n",
    "        return PovScore(min(scores), chess.WHITE)\n",
    "\n",
    "\n",
    "MiniMaxEngine._value = _value"
   ]
  },
  {
   "cell_type": "markdown",
   "metadata": {
    "tags": [
     "no-python-export"
    ]
   },
   "source": [
    "To score a move\n",
    "we define the `_evaluate_move` method\n",
    "which takes the instance of the `MiniMaxEngine',\n",
    "and a chess board `board`,\n",
    "and a chess move `move`.\n",
    "After making the move\n",
    "it calls the recursive `_value` method to calculate the score\n",
    "before restoring the board and returning a `ScoredMove` containing the move and its score."
   ]
  },
  {
   "cell_type": "code",
   "execution_count": null,
   "metadata": {},
   "outputs": [],
   "source": [
    "def _evaluate_move(self, board: chess.Board, move: chess.Move):\n",
    "    board.push(move)\n",
    "    score = self._value(board, self.look_ahead_depth - 1)\n",
    "    board.pop()\n",
    "    return ScoredMove(score=score.white(), move=move)\n",
    "\n",
    "\n",
    "MiniMaxEngine._evaluate_move = _evaluate_move"
   ]
  },
  {
   "cell_type": "markdown",
   "metadata": {
    "tags": [
     "no-python-export"
    ]
   },
   "source": [
    "The method `_evalutate_moves` is the same as before."
   ]
  },
  {
   "cell_type": "code",
   "execution_count": null,
   "metadata": {},
   "outputs": [],
   "source": [
    "def _evaluate_moves(self, board: chess.Board):\n",
    "    return [self._evaluate_move(board, move) for move in board.legal_moves]\n",
    "\n",
    "\n",
    "MiniMaxEngine._evaluate_moves = _evaluate_moves"
   ]
  },
  {
   "cell_type": "markdown",
   "metadata": {
    "tags": [
     "no-python-export"
    ]
   },
   "source": [
    "The `analyse` method is not changed."
   ]
  },
  {
   "cell_type": "code",
   "execution_count": null,
   "metadata": {},
   "outputs": [],
   "source": [
    "def analyse(self, board: chess.Board) -> list[ScoredMove]:\n",
    "    nextMoves = self._evaluate_moves(board.copy())\n",
    "    random.shuffle(nextMoves)\n",
    "\n",
    "    whitesTurn = board.turn is chess.WHITE\n",
    "    nextMoves.sort(reverse=whitesTurn)\n",
    "\n",
    "    return nextMoves\n",
    "\n",
    "\n",
    "MiniMaxEngine.analyse = analyse"
   ]
  },
  {
   "cell_type": "markdown",
   "metadata": {
    "tags": [
     "no-python-export"
    ]
   },
   "source": [
    "Neither is the `play` method."
   ]
  },
  {
   "cell_type": "code",
   "execution_count": null,
   "metadata": {},
   "outputs": [],
   "source": [
    "def play(self, board: chess.Board) -> chess.engine.PlayResult:\n",
    "    bestScoredMove = self.analyse(board)[0]\n",
    "    return chess.engine.PlayResult(move=bestScoredMove.move, ponder=None)\n",
    "\n",
    "\n",
    "MiniMaxEngine.play = play"
   ]
  },
  {
   "cell_type": "markdown",
   "metadata": {
    "tags": [
     "no-python-export"
    ]
   },
   "source": [
    "To demonstrate how the algorithm works, a special chess position is constructed in which only a limited number of moves are possible and the evaluation varies greatly depending on the move."
   ]
  },
  {
   "cell_type": "code",
   "execution_count": null,
   "metadata": {},
   "outputs": [],
   "source": [
    "sample_minimax_board = chess.Board(\"7k/7P/7P/8/8/p7/8/7K b - - 0 1\")"
   ]
  },
  {
   "cell_type": "code",
   "execution_count": null,
   "metadata": {
    "tags": [
     "no-python-export"
    ]
   },
   "outputs": [],
   "source": [
    "import IPython.display\n",
    "\n",
    "IPython.display.display(sample_minimax_board)"
   ]
  },
  {
   "cell_type": "markdown",
   "metadata": {
    "tags": [
     "no-python-export"
    ]
   },
   "source": [
    "An additional auxiliary class `MinMaxTree` was written, which however only serves to visualize the search tree and is therefore not explained in more detail. An instance of the class can be created with the method `add_tree_to_engine`. If then a position is analyzed with `analyze`, the tree can be drawn afterwards with `draw`. "
   ]
  },
  {
   "cell_type": "code",
   "execution_count": null,
   "metadata": {
    "tags": [
     "no-python-export"
    ]
   },
   "outputs": [],
   "source": [
    "import utils.min_max_tree\n",
    "from converted_notebooks.s08_evaluation import standard_evaluator\n",
    "\n",
    "random.seed(42)\n",
    "\n",
    "engine = MiniMaxEngine(evaluator=standard_evaluator, look_ahead_depth=3)\n",
    "tree = utils.min_max_tree.add_tree_to_engine(engine)\n",
    "print(engine.analyse(sample_minimax_board))\n",
    "tree.draw()"
   ]
  },
  {
   "cell_type": "markdown",
   "metadata": {
    "tags": [
     "no-python-export"
    ]
   },
   "source": [
    "In the constructed example, the search tree can still be well surveyed. This is due in particular to the low branching factor in the first two moves. On average, however, the [branching factor is 35 - 38](https://www.chessprogramming.org/Branching_Factor). As a consequence, the number of nodes with higher depth quickly exceeds the computational capacity of modern computers. \n",
    "\n",
    "The following position, which arises from the [Exchange Variation of the Queen's Gambit Declined](https://en.wikipedia.org/wiki/Queen%27s_Gambit_Declined#Exchange_Variation:_4.cxd5_exd5), will demonstrate this."
   ]
  },
  {
   "cell_type": "code",
   "execution_count": null,
   "metadata": {},
   "outputs": [],
   "source": [
    "middlegame_board = chess.Board(\n",
    "    \"r1bqrnk1/pp2bppp/2p2n2/3p2B1/3P4/2NBPN2/PPQ2PPP/R4RK1 w - - 7 11\"\n",
    ")"
   ]
  },
  {
   "cell_type": "code",
   "execution_count": null,
   "metadata": {
    "tags": [
     "no-python-export"
    ]
   },
   "outputs": [],
   "source": [
    "IPython.display.display(middlegame_board)\n",
    "print(f\"Number of moves: {len(list(middlegame_board.legal_moves))}\")"
   ]
  },
  {
   "cell_type": "markdown",
   "metadata": {
    "tags": [
     "no-python-export"
    ]
   },
   "source": [
    "If this position is evaluated with the `MiniMaxEngine` at depth three, it is immediately noticeable that the calculation is considerably slower. The evaluation of the tree also shows that it contains a total of over 70'000 nodes. At a depth of four, the number of nodes increases to 2'342'944. "
   ]
  },
  {
   "cell_type": "code",
   "execution_count": null,
   "metadata": {},
   "outputs": [],
   "source": [
    "import utils.min_max_tree\n",
    "from converted_notebooks.s08_evaluation import standard_evaluator\n",
    "\n",
    "random.seed(42)\n",
    "\n",
    "engine = MiniMaxEngine(evaluator=standard_evaluator, look_ahead_depth=3)\n",
    "tree = utils.min_max_tree.add_tree_to_engine(engine)\n",
    "result_minimax = engine.analyse(middlegame_board)"
   ]
  },
  {
   "cell_type": "code",
   "execution_count": null,
   "metadata": {
    "tags": [
     "no-python-export"
    ]
   },
   "outputs": [],
   "source": [
    "print(result_minimax)\n",
    "tree.count()"
   ]
  }
 ],
 "metadata": {
  "language_info": {
   "codemirror_mode": {
    "name": "ipython"
   },
   "file_extension": ".py",
   "mimetype": "text/x-python",
   "name": "python",
   "nbconvert_exporter": "python"
  },
  "vscode": {
   "interpreter": {
    "hash": "b42f3920614829e661a3e80085f50421aa71f403bff6adf1f40efa6d26183877"
   }
  }
 },
 "nbformat": 4,
 "nbformat_minor": 2
}
