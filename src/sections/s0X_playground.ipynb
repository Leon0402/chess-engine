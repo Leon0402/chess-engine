{
 "cells": [
  {
   "cell_type": "markdown",
   "metadata": {},
   "source": [
    "NegaMax Implementation for MiniMax"
   ]
  },
  {
   "cell_type": "code",
   "execution_count": null,
   "metadata": {},
   "outputs": [],
   "source": [
    "def _value(self, board: chess.Board, depth: int) -> int:\n",
    "    if score := self._evaluate(board):\n",
    "        return score\n",
    "    if depth == 0:\n",
    "        return self._absolute_heuristic(board)\n",
    "\n",
    "    scores = []\n",
    "    for move in board.legal_moves:\n",
    "        board.push(move)\n",
    "        scores.append(-1 * self._value(board, depth - 1))\n",
    "        board.pop()\n",
    "\n",
    "    return max(scores)\n",
    "\n",
    "\n",
    "MiniMaxEngine._value = _value\n",
    "\n",
    "\n",
    "def _evaluate_move(self, board: chess.Board, move: chess.Move, depth: int):\n",
    "    board.push(move)\n",
    "    score = self._value(board, depth)\n",
    "    score *= self.PLAYER_MULTIPLIER[board.turn]\n",
    "    board.pop()\n",
    "    return ScoredMove(score=score, move=move)\n",
    "\n",
    "\n",
    "MiniMaxEngine._evaluate_move = _evaluate_move"
   ]
  },
  {
   "cell_type": "markdown",
   "metadata": {},
   "source": [
    "A more efficient Zobrist Hasher. For even more performance incremental hashing needs to be implemented"
   ]
  },
  {
   "cell_type": "code",
   "execution_count": null,
   "metadata": {},
   "outputs": [],
   "source": [
    "import chess.polyglot\n",
    "\n",
    "\n",
    "class ZobristHasher(chess.polyglot.ZobristHasher):\n",
    "\n",
    "    def hash_castling(self, board: chess.Board) -> int:\n",
    "        zobrist_hash = 0\n",
    "\n",
    "        if board.castling_rights & chess.BB_H1:\n",
    "            zobrist_hash ^= self.array[768]\n",
    "        if board.castling_rights & chess.BB_A1:\n",
    "            zobrist_hash ^= self.array[768 + 1]\n",
    "        if board.castling_rights & chess.BB_H8:\n",
    "            zobrist_hash ^= self.array[768 + 2]\n",
    "        if board.castling_rights & chess.BB_A8:\n",
    "            zobrist_hash ^= self.array[768 + 3]\n",
    "\n",
    "        return zobrist_hash\n",
    "\n",
    "    def hash_board(self, board: chess.BaseBoard) -> int:\n",
    "        zobrist_hash = 0\n",
    "\n",
    "        for square in chess.scan_reversed(board.occupied_co[chess.BLACK]):\n",
    "            zobrist_hash ^= self.array[128 * board.piece_type_at(square) - 128 +\n",
    "                                       square]\n",
    "\n",
    "        for square in chess.scan_reversed(board.occupied_co[chess.WHITE]):\n",
    "            zobrist_hash ^= self.array[128 * board.piece_type_at(square) - 64 +\n",
    "                                       square]\n",
    "\n",
    "        return zobrist_hash\n",
    "\n",
    "    def set_piece(self, hash):\n",
    "        hash ^= self.array[64 * 3 + 8 * 10]  # Sample zrobist xor\n",
    "        hash ^= self.array[64 * 3 + 8 * 10]  # Sample zrobist xor\n",
    "        hash ^= self.array[64 * 3 + 8 * 10]  # Sample zrobist xor\n",
    "        hash ^= self.array[64 * 3 + 8 * 10]  # Sample zrobist xor\n",
    "\n",
    "\n",
    "zobrist_hash_old = chess.polyglot.ZobristHasher(\n",
    "    chess.polyglot.POLYGLOT_RANDOM_ARRAY\n",
    ")\n",
    "zobrist_hash_new = ZobristHasher(chess.polyglot.POLYGLOT_RANDOM_ARRAY)\n",
    "\n",
    "board = chess.Board()\n",
    "\n",
    "# move = list(board.legal_moves)[0]\n",
    "# board.push(move)\n",
    "\n",
    "%timeit zobrist_hash_old.hash_board(board)\n",
    "%timeit zobrist_hash_new.hash_board(board)\n",
    "\n",
    "hash = zobrist_hash_new.hash_board(board)\n",
    "\n",
    "%timeit zobrist_hash_new.set_piece(hash)"
   ]
  },
  {
   "cell_type": "code",
   "execution_count": null,
   "metadata": {},
   "outputs": [],
   "source": [
    "# Performance of board with at least one move does make a difference (as push() is precalculating some things)\n",
    "move = list(board.legal_moves)[0]\n",
    "board.push(move)\n",
    "\n",
    "%timeit board._transposition_key()\n",
    "%timeit board._transposition_key()\n",
    "%timeit board._transposition_key()\n",
    "\n",
    "board.pop()"
   ]
  },
  {
   "cell_type": "markdown",
   "metadata": {},
   "source": [
    "Performance single move"
   ]
  },
  {
   "cell_type": "code",
   "execution_count": null,
   "metadata": {},
   "outputs": [],
   "source": [
    "class Test(IterativeAlphaBetaCached):\n",
    "\n",
    "    def __init__(self):\n",
    "        self._value_counter = 0\n",
    "        self._value2_counter = 0\n",
    "        self._evaluate_counter = 0\n",
    "        self._absolute_heuristic_counter = 0\n",
    "        super().__init__()\n",
    "\n",
    "    def _value(self, *args, **kwarg):\n",
    "        self._value_counter += 1\n",
    "        return super()._value(*args, **kwarg)\n",
    "\n",
    "    def _value2(self, *args, **kwarg):\n",
    "        self._value2_counter += 1\n",
    "        return super()._value2(*args, **kwarg)\n",
    "\n",
    "    def _evaluate(self, *args, **kwarg):\n",
    "        self._evaluate_counter += 1\n",
    "        return super()._evaluate(*args, **kwarg)\n",
    "\n",
    "    def _absolute_heuristic(self, *args, **kwargs):\n",
    "        self._absolute_heuristic_counter += 1\n",
    "        return super()._absolute_heuristic(*args, **kwargs)"
   ]
  },
  {
   "cell_type": "code",
   "execution_count": null,
   "metadata": {},
   "outputs": [],
   "source": [
    "class Board(chess.Board):\n",
    "\n",
    "    def __init__(self, *args, **kwarg):\n",
    "        self.push_counter = 0\n",
    "        super().__init__(*args, **kwarg)\n",
    "\n",
    "    def push(self, *args, **kwarg):\n",
    "        self.push_counter += 1\n",
    "        super().push(*args, **kwarg)"
   ]
  },
  {
   "cell_type": "code",
   "execution_count": null,
   "metadata": {},
   "outputs": [],
   "source": [
    "engine = Test()\n",
    "board = Board(\"rnbqkbnr/p2ppppp/8/1p6/3PP3/8/PP3PPP/RNBQKBNR b Kkq - 0 1\")\n",
    "%time result = engine._evaluate_move(board, ev2[0].move, 5)\n",
    "print(engine._value_counter)\n",
    "print(engine._value2_counter)\n",
    "print(engine._evaluate_counter)\n",
    "print(engine._absolute_heuristic_counter)\n",
    "print(board.push_counter)"
   ]
  }
 ],
 "metadata": {
  "interpreter": {
   "hash": "b42f3920614829e661a3e80085f50421aa71f403bff6adf1f40efa6d26183877"
  },
  "language_info": {
   "codemirror_mode": {
    "name": "ipython"
   },
   "file_extension": ".py",
   "mimetype": "text/x-python",
   "name": "python",
   "nbconvert_exporter": "python"
  }
 },
 "nbformat": 4,
 "nbformat_minor": 2
}
