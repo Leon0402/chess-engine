{
 "cells": [
  {
   "cell_type": "code",
   "execution_count": null,
   "metadata": {},
   "outputs": [],
   "source": [
    "from IPython.core.display import HTML\n",
    "with open('style.css') as file:\n",
    "    css = file.read()\n",
    "HTML(css)"
   ]
  },
  {
   "cell_type": "markdown",
   "metadata": {},
   "source": [
    "## Some Stockfish Experiments!"
   ]
  },
  {
   "cell_type": "code",
   "execution_count": null,
   "metadata": {},
   "outputs": [],
   "source": [
    "import chess\n",
    "import chess.engine\n",
    "\n",
    "# engine = chess.engine.SimpleEngine.popen_uci(r\"../data/stockfish_14.1_linux_x64/stockfish_14.1_linux_x64\")\n",
    "\n",
    "# board = chess.Board()\n",
    "# while not board.is_game_over():\n",
    "#     result = engine.play(board, chess.engine.Limit(time=0.1))\n",
    "#     board.push(result.move)\n",
    "\n",
    "# engine.quit()\n",
    "\n",
    "# board"
   ]
  },
  {
   "cell_type": "markdown",
   "metadata": {},
   "source": [
    "To use an existing UCI compatible engine, it can be loaded as follows:"
   ]
  },
  {
   "cell_type": "code",
   "execution_count": null,
   "metadata": {},
   "outputs": [],
   "source": [
    "engine = chess.engine.SimpleEngine.popen_uci(r\"../data/stockfish_14.1_linux_x64/stockfish_14.1_linux_x64\")"
   ]
  },
  {
   "cell_type": "markdown",
   "metadata": {},
   "source": []
  },
  {
   "cell_type": "code",
   "execution_count": null,
   "metadata": {},
   "outputs": [],
   "source": [
    "engine.analyse(chess.Board(SHIROV_SACRIFICE), chess.engine.Limit(time=0.1))"
   ]
  },
  {
   "cell_type": "code",
   "execution_count": null,
   "metadata": {},
   "outputs": [],
   "source": [
    "engine.analyse(chess.Board(VLADIMIROV_THUNDERBOLT), chess.engine.Limit(time=0.1))"
   ]
  },
  {
   "cell_type": "markdown",
   "metadata": {},
   "source": []
  }
 ],
 "metadata": {
  "language_info": {
   "name": "python"
  }
 },
 "nbformat": 4,
 "nbformat_minor": 2
}
