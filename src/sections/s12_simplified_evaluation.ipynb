{
 "cells": [
  {
   "cell_type": "code",
   "execution_count": null,
   "metadata": {
    "tags": [
     "no-python-export",
     "remove-cell"
    ]
   },
   "outputs": [],
   "source": [
    "from IPython.core.display import HTML\n",
    "with open('style.css') as file:\n",
    "    css = file.read()\n",
    "HTML(css)"
   ]
  },
  {
   "cell_type": "code",
   "execution_count": null,
   "metadata": {
    "tags": [
     "no-python-export",
     "remove-cell"
    ]
   },
   "outputs": [],
   "source": [
    "# Autload python modules by default\n",
    "%load_ext autoreload\n",
    "%autoreload 2\n",
    "\n",
    "# Convert notebooks to python, so they can be loaded effiently\n",
    "from utils.jupyter_loader import JupyterLoader\n",
    "\n",
    "loader = JupyterLoader()\n",
    "loader.load_all()"
   ]
  },
  {
   "cell_type": "markdown",
   "metadata": {
    "tags": [
     "no-python-export"
    ]
   },
   "source": [
    "# Simplified Evaluation Function"
   ]
  },
  {
   "cell_type": "markdown",
   "metadata": {
    "tags": [
     "no-python-export"
    ]
   },
   "source": [
    "The Simplified Evaluation Function uses a different set of piece values.\n",
    "They base unit used here is centipawn, so a pawn is by definition valued with 100.\n",
    "The other values are using the accuracy of the centipawn unit to assign slightly more accurate values to the pieces."
   ]
  },
  {
   "cell_type": "code",
   "execution_count": null,
   "metadata": {},
   "outputs": [],
   "source": [
    "import chess\n",
    "\n",
    "SIMPLIFIED_EVALUATION_PIECE_VALUES = {\n",
    "    chess.PAWN: 100,\n",
    "    chess.KNIGHT: 320,\n",
    "    chess.BISHOP: 330,\n",
    "    chess.ROOK: 500,\n",
    "    chess.QUEEN: 900,\n",
    "    chess.KING: 20000\n",
    "}\n",
    "\n",
    "SIMPLIFIED_EVALUATION_VALUE_CHECKMATE = 30000\n",
    "SIMPLIFIED_EVALUATION_VALUE_DRAW = 0"
   ]
  },
  {
   "cell_type": "markdown",
   "metadata": {
    "tags": [
     "no-python-export"
    ]
   },
   "source": [
    "The second idea that the Simplified Evaluation Engine is built on is [Piece Square Tables](https://www.chessprogramming.org/Piece-Square_Tables). \n",
    "In order for the engine to strategically place its pieces, well-placed pieces are additionally rewarded and poorly-placed pieces are penalized. \n",
    "This is technically realized by assigning a specific value to each square on the chessboard for each type of piece. \n",
    "`SIMPLIFIED_EVALUATION_PAWN_SQUARE_VALUES` shows the values of the chess squares as a 2 dimensional 8 x 8 list for the white pawn. \n",
    "The first entry corresponds to the last row on the chess board from the player's perspective and the last entry to the first row. \n",
    "You can see, for example, that pawns on the seventh row for White and second row for black receive a high bonus of 50 because they are about to be promoted."
   ]
  },
  {
   "cell_type": "code",
   "execution_count": null,
   "metadata": {},
   "outputs": [],
   "source": [
    "SIMPLIFIED_EVALUATION_PAWN_SQUARE_VALUES = [\n",
    "    [ 0,  0,  0,  0,  0,  0,  0,  0],\n",
    "    [50, 50, 50, 50, 50, 50, 50, 50],\n",
    "    [10, 10, 20, 30, 30, 20, 10, 10],\n",
    "    [ 5,  5, 10, 25, 25, 10,  5,  5],\n",
    "    [ 0,  0,  0, 20, 20,  0,  0,  0],\n",
    "    [ 5, -5,-10,  0,  0,-10, -5,  5],\n",
    "    [ 5, 10, 10,-20,-20, 10, 10,  5],\n",
    "    [ 0,  0,  0,  0,  0,  0,  0,  0]\n",
    "] # yapf: disable"
   ]
  },
  {
   "cell_type": "markdown",
   "metadata": {
    "tags": [
     "no-python-export"
    ]
   },
   "source": [
    "In order to simplify the calculation later, the figure values defined above can be written directly into the table as an offset. \n",
    "This is done by the helper function `add_offset_to_square_values`, which takes a piece square table `square_values` and an offset `offset` as parameters and then adds the offset to each entry in the table."
   ]
  },
  {
   "cell_type": "code",
   "execution_count": null,
   "metadata": {},
   "outputs": [],
   "source": [
    "def add_offset_to_square_values(square_values: list[list[int]], offset: int):\n",
    "    for row in range(8):\n",
    "        for column in range(8):\n",
    "            square_values[row][column] += offset"
   ]
  },
  {
   "cell_type": "markdown",
   "metadata": {
    "tags": [
     "no-python-export"
    ]
   },
   "source": [
    "For the `SIMPLIFIED_EVALUATION_PAWN_SQUARE_VALUES` the offset of the piece value of a pawn from the `SIMPLIFIED_EVALUATION_PIECE_VALUES` dictionary is added."
   ]
  },
  {
   "cell_type": "code",
   "execution_count": null,
   "metadata": {},
   "outputs": [],
   "source": [
    "add_offset_to_square_values(\n",
    "    SIMPLIFIED_EVALUATION_PAWN_SQUARE_VALUES,\n",
    "    SIMPLIFIED_EVALUATION_PIECE_VALUES[chess.PAWN]\n",
    ")"
   ]
  },
  {
   "cell_type": "markdown",
   "metadata": {
    "tags": [
     "no-python-export"
    ]
   },
   "source": [
    "These tables are defined accordingly for all pieces\n",
    "and the piece values are added to the tables as done with the `SIMPLIFIED_EVALUATION_PAWN_SQUARE_VALUES`.\n",
    "An even more advanced technique is to use different table for black and white, but with the `Simplified Evaluation Function` the same tables are used for both players."
   ]
  },
  {
   "cell_type": "code",
   "execution_count": null,
   "metadata": {},
   "outputs": [],
   "source": [
    "SIMPLIFIED_EVALUATION_KNIGHT_SQUARE_VALUES = [\n",
    "    [-50,-40,-30,-30,-30,-30,-40,-50],\n",
    "    [-40,-20,  0,  0,  0,  0,-20,-40],\n",
    "    [-30,  0, 10, 15, 15, 10,  0,-30],\n",
    "    [-30,  5, 15, 20, 20, 15,  5,-30],\n",
    "    [-30,  0, 15, 20, 20, 15,  0,-30],\n",
    "    [-30,  5, 10, 15, 15, 10,  5,-30],\n",
    "    [-40,-20,  0,  5,  5,  0,-20,-40],\n",
    "    [-50,-40,-30,-30,-30,-30,-40,-50]\n",
    "]  # yapf: disable\n",
    "\n",
    "add_offset_to_square_values(\n",
    "    SIMPLIFIED_EVALUATION_KNIGHT_SQUARE_VALUES,\n",
    "    SIMPLIFIED_EVALUATION_PIECE_VALUES[chess.KNIGHT]\n",
    ")"
   ]
  },
  {
   "cell_type": "code",
   "execution_count": null,
   "metadata": {},
   "outputs": [],
   "source": [
    "SIMPLIFIED_EVALUATION_BISHOP_SQUARE_VALUES = [\n",
    "    [-20,-10,-10,-10,-10,-10,-10,-20],\n",
    "    [-10,  0,  0,  0,  0,  0,  0,-10],\n",
    "    [-10,  0,  5, 10, 10,  5,  0,-10],\n",
    "    [-10,  5,  5, 10, 10,  5,  5,-10],\n",
    "    [-10,  0, 10, 10, 10, 10,  0,-10],\n",
    "    [-10, 10, 10, 10, 10, 10, 10,-10],\n",
    "    [-10,  5,  0,  0,  0,  0,  5,-10],\n",
    "    [-20,-10,-10,-10,-10,-10,-10,-20]\n",
    "]  # yapf: disable\n",
    "\n",
    "add_offset_to_square_values(\n",
    "    SIMPLIFIED_EVALUATION_BISHOP_SQUARE_VALUES,\n",
    "    SIMPLIFIED_EVALUATION_PIECE_VALUES[chess.BISHOP]\n",
    ")"
   ]
  },
  {
   "cell_type": "code",
   "execution_count": null,
   "metadata": {},
   "outputs": [],
   "source": [
    "SIMPLIFIED_EVALUATION_ROOK_SQUARE_VALUES = [\n",
    "    [ 0,  0,  0,  0,  0,  0,  0,  0],\n",
    "    [ 5, 10, 10, 10, 10, 10, 10,  5],\n",
    "    [-5,  0,  0,  0,  0,  0,  0, -5],\n",
    "    [-5,  0,  0,  0,  0,  0,  0, -5],\n",
    "    [-5,  0,  0,  0,  0,  0,  0, -5],\n",
    "    [-5,  0,  0,  0,  0,  0,  0, -5],\n",
    "    [-5,  0,  0,  0,  0,  0,  0, -5],\n",
    "    [ 0,  0,  0,  5,  5,  0,  0,  0]\n",
    "] # yapf: disable\n",
    "\n",
    "add_offset_to_square_values(\n",
    "    SIMPLIFIED_EVALUATION_ROOK_SQUARE_VALUES,\n",
    "    SIMPLIFIED_EVALUATION_PIECE_VALUES[chess.ROOK]\n",
    ")"
   ]
  },
  {
   "cell_type": "code",
   "execution_count": null,
   "metadata": {},
   "outputs": [],
   "source": [
    "SIMPLIFIED_EVALUATION_QUEEN_SQUARE_VALUES = [\n",
    "    [-20,-10,-10, -5, -5,-10,-10,-20],\n",
    "    [-10,  0,  0,  0,  0,  0,  0,-10],\n",
    "    [-10,  0,  5,  5,  5,  5,  0,-10],\n",
    "    [ -5,  0,  5,  5,  5,  5,  0, -5],\n",
    "    [  0,  0,  5,  5,  5,  5,  0, -5],\n",
    "    [-10,  5,  5,  5,  5,  5,  0,-10],\n",
    "    [-10,  0,  5,  0,  0,  0,  0,-10],\n",
    "    [-20,-10,-10, -5, -5,-10,-10,-20]\n",
    "] # yapf: disable\n",
    "\n",
    "add_offset_to_square_values(\n",
    "    SIMPLIFIED_EVALUATION_QUEEN_SQUARE_VALUES,\n",
    "    SIMPLIFIED_EVALUATION_PIECE_VALUES[chess.QUEEN]\n",
    ")"
   ]
  },
  {
   "cell_type": "code",
   "execution_count": null,
   "metadata": {},
   "outputs": [],
   "source": [
    "SIMPLIFIED_EVALUATION_KING_SQUARE_VALUES = [\n",
    "    [-30,-40,-40,-50,-50,-40,-40,-30],\n",
    "    [-30,-40,-40,-50,-50,-40,-40,-30],\n",
    "    [-30,-40,-40,-50,-50,-40,-40,-30],\n",
    "    [-30,-40,-40,-50,-50,-40,-40,-30],\n",
    "    [-20,-30,-30,-40,-40,-30,-30,-20],\n",
    "    [-10,-20,-20,-20,-20,-20,-20,-10],\n",
    "    [ 20, 20,  0,  0,  0,  0, 20, 20],\n",
    "    [ 20, 30, 10,  0,  0, 10, 30, 20],\n",
    "]# yapf: disable\n",
    "\n",
    "add_offset_to_square_values(\n",
    "    SIMPLIFIED_EVALUATION_KING_SQUARE_VALUES,\n",
    "    SIMPLIFIED_EVALUATION_PIECE_VALUES[chess.KING]\n",
    ")"
   ]
  },
  {
   "cell_type": "markdown",
   "metadata": {
    "tags": [
     "no-python-export"
    ]
   },
   "source": [
    "After defining all piece square tables,\n",
    "a dictionary `SIMPLIFIED_EVALUATION_PIECE_SQUARE_VALUES` can be created\n",
    "mapping the piece to the corresponding table\n",
    "as was done for the piece values."
   ]
  },
  {
   "cell_type": "code",
   "execution_count": null,
   "metadata": {},
   "outputs": [],
   "source": [
    "# TODO: Add support for endgame square table (for instance for the king)\n",
    "# Idea: Two tables (beginning and end) -> interpolate (https://www.chessprogramming.org/Piece-Square_Tables#Multiple_Tables)\n",
    "SIMPLIFIED_EVALUATION_PIECE_SQUARE_VALUES = {\n",
    "    chess.PAWN: SIMPLIFIED_EVALUATION_PAWN_SQUARE_VALUES,\n",
    "    chess.KNIGHT: SIMPLIFIED_EVALUATION_KNIGHT_SQUARE_VALUES,\n",
    "    chess.BISHOP: SIMPLIFIED_EVALUATION_BISHOP_SQUARE_VALUES,\n",
    "    chess.ROOK: SIMPLIFIED_EVALUATION_ROOK_SQUARE_VALUES,\n",
    "    chess.QUEEN: SIMPLIFIED_EVALUATION_QUEEN_SQUARE_VALUES,\n",
    "    chess.KING: SIMPLIFIED_EVALUATION_KING_SQUARE_VALUES\n",
    "}"
   ]
  },
  {
   "cell_type": "markdown",
   "metadata": {
    "tags": [
     "no-python-export"
    ]
   },
   "source": [
    "We will now create a new class of `Evaluator` the `PieceSquareEvaluator`\n",
    "capable of using the piece square tables to calculate the score.\n",
    "It expects at creation time:\n",
    "- a dictionary of the piece values\n",
    "- a dictionary of the piece square tables\n",
    "- a checkmate value\n",
    "- a draw value"
   ]
  },
  {
   "cell_type": "code",
   "execution_count": null,
   "metadata": {},
   "outputs": [],
   "source": [
    "from converted_notebooks.s08_evaluation import Evaluator\n",
    "\n",
    "\n",
    "class PieceSquareEvaluator(Evaluator):\n",
    "\n",
    "    def __init__(\n",
    "        self,\n",
    "        piece_values,\n",
    "        piece_square_values,\n",
    "        value_checkmate: int,\n",
    "        value_draw: int\n",
    "    ):\n",
    "        super().__init__(value_checkmate, value_draw)\n",
    "        self.piece_values = piece_values\n",
    "        self.piece_square_values = piece_square_values"
   ]
  },
  {
   "cell_type": "markdown",
   "metadata": {
    "tags": [
     "no-python-export"
    ]
   },
   "source": [
    "The method `_get_piece_square_value` takes a chess piece `piece` and its position split in `file` and `rank` as parameters \n",
    "and returns the value from the corresponding piece square table.\n",
    "For white the table needs to be mirrored at the x-axis;\n",
    "this is done by counting from the other side by accessing `-(rank+1)`."
   ]
  },
  {
   "cell_type": "code",
   "execution_count": null,
   "metadata": {},
   "outputs": [],
   "source": [
    "def _get_piece_square_value(self, piece: chess.Piece, file: int, rank: int):\n",
    "    if piece.color == chess.WHITE:\n",
    "        return self.piece_square_values[piece.piece_type][-(rank + 1)][file]\n",
    "    else:\n",
    "        return self.piece_square_values[piece.piece_type][rank][file]\n",
    "\n",
    "\n",
    "PieceSquareEvaluator._get_piece_square_value = _get_piece_square_value"
   ]
  },
  {
   "cell_type": "markdown",
   "metadata": {
    "tags": [
     "no-python-export"
    ]
   },
   "source": [
    "As iterating on chess board squares is done frequently,\n",
    "another helper function `_get_square_value` is implemented.\n",
    "It takes the chess board `board` and a chess board square `square` as parameters, \n",
    "calculates the piece, and the file, and the rank,\n",
    "and returns the result of calling `_get_piece_square_value` with those parameters."
   ]
  },
  {
   "cell_type": "code",
   "execution_count": null,
   "metadata": {},
   "outputs": [],
   "source": [
    "def _get_square_value(self, board: chess.Board, square: chess.Square):\n",
    "    piece = board.piece_at(square)\n",
    "    file = chess.square_file(square)\n",
    "    rank = chess.square_rank(square)\n",
    "    return self._get_piece_square_value(piece, file, rank)\n",
    "\n",
    "\n",
    "PieceSquareEvaluator._get_square_value = _get_square_value"
   ]
  },
  {
   "cell_type": "markdown",
   "metadata": {
    "tags": [
     "no-python-export"
    ]
   },
   "source": [
    "Now the method `heuristic` can be defined, which works similary as before.\n",
    "It takes a chess board `board` as parameter and returns the evaluation from the current players point of view.\n",
    "To do so it sums the values of all squares occupied by the current player up.\n",
    "Afterwards it subtracts the sum of all occupied fields of the oppenent."
   ]
  },
  {
   "cell_type": "code",
   "execution_count": null,
   "metadata": {},
   "outputs": [],
   "source": [
    "def heuristic(self, board: chess.Board) -> int:\n",
    "    score = 0\n",
    "\n",
    "    for square in chess.scan_reversed(board.occupied_co[board.turn]):\n",
    "        score += self._get_square_value(board, square)\n",
    "\n",
    "    for square in chess.scan_reversed(board.occupied_co[not board.turn]):\n",
    "        score -= self._get_square_value(board, square)\n",
    "\n",
    "    return score\n",
    "\n",
    "\n",
    "PieceSquareEvaluator.heuristic = heuristic"
   ]
  },
  {
   "cell_type": "markdown",
   "metadata": {
    "tags": [
     "no-python-export"
    ]
   },
   "source": [
    "After defining the `PieceSquareEvaluator` class\n",
    "it can now be instantiated using the settings corresponding to the simplified evaluation function."
   ]
  },
  {
   "cell_type": "code",
   "execution_count": null,
   "metadata": {},
   "outputs": [],
   "source": [
    "simplified_evaluator = PieceSquareEvaluator(\n",
    "    piece_values=SIMPLIFIED_EVALUATION_PIECE_VALUES,\n",
    "    piece_square_values=SIMPLIFIED_EVALUATION_PIECE_SQUARE_VALUES,\n",
    "    value_checkmate=SIMPLIFIED_EVALUATION_VALUE_CHECKMATE,\n",
    "    value_draw=SIMPLIFIED_EVALUATION_VALUE_DRAW\n",
    ")"
   ]
  },
  {
   "cell_type": "markdown",
   "metadata": {
    "tags": [
     "no-python-export"
    ]
   },
   "source": [
    "The `simplified_evaluator` can be tested in a similiar way to the previous evaluators by creating an engine using it,\n",
    "but its results can't be compared to the previous engines results,\n",
    "as the evaluation function is an entirely different one."
   ]
  },
  {
   "cell_type": "code",
   "execution_count": null,
   "metadata": {},
   "outputs": [],
   "source": [
    "import random\n",
    "from converted_notebooks.s09_minimax_engine import middlegame_board\n",
    "from converted_notebooks.s11_iterative_deepening import IterativeAlphaBetaCached\n",
    "\n",
    "random.seed(42)\n",
    "\n",
    "engine = IterativeAlphaBetaCached(\n",
    "    evaluator=simplified_evaluator, max_look_ahead_depth=3\n",
    ")\n",
    "result_simplified_evaluation = engine.analyse(middlegame_board)"
   ]
  },
  {
   "cell_type": "markdown",
   "metadata": {
    "tags": [
     "no-python-export"
    ]
   },
   "source": [
    "The jupyter notebook extension `line_profiler` defines the magic command `lprun` to analyse the performance of a command.\n",
    "In this case it useful to see \n",
    "which instruction is called the most and which is taking the most time\n",
    "when running an analysis of the board with `engine.analyse(middlegame_board)`. The most intersting function is the `_value` function as this is where the recursive algorithm happens. There is some knowledge needed to find the exact name of the function as we have used inheritance and decorators."
   ]
  },
  {
   "cell_type": "code",
   "execution_count": null,
   "metadata": {
    "tags": [
     "no-python-export"
    ]
   },
   "outputs": [],
   "source": [
    "from converted_notebooks.s10_alpha_beta_engine import AlphaBetaEngine\n",
    "\n",
    "%load_ext line_profiler\n",
    "random.seed(42)\n",
    "\n",
    "engine = IterativeAlphaBetaCached(\n",
    "    evaluator=simplified_evaluator, max_look_ahead_depth=4\n",
    ")\n",
    "%lprun -f AlphaBetaEngine._value engine.analyse(middlegame_board)"
   ]
  },
  {
   "cell_type": "markdown",
   "metadata": {
    "tags": [
     "no-python-export"
    ]
   },
   "source": [
    "The evaluation shows that all calls of the heuristic with `self.evaluator.heuristic(board)` account for about 50% of the total runtime. In second and third place with approximatly 15% is the evaluation `self.evaluator.evaluate(board)` and the call of `board.push(move)`. For these, no direct optimizations are possible, since for this the implementation of the `python-chess` library would have to be optimized. \n",
    "It is possible though to speed up the heuristic by calculating the score incrementally."
   ]
  },
  {
   "cell_type": "markdown",
   "metadata": {
    "tags": [
     "no-python-export"
    ]
   },
   "source": [
    "For the incremental implementation, some helper classes need to be defined first. First we create a class `PostionedPiece`, which is a wrapper around the `chess.piece` class. In contrast to the original class, this one captures informations about the board context. It therefore saves the file and the rank of the piece and for ease of use the constructes square.\n",
    "The class only has a constructor, which taktes the piece `piece` and the file `file` and rank `rank` of the piece as parameters and saves these as attributes."
   ]
  },
  {
   "cell_type": "code",
   "execution_count": null,
   "metadata": {},
   "outputs": [],
   "source": [
    "class PostionedPiece:\n",
    "\n",
    "    def __init__(self, piece: chess.Piece, file: int, rank: int):\n",
    "        self.piece = piece\n",
    "        self.file = file\n",
    "        self.rank = rank\n",
    "        self.square = chess.square(file_index=file, rank_index=rank)"
   ]
  },
  {
   "cell_type": "markdown",
   "metadata": {
    "tags": [
     "no-python-export"
    ]
   },
   "source": [
    "Next, we define a class `DetailedMove` which is as the name suggests a wrapper around the `chess.Move` class. Similary to before this class contains context from the board and does some precalculations. The most important function is the constructor, which takes the chess board `board` and the move `move` as parameters. Then it first constructs the piece that moved as a `PositionedPiece`. The same is done for the piece placed at the end of the move. This is usually the same piece as the moving piece, except when there is a promotion. In that case the piece type changes. In the last step the captured piece if any is constructed. There is one special case that needs to be handeled, the en passant capture.\n",
    "\n",
    "The class also defines a method `has_capture` which has no parameter and simply returns a boolean indicating if the move captured any piece. "
   ]
  },
  {
   "cell_type": "code",
   "execution_count": null,
   "metadata": {},
   "outputs": [],
   "source": [
    "class DetailedMove:\n",
    "\n",
    "    def __init__(self, board: chess.Board, move: chess.Move):\n",
    "        self.move = move\n",
    "\n",
    "        self.movedPiece = PostionedPiece(\n",
    "            piece=board.piece_at(move.from_square),\n",
    "            file=chess.square_file(move.from_square),\n",
    "            rank=chess.square_rank(move.from_square)\n",
    "        )\n",
    "\n",
    "        if move.promotion:\n",
    "            self.placedPiece = PostionedPiece(\n",
    "                piece=chess.Piece(move.promotion, self.movedPiece.piece.color),\n",
    "                file=chess.square_file(move.to_square),\n",
    "                rank=chess.square_rank(move.to_square)\n",
    "            )\n",
    "        else:\n",
    "            self.placedPiece = PostionedPiece(\n",
    "                piece=self.movedPiece.piece,\n",
    "                file=chess.square_file(move.to_square),\n",
    "                rank=chess.square_rank(move.to_square)\n",
    "            )\n",
    "\n",
    "        if board.is_en_passant(move):\n",
    "            self.capturedPiece = PostionedPiece(\n",
    "                piece=chess.Piece(chess.PAWN, not board.turn),\n",
    "                file=self.movedPiece.file,\n",
    "                rank=self.placedPiece.rank\n",
    "            )\n",
    "        elif (piece := board.piece_at(move.to_square)) is not None:\n",
    "            self.capturedPiece = PostionedPiece(\n",
    "                piece=piece,\n",
    "                file=self.placedPiece.file,\n",
    "                rank=self.placedPiece.rank\n",
    "            )\n",
    "        else:\n",
    "            self.capturedPiece = None\n",
    "\n",
    "    def has_capture(self):\n",
    "        return self.capturedPiece is not None"
   ]
  },
  {
   "cell_type": "markdown",
   "metadata": {
    "tags": [
     "no-python-export"
    ]
   },
   "source": [
    "Before we implement the simplified evaluation incrementally, we first define another general interface `IncrementalEvaluator` that inherits from `Evaluator`. It adds four additional methods which concrete subclasses have to implement. The first function `init` takes the current board `board` as a parameter and will be called at the beginning of an evaluation by the engine. It therefore should calculate once the base score, which will then be incrementally calculated. The `get_score` method should simply returns the current score. Then two function `push` and `pop` are defined to calculate a new score whenever a new moved is added or one removed, respectively. "
   ]
  },
  {
   "cell_type": "code",
   "execution_count": null,
   "metadata": {},
   "outputs": [],
   "source": [
    "class IncrementalEvaluator(Evaluator):\n",
    "\n",
    "    def init(self, board: chess.Board):\n",
    "        pass\n",
    "\n",
    "    def get_score(self):\n",
    "        pass\n",
    "\n",
    "    def push(self, move: DetailedMove):\n",
    "        pass\n",
    "\n",
    "    def pop(self):\n",
    "        pass"
   ]
  },
  {
   "cell_type": "markdown",
   "metadata": {
    "tags": [
     "no-python-export"
    ]
   },
   "source": [
    "Next, we can implement the piece square evaluation incrementally. For this a new class `IncrementalPieceSquareEvaluator` is created that inherits `IncrementalEvaluator`. The constructor is the same as in the `PieceSquareEvaluator` except that it defines a list `scores` which be used to keep track of the incrementally calculated scores. Other methods like `heuristic` and helper functions are the same as well and therefore copied to this class."
   ]
  },
  {
   "cell_type": "code",
   "execution_count": null,
   "metadata": {},
   "outputs": [],
   "source": [
    "class IncrementalPieceSquareEvaluator(IncrementalEvaluator):\n",
    "\n",
    "    def __init__(\n",
    "        self,\n",
    "        piece_values,\n",
    "        piece_square_values,\n",
    "        value_checkmate: int,\n",
    "        value_draw: int\n",
    "    ):\n",
    "        super().__init__(value_checkmate, value_draw)\n",
    "        self.piece_values = piece_values\n",
    "        self.piece_square_values = piece_square_values\n",
    "        self.scores = None\n",
    "\n",
    "\n",
    "IncrementalPieceSquareEvaluator.heuristic = PieceSquareEvaluator.heuristic\n",
    "IncrementalPieceSquareEvaluator._get_square_value = PieceSquareEvaluator._get_square_value\n",
    "IncrementalPieceSquareEvaluator._get_piece_square_value = PieceSquareEvaluator._get_piece_square_value"
   ]
  },
  {
   "cell_type": "markdown",
   "metadata": {
    "tags": [
     "no-python-export"
    ]
   },
   "source": [
    "The first function to implement is `init`. It will simply initalize the `scores` member with the base score, which is calculated by the `heuristic` method.´"
   ]
  },
  {
   "cell_type": "code",
   "execution_count": null,
   "metadata": {},
   "outputs": [],
   "source": [
    "def init(self, board: chess.Board):\n",
    "    self.scores = [self.heuristic(board)]\n",
    "\n",
    "\n",
    "IncrementalPieceSquareEvaluator.init = init"
   ]
  },
  {
   "cell_type": "markdown",
   "metadata": {
    "tags": [
     "no-python-export"
    ]
   },
   "source": [
    "As the scores are implementes as a list, the most recent score is the last one from the list and simply returned by the `get_score` method."
   ]
  },
  {
   "cell_type": "code",
   "execution_count": null,
   "metadata": {},
   "outputs": [],
   "source": [
    "def get_score(self):\n",
    "    return self.scores[-1]\n",
    "\n",
    "\n",
    "IncrementalPieceSquareEvaluator.get_score = get_score"
   ]
  },
  {
   "cell_type": "markdown",
   "metadata": {
    "tags": [
     "no-python-export"
    ]
   },
   "source": [
    "The `push` method will take the move done as a parameter. It is assumed to be a `DetailedMove` and thus containing all needed data. The score is initalized to be the last calculated score. Then the value of the moved piece is subtracted and the value of the placed piece added. If there was a capture, then this value of this will be added to score as well. Then the calculated score will be put at the end of the `scors` list. The score needs to be negated as the player to move switched."
   ]
  },
  {
   "cell_type": "code",
   "execution_count": null,
   "metadata": {},
   "outputs": [],
   "source": [
    "def push(self, move: DetailedMove):\n",
    "    score = self.scores[-1]\n",
    "\n",
    "    score -= self._get_piece_square_value(\n",
    "        move.movedPiece.piece, move.movedPiece.file, move.movedPiece.rank\n",
    "    )\n",
    "\n",
    "    score += self._get_piece_square_value(\n",
    "        move.placedPiece.piece, move.placedPiece.file, move.placedPiece.rank\n",
    "    )\n",
    "\n",
    "    if move.has_capture():\n",
    "        score += self._get_piece_square_value(\n",
    "            move.capturedPiece.piece,\n",
    "            move.capturedPiece.file,\n",
    "            move.capturedPiece.rank\n",
    "        )\n",
    "\n",
    "    self.scores.append(-1 * score)\n",
    "\n",
    "\n",
    "IncrementalPieceSquareEvaluator.push = push"
   ]
  },
  {
   "cell_type": "markdown",
   "metadata": {
    "tags": [
     "no-python-export"
    ]
   },
   "source": [
    "The last missing function is `pop`, which simply removes the last score from the list. As one can see the pop function is very simple and efficient because the previous scores were saved in a list. It would also be possible to actually calculate the previous score, but that would be less efficient."
   ]
  },
  {
   "cell_type": "code",
   "execution_count": null,
   "metadata": {},
   "outputs": [],
   "source": [
    "def pop(self):\n",
    "    self.scores.pop()\n",
    "\n",
    "\n",
    "IncrementalPieceSquareEvaluator.pop = pop"
   ]
  },
  {
   "cell_type": "markdown",
   "metadata": {
    "tags": [
     "no-python-export"
    ]
   },
   "source": [
    "Similiar to before, an evalutor for the simplified evaluation function can be defined using the `IncrementalPieceSquareEvaluator` class."
   ]
  },
  {
   "cell_type": "code",
   "execution_count": null,
   "metadata": {},
   "outputs": [],
   "source": [
    "incremental_simplified_evaluator = IncrementalPieceSquareEvaluator(\n",
    "    piece_values=SIMPLIFIED_EVALUATION_PIECE_VALUES,\n",
    "    piece_square_values=SIMPLIFIED_EVALUATION_PIECE_SQUARE_VALUES,\n",
    "    value_checkmate=SIMPLIFIED_EVALUATION_VALUE_CHECKMATE,\n",
    "    value_draw=SIMPLIFIED_EVALUATION_VALUE_DRAW\n",
    ")"
   ]
  },
  {
   "cell_type": "markdown",
   "metadata": {
    "tags": [
     "no-python-export"
    ]
   },
   "source": [
    "Our last engine `IterativeAlphaBetaCached` can use this evaluator already, but it won't make use of the new methods, to actually do the incremental evaluation. We therefore inherit as new class `IncrementalIterativeAlphaBetaCached` that not only requires an evluator of type `Evaluator`, but more specifically of type `IncrementalEvaluator`"
   ]
  },
  {
   "cell_type": "code",
   "execution_count": null,
   "metadata": {},
   "outputs": [],
   "source": [
    "class IncrementalIterativeAlphaBetaCached(IterativeAlphaBetaCached):\n",
    "\n",
    "    def __init__(\n",
    "        self, evaluator: IncrementalEvaluator, max_look_ahead_depth: int\n",
    "    ):\n",
    "        super().__init__(evaluator, max_look_ahead_depth)"
   ]
  },
  {
   "cell_type": "markdown",
   "metadata": {
    "tags": [
     "no-python-export"
    ]
   },
   "source": [
    "The `_evaluate_move` methods needs one additional line `self.evaluator.init(board)` to initalize the base score after the move was pushed to the board."
   ]
  },
  {
   "cell_type": "code",
   "execution_count": null,
   "metadata": {},
   "outputs": [],
   "source": [
    "from converted_notebooks.s04_engine_interface import ScoredMove\n",
    "\n",
    "\n",
    "def _evaluate_move(self, board: chess.Board, move: chess.Move, depth: int):\n",
    "    board.push(move)\n",
    "    self.evaluator.init(board)\n",
    "\n",
    "    score = self._value(\n",
    "        board,\n",
    "        depth - 1,\n",
    "        -self.evaluator.value_checkmate,\n",
    "        self.evaluator.value_checkmate\n",
    "    )\n",
    "    score *= self.PLAYER_MULTIPLIER[board.turn]\n",
    "    board.pop()\n",
    "    return ScoredMove(score=score, move=move)\n",
    "\n",
    "\n",
    "IncrementalIterativeAlphaBetaCached._evaluate_move = _evaluate_move"
   ]
  },
  {
   "cell_type": "markdown",
   "metadata": {
    "tags": [
     "no-python-export"
    ]
   },
   "source": [
    "The `value` method is similary almost the same as before with small adjustments. First the score returned at a depth of zero doesn't need to be calculated anymore, but can be returned with the `get_score` method. Additionally whenever a move is pushed to the board the `push` method of the evaluator needs to be called as well and the same for the `pop` method."
   ]
  },
  {
   "cell_type": "code",
   "execution_count": null,
   "metadata": {},
   "outputs": [],
   "source": [
    "from converted_notebooks.s11_iterative_deepening import cache_alpha_beta\n",
    "\n",
    "\n",
    "@cache_alpha_beta\n",
    "def _value(self, board: chess.Board, depth: int, alpha: int, beta: int) -> int:\n",
    "    if (score := self.evaluator.evaluate(board)) is not None:\n",
    "        return score\n",
    "    if depth == 0:\n",
    "        return self.evaluator.get_score()\n",
    "\n",
    "    for move in board.legal_moves:\n",
    "        detailedMove = DetailedMove(board, move)\n",
    "\n",
    "        self.evaluator.push(detailedMove)\n",
    "        board.push(move)\n",
    "        value = -1 * self._value(board, depth - 1, -beta, -alpha)\n",
    "        self.evaluator.pop()\n",
    "        board.pop()\n",
    "\n",
    "        if value >= beta:\n",
    "            return value\n",
    "        alpha = max(alpha, value)\n",
    "\n",
    "    return alpha\n",
    "\n",
    "\n",
    "IncrementalIterativeAlphaBetaCached._value = _value"
   ]
  },
  {
   "cell_type": "markdown",
   "metadata": {
    "tags": [
     "no-python-export"
    ]
   },
   "source": [
    "We can now test the new defined engine. In this case the result can be again compared to the previous one as the incremental calculation will not change the score."
   ]
  },
  {
   "cell_type": "code",
   "execution_count": null,
   "metadata": {
    "tags": [
     "no-python-export"
    ]
   },
   "outputs": [],
   "source": [
    "import random\n",
    "from converted_notebooks.s09_minimax_engine import middlegame_board\n",
    "from converted_notebooks.s11_iterative_deepening import IterativeAlphaBetaCached\n",
    "\n",
    "random.seed(42)\n",
    "\n",
    "engine = IncrementalIterativeAlphaBetaCached(\n",
    "    evaluator=incremental_simplified_evaluator, max_look_ahead_depth=3\n",
    ")\n",
    "result_incremental_simplified_evaluation = engine.analyse(middlegame_board)\n",
    "\n",
    "assert result_incremental_simplified_evaluation == result_simplified_evaluation"
   ]
  },
  {
   "cell_type": "markdown",
   "metadata": {
    "tags": [
     "no-python-export"
    ]
   },
   "source": [
    "An analyzation of the `_value` function with the help of a line profiler, shows that the additions only need 20% of the total time. This is a huge improvement compared to the 50% of the non incremental implementation."
   ]
  },
  {
   "cell_type": "code",
   "execution_count": null,
   "metadata": {
    "tags": [
     "no-python-export"
    ]
   },
   "outputs": [],
   "source": [
    "%load_ext line_profiler\n",
    "random.seed(42)\n",
    "\n",
    "engine = IncrementalIterativeAlphaBetaCached(\n",
    "    evaluator=incremental_simplified_evaluator, max_look_ahead_depth=4\n",
    ")\n",
    "%lprun -f IncrementalIterativeAlphaBetaCached._value.__wrapped__ engine.analyse(middlegame_board)"
   ]
  }
 ],
 "metadata": {
  "language_info": {
   "codemirror_mode": {
    "name": "ipython"
   },
   "file_extension": ".py",
   "mimetype": "text/x-python",
   "name": "python",
   "nbconvert_exporter": "python"
  },
  "vscode": {
   "interpreter": {
    "hash": "b42f3920614829e661a3e80085f50421aa71f403bff6adf1f40efa6d26183877"
   }
  }
 },
 "nbformat": 4,
 "nbformat_minor": 2
}
