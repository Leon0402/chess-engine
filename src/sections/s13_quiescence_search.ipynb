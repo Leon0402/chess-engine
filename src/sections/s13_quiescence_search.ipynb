{
 "cells": [
  {
   "cell_type": "code",
   "execution_count": null,
   "metadata": {
    "tags": [
     "remove-cell",
     "no-python-export"
    ]
   },
   "outputs": [],
   "source": [
    "from IPython.core.display import HTML\n",
    "with open('style.css') as file:\n",
    "    css = file.read()\n",
    "HTML(css)"
   ]
  },
  {
   "cell_type": "code",
   "execution_count": null,
   "metadata": {
    "tags": [
     "no-python-export",
     "remove-cell"
    ]
   },
   "outputs": [],
   "source": [
    "# Autload python modules by default\n",
    "%load_ext autoreload\n",
    "%autoreload 2\n",
    "\n",
    "# Convert notebooks to python, so they can be loaded effiently\n",
    "from utils.jupyter_loader import JupyterLoader\n",
    "\n",
    "loader = JupyterLoader()\n",
    "loader.load_all()"
   ]
  },
  {
   "cell_type": "markdown",
   "metadata": {
    "tags": [
     "no-python-export"
    ]
   },
   "source": [
    "# Quiescence Search"
   ]
  },
  {
   "cell_type": "markdown",
   "metadata": {
    "tags": [
     "no-python-export"
    ]
   },
   "source": [
    "A current problem with the engine is that it always stops analyzing at a fixed depth, regardless of the position.\n",
    "This can lead, for example, to the engine terminating the search in an exchange of blows and thus interpreting the position incorrectly.\n",
    "Or the engine tries to extend a situation that is unfavorable for it, e.g. by giving check, so that this situation can no longer occur in the limited search depth.\n",
    "\n",
    "This is also referred to as the [Horizon Effect](https://www.chessprogramming.org/Horizon_Effect).\n",
    "To avoid this, the idea is to analyze only quiet positions with the heuristic. \n",
    "Quiet positions are those in which no piece can be captured and, depending on the implementation, no check can be given. \n",
    "In the other cases, a restricted search is made that analyzes precisely such moves even further. \n",
    "This is called [quiescence search](https://www.chessprogramming.org/Quiescence_Search).\n",
    "A new class `QuiescenceEngine` is now added, which extends the previous engine `SimplifiedIncrementalEvaluationEngine`."
   ]
  },
  {
   "cell_type": "code",
   "execution_count": null,
   "metadata": {},
   "outputs": [],
   "source": [
    "from converted_notebooks.s12_simplified_evaluation import IncrementalIterativeAlphaBetaCached\n",
    "\n",
    "\n",
    "class QuiescenceEngine(IncrementalIterativeAlphaBetaCached):\n",
    "    pass"
   ]
  },
  {
   "cell_type": "markdown",
   "metadata": {
    "tags": [
     "no-python-export"
    ]
   },
   "source": [
    "The `_value` function only needs a slight alteration: \n",
    "When the search depth is exhausted, the function `_quiescene` is called."
   ]
  },
  {
   "cell_type": "code",
   "execution_count": null,
   "metadata": {},
   "outputs": [],
   "source": [
    "import chess\n",
    "from chess.engine import Score\n",
    "from converted_notebooks.s11_iterative_deepening import cache_alpha_beta\n",
    "from converted_notebooks.s12_simplified_evaluation import DetailedMove\n",
    "from chess.engine import Score, PovScore\n",
    "\n",
    "\n",
    "@cache_alpha_beta\n",
    "def _value(\n",
    "    self, board: chess.Board, depth: int, alpha: Score, beta: Score\n",
    ") -> PovScore:\n",
    "    if (score := self.evaluator.evaluate(board)) is not None:\n",
    "        return score\n",
    "    if depth == 0:\n",
    "        return self._quiescence(board, alpha, beta)\n",
    "\n",
    "    for move in board.legal_moves:\n",
    "        detailedMove = DetailedMove(board, move)\n",
    "\n",
    "        self.evaluator.push(detailedMove)\n",
    "        board.push(move)\n",
    "        value = self._value(board, depth - 1, -beta, -alpha).pov(not board.turn)\n",
    "        board.pop()\n",
    "        self.evaluator.pop()\n",
    "\n",
    "        if value >= beta:\n",
    "            return PovScore(value, board.turn)\n",
    "        alpha = max(alpha, value)\n",
    "\n",
    "    return PovScore(alpha, board.turn)\n",
    "\n",
    "\n",
    "QuiescenceEngine._value = _value"
   ]
  },
  {
   "cell_type": "markdown",
   "metadata": {
    "tags": [
     "no-python-export"
    ]
   },
   "source": [
    "The `_quiescene` method takes a chess board `board`, integers `alpha` and `beta` and returns a score of the current position similiarly to the `_value` function.\n",
    "\n",
    "Initially a static evaluation `stand_pat` of the current position, called a Standing Pat, is calculated.\n",
    "If it is bigger than the upper limit `beta`, `beta` can be returned,\n",
    "if it is bigger than the lower limit `alpha`, `alpha` needs to be raised,\n",
    "as `alpha` has already been realized.\n",
    "This results in the following equation\n",
    "`stand_path <= alpha <= _quiescene(board, alpha, beta) <= beta`\n",
    "holding.\n",
    "The reasoning is the same as described for the `AlphaBeta Pruning Algorithm`.\n",
    "\n",
    "The logic itself is also similiar to the logic of the `_value` function.\n",
    "The first deviaton is the restriction on capturing moves.\n",
    "The second deviation is the use of optimization checks.\n",
    "They are needed, as trading blows is possible in almost any position, leading to a massive increase of game tree.\n",
    "\n",
    "Moves will be analysed, if they are promoting a piece.\n",
    "If they are not promoting a piece,\n",
    "they may be pruned by DeltaPruning or a negative Static Exchange Evaluation.\n",
    "These optimizations will be explained afterwards.\n",
    "After those checks the usual implementation of NegaMax follows."
   ]
  },
  {
   "cell_type": "code",
   "execution_count": null,
   "metadata": {},
   "outputs": [],
   "source": [
    "from chess.engine import Score\n",
    "\n",
    "\n",
    "def _quiescence(\n",
    "    self, board: chess.Board, alpha: Score, beta: Score\n",
    ") -> PovScore:\n",
    "    stand_pat = self.evaluator.get_score().relative\n",
    "\n",
    "    if stand_pat >= beta:\n",
    "        return PovScore(beta, board.turn)\n",
    "    alpha = max(alpha, stand_pat)\n",
    "\n",
    "    for move in board.generate_legal_captures():\n",
    "        detailedMove = DetailedMove(board, move)\n",
    "\n",
    "        if move.promotion is None:\n",
    "            if self._canDeltaPrune(stand_pat, alpha, detailedMove):\n",
    "                continue\n",
    "            if self._seeCapture(board, detailedMove) < 0:\n",
    "                continue\n",
    "\n",
    "        board.push(move)\n",
    "        self.evaluator.push(detailedMove)\n",
    "\n",
    "        value = self._quiescence(board, -beta, -alpha).pov(not board.turn)\n",
    "\n",
    "        self.evaluator.pop()\n",
    "        board.pop()\n",
    "\n",
    "        if value >= beta:\n",
    "            return PovScore(value, board.turn)\n",
    "        alpha = max(alpha, value)\n",
    "    return PovScore(alpha, board.turn)\n",
    "\n",
    "\n",
    "QuiescenceEngine._quiescence = _quiescence"
   ]
  },
  {
   "cell_type": "markdown",
   "metadata": {
    "tags": [
     "no-python-export"
    ]
   },
   "source": [
    "There are positions in which the player is so far behind, not even the best move can save them.\n",
    "For example with one Queen behind, capturing a minor piece will not tip the scales.\n",
    "Removing those moves is the idea of Delta Pruning. \n",
    "\n",
    "The method `_canDeltaPrune` takes the Standing Pat `stand_pat`, the lower limit `alpha` and the move as parameters and returns a boolean indicating wheter the move can be pruned.\n",
    "\n",
    "Using the Standing Pat and the value of the potentially captured piece \n",
    "and a potential advantage of position of 2 Pawns = 200 Centipawns\n",
    "the best case estimate is done for the reached position.\n",
    "The advantage of position is very optimistic\n",
    "as is the calculation of the opponent not capturing in return.\n",
    "\n",
    "Is this best case estimate still smaller than `alpha`\n",
    "it can be pruned,\n",
    "so the method will return `True`.\n",
    "The return value will be `False` otherwise."
   ]
  },
  {
   "cell_type": "code",
   "execution_count": null,
   "metadata": {},
   "outputs": [],
   "source": [
    "from chess.engine import Score, Cp\n",
    "\n",
    "\n",
    "def _canDeltaPrune(\n",
    "    self, stand_pat: Score, alpha: Score, detailedMove: DetailedMove\n",
    "):\n",
    "    POTENTIAL_POSITION_ADVANTAGE = 200\n",
    "    pieceValue = self.evaluator.piece_values[\n",
    "        detailedMove.capturedPiece.piece.piece_type]\n",
    "    bestAlpha = Cp(\n",
    "        stand_pat.score() + pieceValue + POTENTIAL_POSITION_ADVANTAGE\n",
    "    )\n",
    "    return bestAlpha < alpha\n",
    "\n",
    "\n",
    "QuiescenceEngine._canDeltaPrune = _canDeltaPrune"
   ]
  },
  {
   "cell_type": "markdown",
   "metadata": {
    "tags": [
     "no-python-export"
    ]
   },
   "source": [
    "The second optimization `Static Exchange Evaluation`\n",
    "analyzes the potential slugfest.\n",
    "It is expected for each player to capture using the lowest valued piece.\n",
    "The exchange is only realized if the player has no loss from it.\n",
    "\n",
    "The method `_seeCapture` takes a chess board  `board` and a detailed move `detailedMove` \n",
    "to return a score for the move.\n",
    "If the score is positive, a gain is expected.\n",
    "If it is negative, a loss is expected and the move therefore pruned in the `_quiescene` method.\n",
    "\n",
    "The method tries the move, calculates the score using Static Exchange Evaluation, undoes the move and returns the score.\n",
    "The calculation of the score is done by substracting the value returned by the recursive `_see` method from the value of the captured piece."
   ]
  },
  {
   "cell_type": "code",
   "execution_count": null,
   "metadata": {},
   "outputs": [],
   "source": [
    "def _seeCapture(self, board: chess.Board, detailedMove: DetailedMove):\n",
    "    board.push(detailedMove.move)\n",
    "    capturedPiece = detailedMove.capturedPiece\n",
    "    value = self.evaluator.piece_values[\n",
    "        capturedPiece.piece.piece_type\n",
    "    ] - self._see(board, detailedMove.placedPiece.square)\n",
    "    board.pop()\n",
    "    return value\n",
    "\n",
    "\n",
    "QuiescenceEngine._seeCapture = _seeCapture"
   ]
  },
  {
   "cell_type": "markdown",
   "metadata": {
    "tags": [
     "no-python-export"
    ]
   },
   "source": [
    "The `_see` method uses the chess board `board` and the square `square` of the current exchange as parameters and returns the Static Exchange Evaluation score. \n",
    "Note that the square is taken from `detailedMove.placedPiece`, which handles edge cases such as en passant.\n",
    "As the piece was already remove, its value is used in the calling `_seeCapture` method.\n",
    "The squares of all possible attackers of the exchange square \n",
    "are returned by the `attackers` function.\n",
    "As pinned pieces can not participate in the exchange, \n",
    "they are identified using the `is_pinned` method and ignored.\n",
    "The squares of the remaining attackers are stored in `attackers_squares`.\n",
    "If there are no attackers left, the exchange is finished and 0 is returned.\n",
    "Otherwise the lowest valued piece is designated to be the new attacker \n",
    "and the move is evaluated\n",
    "by subtracting the value of a recursive call to `_see` from the value of the captured piece.\n",
    "As each player will only execute a capture, \n",
    "if there is no loss, \n",
    "the maximum of exchange value and 0 is returned,\n",
    "after undoing the move."
   ]
  },
  {
   "cell_type": "code",
   "execution_count": null,
   "metadata": {},
   "outputs": [],
   "source": [
    "def _see(self, board: chess.Board, square: chess.Square):\n",
    "    attackers_squares = [\n",
    "        square for square in board.attackers(board.turn, square)\n",
    "        if not board.is_pinned(board.turn, square)\n",
    "    ]\n",
    "    if not attackers_squares:\n",
    "        return 0\n",
    "\n",
    "    attacker_square = min(\n",
    "        attackers_squares,\n",
    "        key=lambda attackers_square: self.evaluator.piece_values[\n",
    "            board.piece_type_at(attackers_square)]\n",
    "    )\n",
    "    capturedPiece = board.piece_type_at(square)\n",
    "\n",
    "    detailedMove = DetailedMove(\n",
    "        board, chess.Move(from_square=attacker_square, to_square=square)\n",
    "    )\n",
    "    board.push(detailedMove.move)\n",
    "    value = max(\n",
    "        0,\n",
    "        self.evaluator.piece_values[capturedPiece] -\n",
    "        self._see(board, detailedMove.placedPiece.square)\n",
    "    )\n",
    "    board.pop()\n",
    "    return value\n",
    "\n",
    "\n",
    "QuiescenceEngine._see = _see"
   ]
  },
  {
   "cell_type": "markdown",
   "metadata": {
    "tags": [
     "no-python-export"
    ]
   },
   "source": [
    "To test the function a scenario with one pinned attacker is created and evaluated."
   ]
  },
  {
   "cell_type": "code",
   "execution_count": null,
   "metadata": {
    "tags": [
     "no-python-export"
    ]
   },
   "outputs": [],
   "source": [
    "import IPython.display\n",
    "from converted_notebooks.s12_simplified_evaluation import incremental_simplified_evaluator\n",
    "\n",
    "board = chess.Board(\"6k1/6b1/8/4p3/3P4/8/8/1K4R1 w - - 0 1\")\n",
    "IPython.display.display(board)\n",
    "engine = QuiescenceEngine(\n",
    "    evaluator=incremental_simplified_evaluator, max_look_ahead_depth=4\n",
    ")\n",
    "result = engine._see(board, chess.E5)\n",
    "assert result == 100"
   ]
  },
  {
   "cell_type": "markdown",
   "metadata": {
    "tags": [
     "no-python-export"
    ]
   },
   "source": [
    "As not all exchanges result in a net win, they should not be taken into consideration in the second test case."
   ]
  },
  {
   "cell_type": "code",
   "execution_count": null,
   "metadata": {
    "tags": [
     "no-python-export"
    ]
   },
   "outputs": [],
   "source": [
    "board = chess.Board(\"6k1/6b1/5p2/4q3/3P4/8/8/1K2Q3 w - - 0 1\")\n",
    "IPython.display.display(board)\n",
    "engine = QuiescenceEngine(\n",
    "    evaluator=incremental_simplified_evaluator, max_look_ahead_depth=4\n",
    ")\n",
    "result = engine._see(board, chess.E5)\n",
    "assert result == 800"
   ]
  },
  {
   "cell_type": "markdown",
   "metadata": {
    "tags": [
     "no-python-export"
    ]
   },
   "source": [
    "This newly defined engine can now by tested on the default `middlegame_board`."
   ]
  },
  {
   "cell_type": "code",
   "execution_count": null,
   "metadata": {
    "tags": [
     "no-python-export"
    ]
   },
   "outputs": [],
   "source": [
    "import random\n",
    "from converted_notebooks.s09_minimax_engine import middlegame_board\n",
    "\n",
    "random.seed(42)\n",
    "\n",
    "engine = QuiescenceEngine(\n",
    "    evaluator=incremental_simplified_evaluator, max_look_ahead_depth=4\n",
    ")\n",
    "engine.analyse(middlegame_board)"
   ]
  },
  {
   "cell_type": "markdown",
   "metadata": {},
   "source": [
    "TODO: Illustrate the performance overhead by using quiescene search"
   ]
  },
  {
   "cell_type": "code",
   "execution_count": null,
   "metadata": {
    "tags": [
     "no-python-export"
    ]
   },
   "outputs": [],
   "source": [
    "import utils.min_max_tree\n",
    "\n",
    "random.seed(42)\n",
    "\n",
    "engine = QuiescenceEngine(\n",
    "    evaluator=incremental_simplified_evaluator, max_look_ahead_depth=4\n",
    ")\n",
    "tree = utils.min_max_tree.add_tree_to_engine(engine)\n",
    "engine.analyse(middlegame_board)\n",
    "\n",
    "tree.count(quiesce=True)"
   ]
  },
  {
   "cell_type": "code",
   "execution_count": null,
   "metadata": {
    "tags": [
     "no-python-export"
    ]
   },
   "outputs": [],
   "source": [
    "%load_ext line_profiler"
   ]
  },
  {
   "cell_type": "code",
   "execution_count": null,
   "metadata": {
    "tags": [
     "no-python-export"
    ]
   },
   "outputs": [],
   "source": [
    "%lprun -f QuiescenceEngine._quiescence engine.analyse(middlegame_board)"
   ]
  },
  {
   "cell_type": "code",
   "execution_count": null,
   "metadata": {
    "tags": [
     "no-python-export"
    ]
   },
   "outputs": [],
   "source": [
    "%lprun -f QuiescenceEngine._see engine.analyse(middlegame_board)"
   ]
  }
 ],
 "metadata": {
  "language_info": {
   "codemirror_mode": {
    "name": "ipython"
   },
   "file_extension": ".py",
   "mimetype": "text/x-python",
   "name": "python",
   "nbconvert_exporter": "python"
  },
  "vscode": {
   "interpreter": {
    "hash": "b42f3920614829e661a3e80085f50421aa71f403bff6adf1f40efa6d26183877"
   }
  }
 },
 "nbformat": 4,
 "nbformat_minor": 2
}
