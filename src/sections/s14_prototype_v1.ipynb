{
 "cells": [
  {
   "cell_type": "code",
   "execution_count": null,
   "metadata": {
    "tags": [
     "no-python-export",
     "remove-cell"
    ]
   },
   "outputs": [],
   "source": [
    "from IPython.core.display import HTML\n",
    "with open('style.css') as file:\n",
    "    css = file.read()\n",
    "HTML(css)"
   ]
  },
  {
   "cell_type": "code",
   "execution_count": null,
   "metadata": {
    "tags": [
     "no-python-export",
     "remove-cell"
    ]
   },
   "outputs": [],
   "source": [
    "# Autload python modules by default\n",
    "%load_ext autoreload\n",
    "%autoreload 2\n",
    "\n",
    "# Convert notebooks to python, so they can be loaded effiently\n",
    "from utils.jupyter_loader import JupyterLoader\n",
    "\n",
    "loader = JupyterLoader()\n",
    "loader.load_all()"
   ]
  },
  {
   "cell_type": "markdown",
   "metadata": {
    "tags": [
     "no-python-export"
    ]
   },
   "source": [
    "# Prototype 1 \n",
    "\n",
    "In the last chapters many ideas have been introduced and the engine was successively improved. One consequence though is that the necessary code is split across multiple files. The goal of this chapter is to show one complete implementation of the current engine. Additionally, some improvement is done to the `play` function. Up to now it was just using `analyse` internally and would calculate an exact score for every possible move. But as we are only interested in the best move, there is some room for improvement here. Furthermore, we will also add functionality to correctly determine the number of moves for a mate\n",
    "\n",
    "We define a new engine `PrototypeV1Engine` that inherits the base interface `Engine`. The constructor takes an evaluator `evaluator` as parameter and the maximal look ahead depth `max_look_ahead_depth`. The member `current_depth` will keep track of the current depth we are in the search tree and is used to implement the mate functionality."
   ]
  },
  {
   "cell_type": "code",
   "execution_count": null,
   "metadata": {},
   "outputs": [],
   "source": [
    "from converted_notebooks.s04_engine_interface import Engine\n",
    "from converted_notebooks.s11_iterative_deepening import AlphaBetaCache\n",
    "from converted_notebooks.s12_simplified_evaluation import IncrementalEvaluator\n",
    "\n",
    "\n",
    "class PrototypeV1Engine(Engine):\n",
    "\n",
    "    def __init__(\n",
    "        self, evaluator: IncrementalEvaluator, max_look_ahead_depth: int\n",
    "    ):\n",
    "        self.evaluator = evaluator\n",
    "        self.max_look_ahead_depth = max_look_ahead_depth\n",
    "        self.current_depth = -1\n",
    "        self.cache = AlphaBetaCache()"
   ]
  },
  {
   "cell_type": "markdown",
   "metadata": {},
   "source": [
    "A small auxiliary function `_adjust_mate` is defined, which takes a score `score` as parameter and returns it with the correct number of moves for a mate."
   ]
  },
  {
   "cell_type": "code",
   "execution_count": null,
   "metadata": {},
   "outputs": [],
   "source": [
    "from chess.engine import PovScore\n",
    "\n",
    "\n",
    "def _adjust_mate(self, score: PovScore) -> PovScore:\n",
    "    if score.is_mate():\n",
    "        score.relative = score.relative.increased_mate(self.current_depth)\n",
    "    return score\n",
    "\n",
    "\n",
    "PrototypeV1Engine._adjust_mate = _adjust_mate"
   ]
  },
  {
   "cell_type": "markdown",
   "metadata": {},
   "source": [
    "Then a decorator `depth_tracker` is defined, which increases `current_depth` by one before entering the function and decreases it again after the function call. This way `current_depth` will always contain the correct depth."
   ]
  },
  {
   "cell_type": "code",
   "execution_count": null,
   "metadata": {},
   "outputs": [],
   "source": [
    "def depth_tracker(func):\n",
    "\n",
    "    def inner(self, *args, **kwargs):\n",
    "        self.current_depth += 1\n",
    "        result = func(self, *args, **kwargs)\n",
    "        self.current_depth -= 1\n",
    "        return result\n",
    "\n",
    "    return inner\n",
    "\n",
    "\n",
    "PrototypeV1Engine.depth_tracker = depth_tracker"
   ]
  },
  {
   "cell_type": "markdown",
   "metadata": {},
   "source": [
    "The `_value` function is the same as before except that is decorated with the `depth_tracker` decorator and correctly calculates mates returned by the evaluator with the `_adjust_mate` function."
   ]
  },
  {
   "cell_type": "code",
   "execution_count": null,
   "metadata": {},
   "outputs": [],
   "source": [
    "import chess\n",
    "from chess.engine import Score\n",
    "from converted_notebooks.s11_iterative_deepening import cache_alpha_beta\n",
    "from converted_notebooks.s12_simplified_evaluation import DetailedMove\n",
    "\n",
    "\n",
    "@PrototypeV1Engine.depth_tracker\n",
    "@cache_alpha_beta\n",
    "def _value(\n",
    "    self, board: chess.Board, depth: int, alpha: Score, beta: Score\n",
    ") -> PovScore:\n",
    "    if (score := self.evaluator.evaluate(board)) is not None:\n",
    "        return self._adjust_mate(score)\n",
    "    if depth == 0:\n",
    "        return self._quiescence(board, alpha, beta)\n",
    "\n",
    "    for move in board.legal_moves:\n",
    "        detailed_move = DetailedMove(board, move)\n",
    "\n",
    "        self.evaluator.push(detailed_move)\n",
    "        board.push(move)\n",
    "        value = self._value(board, depth - 1, -beta, -alpha).pov(not board.turn)\n",
    "        board.pop()\n",
    "        self.evaluator.pop()\n",
    "\n",
    "        if value >= beta:\n",
    "            return PovScore(value, board.turn)\n",
    "        alpha = max(alpha, value)\n",
    "\n",
    "    return PovScore(alpha, board.turn)\n",
    "\n",
    "\n",
    "PrototypeV1Engine._value = _value"
   ]
  },
  {
   "cell_type": "markdown",
   "metadata": {},
   "source": [
    "Similarly, the `_quiescence` method is the same as before, but decorated with `depth_tracker`. The optimization functions for the `_quiescence` search have not changed either."
   ]
  },
  {
   "cell_type": "code",
   "execution_count": null,
   "metadata": {},
   "outputs": [],
   "source": [
    "@PrototypeV1Engine.depth_tracker\n",
    "def _quiescence(\n",
    "    self, board: chess.Board, alpha: Score, beta: Score\n",
    ") -> PovScore:\n",
    "    stand_pat = self.evaluator.get_score().relative\n",
    "\n",
    "    if stand_pat >= beta:\n",
    "        return PovScore(beta, board.turn)\n",
    "    alpha = max(alpha, stand_pat)\n",
    "\n",
    "    for move in board.generate_legal_captures():\n",
    "        detailed_move = DetailedMove(board, move)\n",
    "\n",
    "        if move.promotion is None:\n",
    "            if self._can_delta_prune(stand_pat, alpha, detailed_move):\n",
    "                continue\n",
    "            if self._see_capture(board, detailed_move) < 0:\n",
    "                continue\n",
    "\n",
    "        board.push(move)\n",
    "        self.evaluator.push(detailed_move)\n",
    "\n",
    "        value = self._quiescence(board, -beta, -alpha).pov(not board.turn)\n",
    "\n",
    "        self.evaluator.pop()\n",
    "        board.pop()\n",
    "\n",
    "        if value >= beta:\n",
    "            return PovScore(value, board.turn)\n",
    "        alpha = max(alpha, value)\n",
    "    return PovScore(alpha, board.turn)\n",
    "\n",
    "\n",
    "PrototypeV1Engine._quiescence = _quiescence\n",
    "\n",
    "\n",
    "def _can_delta_prune(\n",
    "    self, stand_pat: Score, alpha: Score, detailed_move: DetailedMove\n",
    ") -> bool:\n",
    "    POTENTIAL_POSITION_ADVANTAGE = 200\n",
    "    piece_value = self.evaluator.piece_values[\n",
    "        detailed_move.capturedPiece.piece.piece_type]\n",
    "    best_alpha = Cp(\n",
    "        stand_pat.score() + piece_value + POTENTIAL_POSITION_ADVANTAGE\n",
    "    )\n",
    "    return best_alpha < alpha\n",
    "\n",
    "\n",
    "PrototypeV1Engine._can_delta_prune = _can_delta_prune\n",
    "\n",
    "\n",
    "def _see_capture(self, board: chess.Board, detailed_move: DetailedMove) -> int:\n",
    "    board.push(detailed_move.move)\n",
    "    captured_piece = detailed_move.capturedPiece\n",
    "    value = self.evaluator.piece_values[\n",
    "        captured_piece.piece.piece_type\n",
    "    ] - self._see(board, detailed_move.placedPiece.square)\n",
    "    board.pop()\n",
    "    return value\n",
    "\n",
    "\n",
    "PrototypeV1Engine._see_capture = _see_capture\n",
    "\n",
    "\n",
    "def _see(self, board: chess.Board, square: chess.Square) -> int:\n",
    "    attackers_squares = [\n",
    "        square for square in board.attackers(board.turn, square)\n",
    "        if not board.is_pinned(board.turn, square)\n",
    "    ]\n",
    "    if not attackers_squares:\n",
    "        return 0\n",
    "\n",
    "    attacker_square = min(\n",
    "        attackers_squares,\n",
    "        key=lambda attackers_square: self.evaluator.piece_values[\n",
    "            board.piece_type_at(attackers_square)]\n",
    "    )\n",
    "    captured_piece = board.piece_type_at(square)\n",
    "\n",
    "    detailed_move = DetailedMove(\n",
    "        board, chess.Move(from_square=attacker_square, to_square=square)\n",
    "    )\n",
    "    board.push(detailed_move.move)\n",
    "    value = max(\n",
    "        0,\n",
    "        self.evaluator.piece_values[captured_piece] -\n",
    "        self._see(board, detailed_move.placedPiece.square)\n",
    "    )\n",
    "    board.pop()\n",
    "    return value\n",
    "\n",
    "\n",
    "PrototypeV1Engine._see = _see"
   ]
  },
  {
   "cell_type": "markdown",
   "metadata": {
    "tags": [
     "no-python-export"
    ]
   },
   "source": [
    "Next, the `analyse` method is implemented. The goal of this method is to evaluate all next moves and return them as a sorted list. To implement this two functions `_evaluate_nove` and `_evaluate_moves` are needed. All of these have been shown already in previous chapters, so there will be just short descriptions for a reminder.\n",
    "\n",
    "The `_evaluate_move` function will score the given move by using the `_value` function. It will need the `depth_tracker` decorator as well."
   ]
  },
  {
   "cell_type": "code",
   "execution_count": null,
   "metadata": {},
   "outputs": [],
   "source": [
    "from chess.engine import Score, Cp, MateGiven\n",
    "from converted_notebooks.s04_engine_interface import ScoredMove, LowestScore, HighestScore\n",
    "\n",
    "\n",
    "@PrototypeV1Engine.depth_tracker\n",
    "def _evaluate_move(\n",
    "    self, board: chess.Board, move: chess.Move, depth: int\n",
    ") -> ScoredMove:\n",
    "    self.evaluator.push(DetailedMove(board, move))\n",
    "    board.push(move)\n",
    "    score = self._value(board, depth - 1, LowestScore, HighestScore).white()\n",
    "    board.pop()\n",
    "    self.evaluator.pop()\n",
    "\n",
    "    return ScoredMove(score=score, move=move)\n",
    "\n",
    "\n",
    "PrototypeV1Engine._evaluate_move = _evaluate_move"
   ]
  },
  {
   "cell_type": "markdown",
   "metadata": {
    "tags": [
     "no-python-export"
    ]
   },
   "source": [
    "The `_evaluate_moves` implements the iterative deepening algorithm and thus will score all moves with the `_evaluate_move` method starting at a depth of 0. It will then successively increase the depth until the max look ahead depth is reached. "
   ]
  },
  {
   "cell_type": "code",
   "execution_count": null,
   "metadata": {},
   "outputs": [],
   "source": [
    "import logging\n",
    "\n",
    "\n",
    "def _evaluate_moves(self, board: chess.Board) -> list[ScoredMove]:\n",
    "    logging.info(f\"Max depth: {self.max_look_ahead_depth}\")\n",
    "    self.cache.clear()\n",
    "    self.evaluator.init(board)\n",
    "\n",
    "    for depth in range(1, self.max_look_ahead_depth + 1):\n",
    "        scored_moves = [\n",
    "            self._evaluate_move(board, move, depth)\n",
    "            for move in board.legal_moves\n",
    "        ]\n",
    "\n",
    "        logging.info(f\"Depth {depth}\")\n",
    "\n",
    "    return scored_moves\n",
    "\n",
    "\n",
    "PrototypeV1Engine._evaluate_moves = _evaluate_moves"
   ]
  },
  {
   "cell_type": "markdown",
   "metadata": {
    "tags": [
     "no-python-export"
    ]
   },
   "source": [
    "Then `analyse` uses this method to get a list of scored moves and will return this sorted to the caller."
   ]
  },
  {
   "cell_type": "code",
   "execution_count": null,
   "metadata": {},
   "outputs": [],
   "source": [
    "def analyse(self, board: chess.Board) -> list[ScoredMove]:\n",
    "    next_moves = self._evaluate_moves(board.copy())\n",
    "\n",
    "    whites_turn = board.turn is chess.WHITE\n",
    "    next_moves.sort(reverse=whites_turn)\n",
    "\n",
    "    return next_moves\n",
    "\n",
    "\n",
    "PrototypeV1Engine.analyse = analyse"
   ]
  },
  {
   "cell_type": "markdown",
   "metadata": {
    "tags": [
     "no-python-export"
    ]
   },
   "source": [
    "Besides `analyse` the interface also requires us to implement the `play` function. In contrast to `analyse`, `play` should only return the best move. Therefore, the iterative deepening algorithm could call directly the `_value` function. The problem though is that `_value` gives us only the best score, but not the corresponding move. There are many possible solutions to this problem. One of them is to rewrite `_value` so it actually returns the move. This implementation instead makes use of the cache to find the best move afterwards. \n",
    "\n",
    "The `_find_move` method takes a chess board `board` and the score `score` of the best move as parameters. Its goal is to find a corresponding move by querying the cache and return it. It will therefore iterate over all moves and get the cache entries for these, if existent. Because the handling of Mate values is done *after* resetting the board, this handling needs to be done here too. To be the best move the cache entry type needs to be exact and the stored value must be the same as score negated. The negation is needed because the cache entry is for a position one move further than the passed board and therefore the perspective changed. There can be multiple best moves, therefore they are saved in a list and a random element is returned from it in the end."
   ]
  },
  {
   "cell_type": "code",
   "execution_count": null,
   "metadata": {},
   "outputs": [],
   "source": [
    "from converted_notebooks.s11_iterative_deepening import NodeType\n",
    "\n",
    "\n",
    "def _find_move(self, board: chess.Board, score: PovScore) -> chess.Move:\n",
    "    best_moves = []\n",
    "    for move in board.legal_moves:\n",
    "        board.push(move)\n",
    "        cache_key = self.cache.get_key(board)\n",
    "        board.pop()\n",
    "\n",
    "        try:\n",
    "            type, value = self.cache.load_cache(cache_key, self.max_look_ahead_depth - 1)\n",
    "\n",
    "            if type == NodeType.EXACT and value.white() == score.white():\n",
    "                best_moves.append(move)\n",
    "        except KeyError:\n",
    "            pass\n",
    "\n",
    "    assert best_moves, f\"No best move found with the given score {score.white()}\"\n",
    "    return random.choice(best_moves)\n",
    "\n",
    "\n",
    "PrototypeV1Engine._find_move = _find_move"
   ]
  },
  {
   "cell_type": "markdown",
   "metadata": {
    "tags": [
     "no-python-export"
    ]
   },
   "source": [
    "Now we can implement the iterative deepening algorithm for `play`. The method `_find_best_move` works similarly to `_evaluate_moves`. It will also take the chess board `board` as a parameter. But instead of returning a list of all scored moves, it will just return the best move. To do this it calls directly `_value` in its loop. At the end it uses the previously defined `_find_move` method to get the best move from the cache."
   ]
  },
  {
   "cell_type": "code",
   "execution_count": null,
   "metadata": {},
   "outputs": [],
   "source": [
    "from chess.engine import MateGiven\n",
    "\n",
    "import logging\n",
    "\n",
    "\n",
    "def _find_best_move(self, board: chess.Board) -> chess.Move:\n",
    "    logging.info(f\"Max depth: {self.max_look_ahead_depth}\")\n",
    "    self.cache.clear()\n",
    "    self.evaluator.init(board)\n",
    "\n",
    "    for depth in range(self.max_look_ahead_depth + 1):\n",
    "        score = self._value(board, depth, LowestScore, HighestScore)\n",
    "        logging.info(f\"Depth {depth}\")\n",
    "\n",
    "    return self._find_move(board, score)\n",
    "\n",
    "\n",
    "PrototypeV1Engine._find_best_move = _find_best_move"
   ]
  },
  {
   "cell_type": "markdown",
   "metadata": {
    "tags": [
     "no-python-export"
    ]
   },
   "source": [
    "Lastly, the `play` method needs to be implemented. It will simply return a `chess.engine.PlayResult` with the best move found by the `_find_best_move` method."
   ]
  },
  {
   "cell_type": "code",
   "execution_count": null,
   "metadata": {},
   "outputs": [],
   "source": [
    "def play(self, board: chess.Board) -> chess.engine.PlayResult:\n",
    "    return chess.engine.PlayResult(\n",
    "        move=self._find_best_move(board.copy()), ponder=None\n",
    "    )\n",
    "\n",
    "\n",
    "PrototypeV1Engine.play = play"
   ]
  },
  {
   "cell_type": "markdown",
   "metadata": {
    "tags": [
     "no-python-export"
    ]
   },
   "source": [
    "As usual, the engine is tested against the `middlegame_board`."
   ]
  },
  {
   "cell_type": "code",
   "execution_count": null,
   "metadata": {
    "tags": [
     "no-python-export"
    ]
   },
   "outputs": [],
   "source": [
    "import random\n",
    "\n",
    "from converted_notebooks.s09_minimax_engine import middlegame_board\n",
    "from converted_notebooks.s12_simplified_evaluation import incremental_simplified_evaluator\n",
    "\n",
    "random.seed(42)\n",
    "\n",
    "engine = PrototypeV1Engine(\n",
    "    evaluator=incremental_simplified_evaluator, max_look_ahead_depth=4\n",
    ")\n",
    "engine.analyse(middlegame_board)"
   ]
  },
  {
   "cell_type": "markdown",
   "metadata": {},
   "source": [
    "We test the added mate functionality by defining a method `run_mate_tests` that takes an engine `engine` as a parameter and asks it to solve a set of positions."
   ]
  },
  {
   "cell_type": "code",
   "execution_count": null,
   "metadata": {},
   "outputs": [],
   "source": [
    "import random\n",
    "from chess import Move, Board\n",
    "from chess.engine import Mate\n",
    "\n",
    "from converted_notebooks.s04_engine_interface import ScoredMove\n",
    "\n",
    "random.seed(42)\n",
    "\n",
    "mate_tests = [(\n",
    "    \"3k4/6R1/8/4R3/8/8/8/7K w - - 0 1\",\n",
    "    [\n",
    "        ScoredMove(score=Mate(+3), move=Move.from_uci('g7h7')),\n",
    "        ScoredMove(score=Mate(+3), move=Move.from_uci('g7f7')),\n",
    "        ScoredMove(score=Mate(+3), move=Move.from_uci('g7b7')),\n",
    "        ScoredMove(score=Mate(+3), move=Move.from_uci('g7a7')),\n",
    "        ScoredMove(score=Mate(+3), move=Move.from_uci('e5e7')),\n",
    "        ScoredMove(score=Mate(+3), move=Move.from_uci('e5e6')),\n",
    "        ScoredMove(score=Mate(+3), move=Move.from_uci('e5c5')),\n",
    "        ScoredMove(score=Mate(+3), move=Move.from_uci('e5e4')),\n",
    "        ScoredMove(score=Mate(+3), move=Move.from_uci('e5e3')),\n",
    "        ScoredMove(score=Mate(+3), move=Move.from_uci('e5e2')),\n",
    "        ScoredMove(score=Mate(+3), move=Move.from_uci('e5e1')),\n",
    "        ScoredMove(score=Mate(+3), move=Move.from_uci('h1h2')),\n",
    "        ScoredMove(score=Mate(+3), move=Move.from_uci('h1g2')),\n",
    "        ScoredMove(score=Mate(+3), move=Move.from_uci('h1g1'))\n",
    "    ]\n",
    "),\n",
    "              (\n",
    "                  \"2q3k1/2p1npp1/8/3N4/8/8/2Q4R/1B4K1 w - - 0 1\",\n",
    "                  [ScoredMove(score=Mate(+3), move=Move.from_uci('h2h8'))]\n",
    "              ),\n",
    "              (\n",
    "                  \"R1q3k1/2p1npp1/4P3/3N4/8/8/2Q5/1B4K1 w - - 0 1\",\n",
    "                  [\n",
    "                      ScoredMove(score=Mate(+5), move=Move.from_uci('a8c8')),\n",
    "                      ScoredMove(score=Mate(+5), move=Move.from_uci('c2h7'))\n",
    "                  ]\n",
    "              ),\n",
    "              (\n",
    "                  \"2k5/8/2K2R2/8/8/8/8/8 b - - 0 1\",\n",
    "                  [ScoredMove(score=Mate(+6), move=Move.from_uci('c8b8'))]\n",
    "              )]\n",
    "\n",
    "\n",
    "def run_mate_tests(engine):\n",
    "    for fen, best_moves in mate_tests:\n",
    "        board = Board(fen)\n",
    "        best_move = engine.analyse(board)[0]\n",
    "        assert best_move in best_moves, f\"{best_move} is not in {best_moves}\""
   ]
  },
  {
   "cell_type": "code",
   "execution_count": null,
   "metadata": {
    "tags": [
     "no-python-export"
    ]
   },
   "outputs": [],
   "source": [
    "from converted_notebooks.s12_simplified_evaluation import incremental_simplified_evaluator\n",
    "\n",
    "random.seed(42)\n",
    "\n",
    "engine = PrototypeV1Engine(\n",
    "    evaluator=incremental_simplified_evaluator, max_look_ahead_depth=6\n",
    ")\n",
    "\n",
    "run_mate_tests(engine)"
   ]
  },
  {
   "cell_type": "markdown",
   "metadata": {
    "tags": [
     "no-python-export"
    ]
   },
   "source": [
    "It is also possible to play against the prototype engine with the human engine."
   ]
  },
  {
   "cell_type": "code",
   "execution_count": null,
   "metadata": {
    "tags": [
     "no-python-export"
    ]
   },
   "outputs": [],
   "source": [
    "import random\n",
    "from converted_notebooks.s06_play import play_game\n",
    "from converted_notebooks.s07_human_engine import HumanEngine\n",
    "from converted_notebooks.s12_simplified_evaluation import incremental_simplified_evaluator\n",
    "\n",
    "random.seed(42)\n",
    "\n",
    "board = chess.Board()\n",
    "play_game(\n",
    "    board,\n",
    "    HumanEngine(),\n",
    "    PrototypeV1Engine(\n",
    "        evaluator=incremental_simplified_evaluator, max_look_ahead_depth=3\n",
    "    ),\n",
    "    display_board=True,\n",
    "    log_moves=True\n",
    ")\n",
    "print(board.outcome())"
   ]
  }
 ],
 "metadata": {
  "language_info": {
   "codemirror_mode": {
    "name": "ipython"
   },
   "file_extension": ".py",
   "mimetype": "text/x-python",
   "name": "python",
   "nbconvert_exporter": "python"
  },
  "vscode": {
   "interpreter": {
    "hash": "c356581f63fdb862d21b8530e2fecebf3d406a06e3d3208273931edc8a0b30c1"
   }
  }
 },
 "nbformat": 4,
 "nbformat_minor": 2
}
