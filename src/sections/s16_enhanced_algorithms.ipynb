{
 "cells": [
  {
   "cell_type": "code",
   "execution_count": null,
   "metadata": {
    "tags": [
     "remove-cell",
     "no-python-export"
    ]
   },
   "outputs": [],
   "source": [
    "from IPython.core.display import HTML\n",
    "with open('style.css') as file:\n",
    "    css = file.read()\n",
    "HTML(css)"
   ]
  },
  {
   "cell_type": "code",
   "execution_count": null,
   "metadata": {
    "tags": [
     "remove-cell",
     "no-python-export"
    ]
   },
   "outputs": [],
   "source": [
    "# Autload python modules by default\n",
    "%load_ext autoreload\n",
    "%autoreload 2\n",
    "\n",
    "# Convert notebooks to python, so they can be loaded effiently\n",
    "from utils.jupyter_loader import JupyterLoader\n",
    "\n",
    "loader = JupyterLoader()\n",
    "loader.load_all()"
   ]
  },
  {
   "cell_type": "markdown",
   "metadata": {},
   "source": [
    "# Move Ordering"
   ]
  },
  {
   "cell_type": "markdown",
   "metadata": {},
   "source": [
    "Before doing any further optimization, let's first check the current performance of the latest engine. For the middlegame position the `PrototypeV1Engine` engine visits `25139` nodes and needs approximately 6 seconds on our machine. "
   ]
  },
  {
   "cell_type": "code",
   "execution_count": null,
   "metadata": {
    "tags": [
     "no-python-export"
    ]
   },
   "outputs": [],
   "source": [
    "import random\n",
    "import utils.min_max_tree\n",
    "import IPython.display\n",
    "from converted_notebooks.s09_minimax_engine import middlegame_board\n",
    "from converted_notebooks.s12_simplified_evaluation import incremental_simplified_evaluator\n",
    "from converted_notebooks.s14_prototype_v1 import PrototypeV1Engine\n",
    "\n",
    "random.seed(42)\n",
    "\n",
    "prototype_v1_engine = PrototypeV1Engine(\n",
    "    evaluator=incremental_simplified_evaluator, max_look_ahead_depth=4\n",
    ")\n",
    "\n",
    "%timeit prototype_v1_engine.play(middlegame_board)"
   ]
  },
  {
   "cell_type": "code",
   "execution_count": null,
   "metadata": {},
   "outputs": [],
   "source": [
    "tree = utils.min_max_tree.add_tree_to_engine(prototype_v1_engine)\n",
    "prototype_v1_engine.play(middlegame_board)\n",
    "tree.count()"
   ]
  },
  {
   "cell_type": "markdown",
   "metadata": {},
   "source": [
    "One of the key reasons to do iterative deepening in the first place, is to make use of the results from previous iterations. Provided a good evaluation function is used, a reasonable assumption is that the evaluation of each move won't change much if it's analysed one depth further. This information can be used to sort moves in the next iteration. Alpha Beta pruning leads to the best results if the best move is searched first, therefore we sort the moves according to their score. \n",
    "\n",
    "The `_value` method will use a helper function `_get_moves` to get a sorted list of moves rather than `board.legal_moves`. The helper method takes the current board `board` and the depth `depth` as parameter and returns the list of all possible next moves, which are sorted by their value in the previous iteration. "
   ]
  },
  {
   "cell_type": "code",
   "execution_count": null,
   "metadata": {},
   "outputs": [],
   "source": [
    "from converted_notebooks.s11_iterative_deepening import cache_alpha_beta\n",
    "from converted_notebooks.s12_simplified_evaluation import DetailedMove\n",
    "from converted_notebooks.s14_prototype_v1 import PrototypeV1Engine\n",
    "import chess\n",
    "from chess.engine import PovScore\n",
    "\n",
    "\n",
    "class MoveOrderingEngine(PrototypeV1Engine):\n",
    "\n",
    "    @PrototypeV1Engine.depth_tracker\n",
    "    @cache_alpha_beta\n",
    "    def _value(\n",
    "        self, board: chess.Board, depth: int, alpha: int, beta: int\n",
    "    ) -> PovScore:\n",
    "        if (score := self.evaluator.evaluate(board)) is not None:\n",
    "            return score\n",
    "        if depth == 0:\n",
    "            return self._quiescence(board, alpha, beta)\n",
    "\n",
    "        for move in self._get_moves(board, depth):\n",
    "            detailedMove = DetailedMove(board, move)\n",
    "\n",
    "            self.evaluator.push(detailedMove)\n",
    "            board.push(move)\n",
    "            value = self._value(board, depth - 1, -beta,\n",
    "                                -alpha).pov(not board.turn)\n",
    "            board.pop()\n",
    "            self.evaluator.pop()\n",
    "\n",
    "            if value >= beta:\n",
    "                return PovScore(value, board.turn)\n",
    "            alpha = max(alpha, value)\n",
    "\n",
    "        return PovScore(alpha, board.turn)\n",
    "\n",
    "    def _get_moves(self, board: chess.Board, depth: int):\n",
    "        cached_moves = []\n",
    "        uncached_moves = []\n",
    "        for move in board.legal_moves:\n",
    "            board.push(move)\n",
    "            cache_key = self.cache.get_key(board)\n",
    "            board.pop()\n",
    "\n",
    "            try:\n",
    "                # depth - 2 as we are looking at one move further and at the previous iteration with depth - 1\n",
    "                _, value = self.cache.load_cache(cache_key, depth - 2)\n",
    "                cached_moves.append((value.relative, move))\n",
    "            except KeyError:\n",
    "                uncached_moves.append(move)\n",
    "\n",
    "        cached_moves.sort(reverse=False, key=lambda x: x[0])\n",
    "        return [cached_move[1] for cached_move in cached_moves] + uncached_moves"
   ]
  },
  {
   "cell_type": "markdown",
   "metadata": {},
   "source": [
    "If we ran the same analyse as before with the new defined engine, then the number of nodes drastically decreases from `25139` to `12911`. Unfortunately, due to the overhead of the added code, the time decreased only by approximately 1.5 seconds from `6` seconds to `4.5` seconds on our machine. Nevertheless, this is still a huge improvement."
   ]
  },
  {
   "cell_type": "code",
   "execution_count": null,
   "metadata": {
    "tags": [
     "no-python-export"
    ]
   },
   "outputs": [],
   "source": [
    "import random\n",
    "import utils.min_max_tree\n",
    "import IPython.display\n",
    "from converted_notebooks.s09_minimax_engine import middlegame_board\n",
    "\n",
    "random.seed(42)\n",
    "\n",
    "move_ordering_engine = MoveOrderingEngine(\n",
    "    evaluator=incremental_simplified_evaluator, max_look_ahead_depth=4\n",
    ")\n",
    "\n",
    "%timeit move_ordering_engine.play(middlegame_board)"
   ]
  },
  {
   "cell_type": "code",
   "execution_count": null,
   "metadata": {},
   "outputs": [],
   "source": [
    "tree = utils.min_max_tree.add_tree_to_engine(move_ordering_engine)\n",
    "move_ordering_engine.play(middlegame_board)\n",
    "tree.count()"
   ]
  },
  {
   "cell_type": "markdown",
   "metadata": {},
   "source": [
    "Sorting every move according to their score implies that the [principal variation](https://www.chessprogramming.org/Principal_Variation), therefore best line in the previous iteration, is searched first. Furthermore, at Cut Nodes the move that lead to the cut in the previous iteration, also called [refutation move](https://www.chessprogramming.org/Refutation_Move), is searched first as well. These are the two most important move criteria according to [the chessprogramming wiki](https://www.chessprogramming.org/Move_Ordering#Typical_move_ordering). The only downside of the current approach is that the best move or refutation move is not already stored in the transposition table. Changing this wouldn't improve the number of visited nodes, but the time needed to visit one node."
   ]
  },
  {
   "cell_type": "markdown",
   "metadata": {},
   "source": [
    "Next, another look should be taken on the `quiescence search`. We can calculate how many nodes are visited in the quiescence search. With `513446` the number of nodes spent in the quiescence search is by factor 40 higher than in the normal alpha beta search. This doesn't mean though that it is not worth it to optimize the `_value` function, quite the opposite is true. Every node visited less in the `_value` function will lead to a huge decrease of nodes in the `quiescence` search. Nonetheless, it might be still useful to try to optimize `_quiescence` as well."
   ]
  },
  {
   "cell_type": "code",
   "execution_count": null,
   "metadata": {
    "tags": [
     "no-python-export"
    ]
   },
   "outputs": [],
   "source": [
    "import random\n",
    "import utils.min_max_tree\n",
    "import IPython.display\n",
    "from converted_notebooks.s09_minimax_engine import middlegame_board\n",
    "\n",
    "random.seed(42)\n",
    "\n",
    "move_ordering_engine = MoveOrderingEngine(\n",
    "    evaluator=incremental_simplified_evaluator, max_look_ahead_depth=4\n",
    ")\n",
    "\n",
    "tree = utils.min_max_tree.add_tree_to_engine(move_ordering_engine)\n",
    "move_ordering_engine.play(middlegame_board)\n",
    "print(tree.count(quiesce=True))"
   ]
  },
  {
   "cell_type": "markdown",
   "metadata": {},
   "source": [
    "We define a new class `QuiescenceMoveOrderingEngine` which inherits from `MoveOrderingEngine`. The constructor has one more parameter `use_static_exchange_evaluation` to determine if the more exact, but also more expensive static exchange evaluation should be used or not. The `_quiescence` method uses a helper method `_get_quiescence_detailed_moves` to get all moves that should be checked in sorted order. Optimizations like delta pruning or static exchange evaluation are moved into that function as well. "
   ]
  },
  {
   "cell_type": "code",
   "execution_count": null,
   "metadata": {},
   "outputs": [],
   "source": [
    "from converted_notebooks.s12_simplified_evaluation import IncrementalEvaluator\n",
    "from chess.engine import Score, PovScore\n",
    "\n",
    "\n",
    "class QuiescenceMoveOrderingEngine(MoveOrderingEngine):\n",
    "\n",
    "    def __init__(\n",
    "        self,\n",
    "        evaluator: IncrementalEvaluator,\n",
    "        max_look_ahead_depth,\n",
    "        use_static_exchange_evaluation=False\n",
    "    ):\n",
    "        super().__init__(evaluator, max_look_ahead_depth)\n",
    "        self.use_static_exchange_evaluation = use_static_exchange_evaluation\n",
    "\n",
    "    @PrototypeV1Engine.depth_tracker\n",
    "    def _quiescence(self, board: chess.Board, alpha: Score, beta: Score) -> int:\n",
    "        stand_pat = self.evaluator.get_score().relative\n",
    "\n",
    "        if stand_pat >= beta:\n",
    "            return PovScore(beta, board.turn)\n",
    "        alpha = max(alpha, stand_pat)\n",
    "\n",
    "        for detailed_move in self._get_quiescence_detailed_moves(\n",
    "            board, stand_pat, alpha, beta\n",
    "        ):\n",
    "            self.evaluator.push(detailed_move)\n",
    "            board.push(detailed_move.move)\n",
    "            value = self._quiescence(board, -beta, -alpha).pov(not board.turn)\n",
    "            board.pop()\n",
    "            self.evaluator.pop()\n",
    "\n",
    "            if value.is_mate():\n",
    "                value = self._rise_mate(value)\n",
    "\n",
    "            if value >= beta:\n",
    "                return PovScore(value, board.turn)\n",
    "            alpha = max(alpha, value)\n",
    "        return PovScore(alpha, board.turn)"
   ]
  },
  {
   "cell_type": "markdown",
   "metadata": {},
   "source": [
    "The new `_get_quiescence_detailed_moves` method takes the board `board`, the standing pat `stand_pat` and the alpha and beta value `alpha` and `beta` as parameters and returns a sorted list of next moves. As before, only captures are considered and some of these are pruned by delta pruning or static exchange evaluation. The moves are sorted by [MVV-LVA](https://www.chessprogramming.org/MVV-LVA), which stands for most valuable victim - least valuable attacker. Therefore, the moves are first sorted by the most valuable captured piece and in case of an equal captured piece then sorted by the least valuable attacker."
   ]
  },
  {
   "cell_type": "code",
   "execution_count": null,
   "metadata": {},
   "outputs": [],
   "source": [
    "def _get_quiescence_detailed_moves(\n",
    "    self, board: chess.Board, stand_pat: int, alpha: int, beta: int\n",
    ") -> list[chess.Move]:\n",
    "    moves = []\n",
    "    for move in board.generate_legal_captures():\n",
    "        detailedMove = DetailedMove(board, move)\n",
    "\n",
    "        capturedPieceValue = self.evaluator.piece_values[\n",
    "            detailedMove.capturedPiece.piece.piece_type]\n",
    "\n",
    "        movedPieceValue = self.evaluator.piece_values[\n",
    "            detailedMove.movedPiece.piece.piece_type]\n",
    "\n",
    "        if move.promotion is None:\n",
    "            if self._can_delta_prune(stand_pat, alpha, capturedPieceValue):\n",
    "                continue\n",
    "\n",
    "            if self._bad_capture(\n",
    "                board, detailedMove, capturedPieceValue, movedPieceValue\n",
    "            ):\n",
    "                continue\n",
    "\n",
    "        moves.append((capturedPieceValue, movedPieceValue, detailedMove))\n",
    "\n",
    "    # Oder by MVV-LVA (most valuable victim first, least valuable attacker second)\n",
    "    moves.sort(reverse=True, key=lambda x: (x[0], -x[1]))\n",
    "\n",
    "    return [move[2] for move in moves]\n",
    "\n",
    "\n",
    "QuiescenceMoveOrderingEngine._get_quiescence_detailed_moves = _get_quiescence_detailed_moves"
   ]
  },
  {
   "cell_type": "markdown",
   "metadata": {},
   "source": [
    "The method `_can_delta_prune` has been rewritten to use the value of the captured piece that was already calculated in `_get_quiescence_detailed_moves` by taking it as a parameter."
   ]
  },
  {
   "cell_type": "code",
   "execution_count": null,
   "metadata": {},
   "outputs": [],
   "source": [
    "from chess.engine import Cp\n",
    "\n",
    "\n",
    "def _can_delta_prune(\n",
    "    self, stand_pat: Score, alpha: Score, captured_piece_value: int\n",
    "):\n",
    "    POTENTIAL_POSITION_ADVANTAGE = 200\n",
    "    best_alpha = Cp(\n",
    "        stand_pat.score() + captured_piece_value + POTENTIAL_POSITION_ADVANTAGE\n",
    "    )\n",
    "    return best_alpha < alpha\n",
    "\n",
    "\n",
    "QuiescenceMoveOrderingEngine._can_delta_prune = _can_delta_prune"
   ]
  },
  {
   "cell_type": "markdown",
   "metadata": {},
   "source": [
    "Instead of directly calling `_see_capture` in `_get_quiescence_detailed_moves` another method `_bad_capture` is called first, which returns a boolean indicating if the move should be skipped. It takes a board `board`, the detailed move `detailed_move` and the information about the value of the captured and moved piece as parameters `captured_piece_value` and `moved_piece_value`. It first checks whether we could lose any material. If this is not the case, the move is not classified as bad. If static exchange evaluation is disabled, we consider moves where we could lose material only as not bad if the captured piece is actually not defended at all. If static exchange evaluation is enabled we use this to check the left captures the same way as before. The method `_see_capture` was rewritten as well to accept `captured_piece_value` and `moved_piece_value` as parameters."
   ]
  },
  {
   "cell_type": "code",
   "execution_count": null,
   "metadata": {},
   "outputs": [],
   "source": [
    "def _bad_capture(\n",
    "    self,\n",
    "    board: chess.Board,\n",
    "    detailed_move: DetailedMove,\n",
    "    captured_piece_value: int,\n",
    "    moved_piece_value: int\n",
    "):\n",
    "    value = captured_piece_value - moved_piece_value\n",
    "    if value >= 0:\n",
    "        return False\n",
    "\n",
    "    if self.use_static_exchange_evaluation:\n",
    "        return self._see_capture(\n",
    "            board, detailed_move, captured_piece_value, moved_piece_value\n",
    "        ) < 0\n",
    "    return board.is_attacked_by(\n",
    "        not board.turn, detailed_move.placedPiece.square\n",
    "    )\n",
    "\n",
    "\n",
    "QuiescenceMoveOrderingEngine._bad_capture = _bad_capture\n",
    "\n",
    "\n",
    "def _see_capture(\n",
    "    self,\n",
    "    board: chess.Board,\n",
    "    detailed_move: DetailedMove,\n",
    "    captured_piece_value: int,\n",
    "    moved_piece_value: int\n",
    ") -> int:\n",
    "    board.push(detailed_move.move)\n",
    "    value = captured_piece_value - self._see(\n",
    "        board, detailed_move.placedPiece.square\n",
    "    )\n",
    "    board.pop()\n",
    "    return value\n",
    "\n",
    "\n",
    "QuiescenceMoveOrderingEngine._see_capture = _see_capture"
   ]
  },
  {
   "cell_type": "markdown",
   "metadata": {},
   "source": [
    "A test of the engine with static exchange evaluation enabled shows that the number of visited nodes is decreased from `513446` to `468023`, so approximately 10% of the nodes are saved. The time slightly decreased by a quarter second to `4.25` seconds."
   ]
  },
  {
   "cell_type": "code",
   "execution_count": null,
   "metadata": {
    "tags": [
     "no-python-export"
    ]
   },
   "outputs": [],
   "source": [
    "import random\n",
    "from converted_notebooks.s09_minimax_engine import middlegame_board\n",
    "from converted_notebooks.s12_simplified_evaluation import incremental_simplified_evaluator\n",
    "\n",
    "random.seed(42)\n",
    "\n",
    "quiescence_move_ordering_engine = QuiescenceMoveOrderingEngine(\n",
    "    evaluator=incremental_simplified_evaluator,\n",
    "    max_look_ahead_depth=4,\n",
    "    use_static_exchange_evaluation=True\n",
    ")\n",
    "\n",
    "%timeit quiescence_move_ordering_engine.play(middlegame_board)"
   ]
  },
  {
   "cell_type": "code",
   "execution_count": null,
   "metadata": {},
   "outputs": [],
   "source": [
    "import utils.min_max_tree\n",
    "\n",
    "tree = utils.min_max_tree.add_tree_to_engine(quiescence_move_ordering_engine)\n",
    "quiescence_move_ordering_engine.play(middlegame_board)\n",
    "print(tree.count(quiesce=True))"
   ]
  },
  {
   "cell_type": "markdown",
   "metadata": {},
   "source": [
    "With static exchange evaluation disabled the number of visited nodes decreases to `319376`, because more nodes have been pruned by the simpler metric. The time decreases drastically to `2.85` seconds. This is not only because of the fewer nodes, but also because the simple metric is faster to calculate. The downside is that potential good moves are not evaluated anymore."
   ]
  },
  {
   "cell_type": "code",
   "execution_count": null,
   "metadata": {},
   "outputs": [],
   "source": [
    "import random\n",
    "from converted_notebooks.s09_minimax_engine import middlegame_board\n",
    "from converted_notebooks.s12_simplified_evaluation import incremental_simplified_evaluator\n",
    "\n",
    "random.seed(42)\n",
    "\n",
    "quiescence_move_ordering_engine = QuiescenceMoveOrderingEngine(\n",
    "    evaluator=incremental_simplified_evaluator,\n",
    "    max_look_ahead_depth=4,\n",
    "    use_static_exchange_evaluation=False\n",
    ")\n",
    "\n",
    "%timeit quiescence_move_ordering_engine.play(middlegame_board)"
   ]
  },
  {
   "cell_type": "code",
   "execution_count": null,
   "metadata": {},
   "outputs": [],
   "source": [
    "import utils.min_max_tree\n",
    "\n",
    "tree = utils.min_max_tree.add_tree_to_engine(quiescence_move_ordering_engine)\n",
    "quiescence_move_ordering_engine.play(middlegame_board)\n",
    "print(tree.count(quiesce=True))"
   ]
  },
  {
   "cell_type": "markdown",
   "metadata": {},
   "source": [
    "The static exchange evaluation can be improved further though regarding its speed. Currently, it uses the expensive `push` and `pop` calls of the board. It is possible to only remove the capturing piece. For this to work, the board needs to be copied first, so no piece is permanently removed be the method. Then it's necessary to keep track of the captured piece and side to turn to correctly calculate the static evaluation score. One downside of this optimized function is that it ignores some chess rules in regard of performance. For instance, it is not checked whether a piece might be pinned and therefore cannot capture. But as static exchange evaluation is only an estimation, this is a trade off that can be done."
   ]
  },
  {
   "cell_type": "code",
   "execution_count": null,
   "metadata": {},
   "outputs": [],
   "source": [
    "class OptimizedQuiescenceMoveOrderingEngine(QuiescenceMoveOrderingEngine):\n",
    "\n",
    "    def _see_capture(\n",
    "        self,\n",
    "        original_board: chess.Board,\n",
    "        detailed_move: DetailedMove,\n",
    "        captured_piece_value: int,\n",
    "        moved_piece_value: int\n",
    "    ) -> int:\n",
    "        board = original_board.copy(stack=False)\n",
    "\n",
    "        board.remove_piece_at(detailed_move.movedPiece.square)\n",
    "        value = captured_piece_value - self._see(\n",
    "            board,\n",
    "            detailed_move.placedPiece.square,\n",
    "            moved_piece_value,\n",
    "            not board.turn\n",
    "        )\n",
    "        return value\n",
    "\n",
    "    def _see(\n",
    "        self,\n",
    "        board: chess.Board,\n",
    "        square: chess.Square,\n",
    "        attacked_piece_value: int,\n",
    "        turn: chess.Color\n",
    "    ) -> int:\n",
    "        attackers = [\n",
    "            (square, self.evaluator.piece_values[board.piece_type_at(square)])\n",
    "            for square in board.attackers(turn, square)\n",
    "        ]\n",
    "        if not attackers:\n",
    "            return 0\n",
    "\n",
    "        attacker_square, attacker_piece_value = min(attackers, key=lambda x: x[1])\n",
    "\n",
    "        board.remove_piece_at(attacker_square)\n",
    "        value = max(\n",
    "            0,\n",
    "            attacked_piece_value -\n",
    "            self._see(board, square, attacker_piece_value, not turn)\n",
    "        )\n",
    "        return value"
   ]
  },
  {
   "cell_type": "markdown",
   "metadata": {},
   "source": [
    "A test shows that the time decreased from about `4.25` seconds to `3.45` seconds on our machine."
   ]
  },
  {
   "cell_type": "code",
   "execution_count": null,
   "metadata": {},
   "outputs": [],
   "source": [
    "import random\n",
    "from converted_notebooks.s09_minimax_engine import middlegame_board\n",
    "from converted_notebooks.s12_simplified_evaluation import incremental_simplified_evaluator\n",
    "\n",
    "random.seed(42)\n",
    "\n",
    "optimized_quiescence_move_ordering_engine = OptimizedQuiescenceMoveOrderingEngine(\n",
    "    evaluator=incremental_simplified_evaluator,\n",
    "    max_look_ahead_depth=4,\n",
    "    use_static_exchange_evaluation=True\n",
    ")\n",
    "\n",
    "%timeit optimized_quiescence_move_ordering_engine.play(middlegame_board)"
   ]
  },
  {
   "cell_type": "markdown",
   "metadata": {},
   "source": [
    "# Principal Variation Search"
   ]
  },
  {
   "cell_type": "markdown",
   "metadata": {},
   "source": [
    "The last enhancement we implement is a new search algorithm. The idea behind the [principle variation search (PVS)](https://www.chessprogramming.org/Principal_Variation_Search) is that we use move ordering and thus the first move we analyse is most likely already the best one. Therefore, we don't fully analyse the other moves, but check first with a quicker test if our assumption is true. We use a [null window](https://www.chessprogramming.org/Null_Window) for this. This means we set `alpha` to `beta - 1`. The consequence of this is first that there will be more cutoffs and the search is generally faster. But we never get an exact score from such a search, we only know if the current move is better or worse than our current best move. If the current move is actually better, another search with the normal window is necessary to find the exact score. So PVS can actually be slower because of the test and the following research if we don't pick a good move as the first move.\n",
    "\n",
    "We start by defining a new class."
   ]
  },
  {
   "cell_type": "code",
   "execution_count": null,
   "metadata": {},
   "outputs": [],
   "source": [
    "class PrincipalVariationSearch(QuiescenceMoveOrderingEngine):\n",
    "    pass"
   ]
  },
  {
   "cell_type": "markdown",
   "metadata": {},
   "source": [
    "Next a method `_zero_width_search` is defined to perform the zero width search. It has the same signature as `_value` except that it only has `beta` and no `alpha` value. Alpha is derived from beta with `alpha = beta - 1`. The rest of the implementation is very similar to `_value` except that we don't need to keep track of the current best score. If any score would increase `alpha` it would as a consequence directly cause a beta cutoff."
   ]
  },
  {
   "cell_type": "code",
   "execution_count": null,
   "metadata": {},
   "outputs": [],
   "source": [
    "@PrototypeV1Engine.depth_tracker\n",
    "def _zero_width_search(\n",
    "    self, board: chess.Board, depth: int, beta: Score\n",
    ") -> PovScore:\n",
    "    if beta.is_mate():\n",
    "        alpha = beta.increased_mate(1)\n",
    "    else:\n",
    "        alpha = Cp(beta.score() - 1)\n",
    "\n",
    "    if (score := self.evaluator.evaluate(board)) is not None:\n",
    "        return self._adjust_mate(score)\n",
    "    if depth == 0:\n",
    "        return self._quiescence(board, alpha, beta)\n",
    "\n",
    "    for move in board.generate_legal_moves():\n",
    "        detailedMove = DetailedMove(board, move)\n",
    "\n",
    "        self.evaluator.push(detailedMove)\n",
    "        board.push(move)\n",
    "        value = self._zero_width_search(board, depth - 1,\n",
    "                                        -alpha).pov(not board.turn)\n",
    "        board.pop()\n",
    "        self.evaluator.pop()\n",
    "\n",
    "        if value >= beta:\n",
    "            return PovScore(value, board.turn)\n",
    "    return PovScore(alpha, board.turn)\n",
    "\n",
    "\n",
    "PrincipalVariationSearch._zero_width_search = _zero_width_search"
   ]
  },
  {
   "cell_type": "markdown",
   "metadata": {},
   "source": [
    "The `_value` does a full search for every move until one move raises alpha. For the other moves a zero width search is done. If any move would actually raise alpha, a full research needs to be done."
   ]
  },
  {
   "cell_type": "code",
   "execution_count": null,
   "metadata": {},
   "outputs": [],
   "source": [
    "from converted_notebooks.s11_iterative_deepening import cache_alpha_beta\n",
    "from converted_notebooks.s12_simplified_evaluation import DetailedMove\n",
    "from converted_notebooks.s14_prototype_v1 import PrototypeV1Engine\n",
    "\n",
    "\n",
    "@PrototypeV1Engine.depth_tracker\n",
    "@cache_alpha_beta\n",
    "def _value(\n",
    "    self, board: chess.Board, depth: int, alpha: Score, beta: Score\n",
    ") -> PovScore:\n",
    "    if (score := self.evaluator.evaluate(board)) is not None:\n",
    "        return self._adjust_mate(score)\n",
    "    if depth == 0:\n",
    "        return self._quiescence(board, alpha, beta)\n",
    "\n",
    "    search_principal_variation = True\n",
    "    for move in self._get_moves(board, depth):\n",
    "        detailedMove = DetailedMove(board, move)\n",
    "\n",
    "        self.evaluator.push(detailedMove)\n",
    "        board.push(move)\n",
    "\n",
    "        if search_principal_variation:\n",
    "            value = self._value(board, depth - 1, -beta,\n",
    "                                -alpha).pov(not board.turn)\n",
    "        else:\n",
    "            value = self._zero_width_search(board, depth - 1,\n",
    "                                            -alpha).pov(not board.turn)\n",
    "            if alpha < value < beta:\n",
    "                value = self._value(board, depth - 1, -beta,\n",
    "                                    -alpha).pov(not board.turn)\n",
    "\n",
    "        board.pop()\n",
    "        self.evaluator.pop()\n",
    "\n",
    "        if value >= beta:\n",
    "            return PovScore(value, board.turn)\n",
    "\n",
    "        if value > alpha:\n",
    "            alpha = value\n",
    "            search_principal_variation = False\n",
    "\n",
    "    return PovScore(alpha, board.turn)\n",
    "\n",
    "\n",
    "PrincipalVariationSearch._value = _value"
   ]
  },
  {
   "cell_type": "markdown",
   "metadata": {},
   "source": [
    "The engine with static exchange evaluation disabled now only needs `1.75` seconds instead of `2.85` seconds."
   ]
  },
  {
   "cell_type": "code",
   "execution_count": null,
   "metadata": {
    "tags": [
     "no-python-export"
    ]
   },
   "outputs": [],
   "source": [
    "import random\n",
    "import utils.min_max_tree\n",
    "import IPython.display\n",
    "from converted_notebooks.s09_minimax_engine import middlegame_board\n",
    "from converted_notebooks.s12_simplified_evaluation import incremental_simplified_evaluator\n",
    "\n",
    "random.seed(42)\n",
    "\n",
    "principal_variation_search_engine = PrincipalVariationSearch(\n",
    "    evaluator=incremental_simplified_evaluator,\n",
    "    max_look_ahead_depth=4,\n",
    "    use_static_exchange_evaluation=False\n",
    ")\n",
    "\n",
    "%timeit principal_variation_search_engine.play(middlegame_board)"
   ]
  },
  {
   "cell_type": "markdown",
   "metadata": {},
   "source": [
    "With static exchange evaluation enabled the engine needs `2.8` seconds instead of `3.45` seconds."
   ]
  },
  {
   "cell_type": "code",
   "execution_count": null,
   "metadata": {},
   "outputs": [],
   "source": [
    "principal_variation_search_engine = PrincipalVariationSearch(\n",
    "    evaluator=incremental_simplified_evaluator,\n",
    "    max_look_ahead_depth=4,\n",
    "    use_static_exchange_evaluation=True\n",
    ")\n",
    "\n",
    "%timeit principal_variation_search_engine.play(middlegame_board)"
   ]
  }
 ],
 "metadata": {
  "language_info": {
   "codemirror_mode": {
    "name": "ipython"
   },
   "file_extension": ".py",
   "mimetype": "text/x-python",
   "name": "python",
   "nbconvert_exporter": "python"
  },
  "vscode": {
   "interpreter": {
    "hash": "c356581f63fdb862d21b8530e2fecebf3d406a06e3d3208273931edc8a0b30c1"
   }
  }
 },
 "nbformat": 4,
 "nbformat_minor": 2
}
