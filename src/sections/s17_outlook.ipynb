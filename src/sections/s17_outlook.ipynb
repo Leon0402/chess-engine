{
 "cells": [
  {
   "cell_type": "code",
   "execution_count": null,
   "metadata": {},
   "outputs": [],
   "source": [
    "from IPython.core.display import HTML\n",
    "with open('style.css') as file:\n",
    "    css = file.read()\n",
    "HTML(css)\n",
    "\n",
    "# Autload python modules by default\n",
    "%load_ext autoreload\n",
    "%autoreload 2\n",
    "\n",
    "# Convert notebooks to python, so they can be loaded effiently\n",
    "from utils.jupyer_loader import JupyerLoader\n",
    "\n",
    "loader = JupyerLoader()\n",
    "loader.load_all()"
   ]
  },
  {
   "cell_type": "markdown",
   "metadata": {},
   "source": [
    "# Outlook\n",
    "\n",
    "Work in progress"
   ]
  },
  {
   "cell_type": "markdown",
   "metadata": {},
   "source": [
    "Sample position shows problems of quiescence search to detect forks. Black is able to threat another piece (with a higer value). The engine is not able to see the line, where White saves its rook and afterwards wins a minor piece through the fork.\n",
    "The Quiescence search could theoretically detect such cases. But ultimatively this will increase search space again and it's unclear if this would boost or decrese the engine strength in total."
   ]
  },
  {
   "cell_type": "code",
   "execution_count": null,
   "metadata": {},
   "outputs": [],
   "source": [
    "import IPython.display\n",
    "from converted_notebooks.s12_simplified_evaluation import incremental_simplified_evaluator\n",
    "from converted_notebooks.s14_prototype_v1 import PrototypeV1Engine\n",
    "import utils.min_max_tree\n",
    "import chess\n",
    "\n",
    "board = chess.Board(\n",
    "    \"r1bq1rk1/ppp2ppp/2nb4/1B6/3PP3/5N2/P4PPP/R1BQ1RK1 b - - 0 10\"\n",
    ")\n",
    "board.push(chess.Move.from_uci(\"c8e6\"))\n",
    "board.push(chess.Move.from_uci(\"d4d5\"))\n",
    "# board.push(chess.Move.from_uci(\"d8f6\"))\n",
    "IPython.display.display(board)\n",
    "\n",
    "engine = PrototypeV1Engine(\n",
    "    evaluator=incremental_simplified_evaluator, max_look_ahead_depth=1\n",
    ")\n",
    "\n",
    "tree = utils.min_max_tree.add_tree_to_engine(engine)\n",
    "print(engine.analyse(board))\n",
    "tree.draw(moves=[chess.Move.from_uci(\"d8f6\")], depth=1)\n",
    "# moves=[board.push(chess.Move.from_uci(\"d5c6\"))])"
   ]
  },
  {
   "cell_type": "code",
   "execution_count": null,
   "metadata": {},
   "outputs": [],
   "source": [
    "from converted_notebooks.s14_prototype_v1 import PrototypeV1Engine\n",
    "from converted_notebooks.s12_simplified_evaluation import incremental_simplified_evaluator\n",
    "\n",
    "engine = PrototypeV1Engine(\n",
    "    evaluator=incremental_simplified_evaluator, max_look_ahead_depth=1\n",
    ")\n",
    "\n",
    "print(type(engine).__name__)"
   ]
  }
 ],
 "metadata": {
  "language_info": {
   "codemirror_mode": {
    "name": "ipython"
   },
   "file_extension": ".py",
   "mimetype": "text/x-python",
   "name": "python",
   "nbconvert_exporter": "python"
  },
  "vscode": {
   "interpreter": {
    "hash": "b42f3920614829e661a3e80085f50421aa71f403bff6adf1f40efa6d26183877"
   }
  }
 },
 "nbformat": 4,
 "nbformat_minor": 2
}
